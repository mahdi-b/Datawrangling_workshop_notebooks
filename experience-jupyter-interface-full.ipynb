{
 "cells": [
  {
   "cell_type": "markdown",
   "id": "ecd993ff",
   "metadata": {},
   "source": [
    "# 2. Jupyter Notebook Interface"
   ]
  },
  {
   "cell_type": "markdown",
   "id": "19c57161",
   "metadata": {},
   "source": [
    "\n",
    "## Questions\n",
    "\n",
    "* Describe the Jupyter Notebook Interface.\n",
    "* Introduce the various basic cell types\n",
    "* Demonstrate how notebooks deal with code blocks and the concept of restarting the kernel."
   ]
  },
  {
   "cell_type": "markdown",
   "id": "46027f49",
   "metadata": {},
   "source": [
    "## Notebook Basics\n",
    "The button above will take you to the associated binder website for this lesson. When you load up the binder webpage you should be presented with a site that looks something like the image below.\n",
    "\n",
    "![](https://change-hi.github.io/morea/data-wrangling/fig/E2_1_basic_binder.png)\n"
   ]
  },
  {
   "cell_type": "markdown",
   "id": "0d5b78d3",
   "metadata": {},
   "source": [
    "## Cell Types\n",
    "\n",
    "Cells are the base unit in Jupyter notebooks. A notebook is essentially just a collection of cells of different types. In Jupyter notebooks there are three primary types of cells:\n",
    "\n",
    "* Code cells: treat everything typed inside them as code. When they are “run” they will run the code they find inside them\n",
    "* Markdown cells: treat everything typed inside them as markdown. When they are “run” they will format the text inside them based on jupyter markdown\n",
    "* Raw cells: treat everything inside them as raw text. If you “run” these cells nothing will happen. \n",
    "\n",
    "If you double click the jupiter notebook called “experience-jupyter-interface-full.ipynb” that can be found in the file browser side tab you * To open an existing notebook, double click on the “notebook” directory in the file browser.\n",
    "  * This directory contains all the Jupyter notebooks associated with this lesson\n",
    "* To create a new notebook, click on the “Python 3” box beneath the Notebook label. The button is next to the arrow labeled “Create new Jupyter Notebook”.  This will create a Jupyter notebook called “Untitled.ipynb” with a single blank cell. Once you click on on the Python 3 button under the notebook label you will be presented with a new screen which will look something like the image below (note that the image has been cropped to reduce space).\n",
    "\n",
    "![](https://change-hi.github.io/morea/data-wrangling/fig/E2_2_new_notebook.png)\n",
    "\n",
    "This notebook is blank except for a single cell. This blank cell is a code cell that you can type in. For example if you type in some python code like print(\"This is a code cell\") and then click the run button you will see the output appear beneath the cell.will be presented with a notebook that already has some cells filled in. Underneath the header “Cell Types” you will find three different cells that each correspond to one type of cell. You can select the top cell and then click the run button three times to run all three cells of these cells."
   ]
  },
  {
   "cell_type": "markdown",
   "id": "13d9c7d4",
   "metadata": {},
   "source": [
    "## Editing Cells\n",
    "\n",
    "You can edit a cell by clicking on the cell and type in the desired text or code. For markdown cells you will need to double click on the cell area in order revert it back into a editable format. A cell is editable when its outline or side bar is green.\n",
    "\n"
   ]
  },
  {
   "cell_type": "markdown",
   "id": "a76f8bee",
   "metadata": {},
   "source": [
    "## Running Cells\n",
    "Markdown and raw cells can be edited and run repeatedly without much issue. However, when editing code blocks you have to be more careful. When you run a code cell you are running that piece of code. Even if you delete or edit the code block after running it the changes it made will remain until the Kernel is restarted.\n",
    "\n",
    "A good way to think about code cell execution in a notebook is that you are essentially copy pasting the code cell into a python console. The image below gives a visual example of this with the notebook cells on the left, and a python code that does the same set of commands on the right. You can try running the cells found in the left image by looking for the header “Editing Cells” in the Binder notebook “02-jupyter-notebook-interface.ipynb”.\n",
    "\n",
    "![](https://change-hi.github.io/morea/data-wrangling/fig/E2_4_running_code.png)|\n",
    "\n",
    "You can also execute the code or markdown of a selected cell (outline or side bar in blue or green) by pressing `Shift+Return`. You will see that the action performed after running a cell is different for each of the cells.\n",
    "\n",
    "\n",
    "![](https://change-hi.github.io/morea/data-wrangling/fig/E2_3_cell_types.png)\n"
   ]
  },
  {
   "cell_type": "markdown",
   "id": "5df4f128",
   "metadata": {},
   "source": [
    "## Editing Cells In Inconsistent Order\n",
    "Given the following notebook state:\n",
    "\n",
    "![](https://change-hi.github.io/morea/data-wrangling/fig/E2_4_running_code.png)\n",
    "\n",
    "Rerunning the two bottom cells containing the code a = a + 2 and print(a). This will be reflected as a fifth and sixth command executed in the python console. You can see this reflected in the Python console below where the same commands have been issued in the same order. So despite the fact that we only have four cells of python we have executed 6 cells worth of code.\n",
    "\n",
    "![](https://change-hi.github.io/morea/data-wrangling/fig/E2_5_rerunning_code.png)\n",
    "\n",
    "Leaving your notebook in an inconsistent state, where execution numbers are not consecutive, can obscure what your code cells are doing and make it difficult for anyone reading your notebook to rerun your analysis accurately. As such, you should always rerun the code form the top by using the menu option `Kernel ->  Restart and Run All`\n",
    "\n"
   ]
  },
  {
   "cell_type": "markdown",
   "id": "5120efa0",
   "metadata": {},
   "source": [
    "### Jupyter Notebook Cheatsheet\n",
    "\n",
    "The image below is a cheatsheet of some of the buttons not discussed in this lesson that might be good to know for the future. Feel free to come back to it if you are confused later on.\n",
    "\n",
    "![](https://change-hi.github.io/morea/data-wrangling/fig/E2_6_cheatsheet.png)\n"
   ]
  },
  {
   "cell_type": "markdown",
   "id": "029aec5c",
   "metadata": {},
   "source": [
    "## Key Points\n",
    "\n",
    "* A Jupyter notebook is divided into cells that are either code, markdown, or raw.\n",
    "* Cells can be \"run\" leading to either the execution of code or formatting of markdown depending on the cell type.\n",
    "* Code cells can be rerun in any order, but to avoid overwhelming the reader, share your notebooks with output in sequential order."
   ]
  },
  {
   "cell_type": "markdown",
   "id": "fbc5fdd3-913d-4b65-a3b7-ecc6e53e371f",
   "metadata": {},
   "source": [
    "### 1 - Exercise: \n",
    "\n",
    "Let's create a `mass_converter` using a few cells below:\n",
    "* Create a single `markdown` cell that introduces your `mass_converter`\n",
    "  * `\"Hello! This is a tool for converting kilograms to pounds :)\"`\n",
    "* Then create a single `code` cell with your kilograms to pounds function\n",
    "  * `1 kg = 2.20462 lbs`\n",
    "* In a second `code` cell, use your `mass_converter` to convert 100lbs to kgs"
   ]
  },
  {
   "cell_type": "code",
   "execution_count": null,
   "id": "02d59eb9-ff24-4d79-8ab1-b723ec8818bf",
   "metadata": {},
   "outputs": [],
   "source": []
  },
  {
   "cell_type": "code",
   "execution_count": null,
   "id": "bf0a0382-8789-4d78-8c8e-e8d29cfd52af",
   "metadata": {},
   "outputs": [],
   "source": []
  },
  {
   "cell_type": "code",
   "execution_count": null,
   "id": "becc24d7-1c7e-4587-892c-9ba1986e796f",
   "metadata": {},
   "outputs": [],
   "source": []
  },
  {
   "cell_type": "code",
   "execution_count": null,
   "id": "dd29fd5a-0ca6-495e-8321-ed262fece8b6",
   "metadata": {},
   "outputs": [],
   "source": []
  },
  {
   "cell_type": "code",
   "execution_count": null,
   "id": "848a0f15-1cbc-488d-8c17-2d9a3ba7bd61",
   "metadata": {},
   "outputs": [],
   "source": []
  },
  {
   "cell_type": "code",
   "execution_count": null,
   "id": "11e91be8-40e6-4102-9a47-7c6bb62994a3",
   "metadata": {},
   "outputs": [],
   "source": []
  },
  {
   "cell_type": "code",
   "execution_count": null,
   "id": "0ee2e22f-dab8-4e83-a107-e1c2d092b52a",
   "metadata": {},
   "outputs": [],
   "source": []
  },
  {
   "cell_type": "code",
   "execution_count": null,
   "id": "6833b9c7-0a05-4b3c-88b4-e3f3a8feaa10",
   "metadata": {},
   "outputs": [],
   "source": []
  },
  {
   "cell_type": "code",
   "execution_count": null,
   "id": "e46cfb77-a022-4c8a-865e-76de1c4b2d36",
   "metadata": {},
   "outputs": [],
   "source": []
  },
  {
   "cell_type": "code",
   "execution_count": null,
   "id": "20495a3b-9be3-4d27-b442-1817571b6a3c",
   "metadata": {},
   "outputs": [],
   "source": []
  },
  {
   "cell_type": "markdown",
   "id": "f6f7dbb7-5d05-42f2-abea-be82181f8643",
   "metadata": {},
   "source": [
    "## Solutions"
   ]
  },
  {
   "cell_type": "markdown",
   "id": "e5fbffe0-49f8-4f58-b178-bc3ca6071f4b",
   "metadata": {},
   "source": [
    "### Exercise 1:\n",
    "\n",
    "\"Hello! This is a tool for converting kilograms to pounds :)\""
   ]
  },
  {
   "cell_type": "code",
   "execution_count": 5,
   "id": "83307b77-9178-4eae-a58b-f7670262dc15",
   "metadata": {},
   "outputs": [],
   "source": [
    "def mass_converter(lbs):\n",
    "    return lbs * 2.20462"
   ]
  },
  {
   "cell_type": "code",
   "execution_count": 6,
   "id": "faa188e8-d5de-4709-9d2a-354f9a500f87",
   "metadata": {},
   "outputs": [
    {
     "data": {
      "text/plain": [
       "220.462"
      ]
     },
     "execution_count": 6,
     "metadata": {},
     "output_type": "execute_result"
    }
   ],
   "source": [
    "mass_converter(100)"
   ]
  }
 ],
 "metadata": {
  "kernelspec": {
   "display_name": "Python 3 (ipykernel)",
   "language": "python",
   "name": "python3"
  },
  "language_info": {
   "codemirror_mode": {
    "name": "ipython",
    "version": 3
   },
   "file_extension": ".py",
   "mimetype": "text/x-python",
   "name": "python",
   "nbconvert_exporter": "python",
   "pygments_lexer": "ipython3",
   "version": "3.9.13"
  }
 },
 "nbformat": 4,
 "nbformat_minor": 5
}
