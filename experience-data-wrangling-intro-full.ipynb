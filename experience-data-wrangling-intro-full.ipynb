{
 "cells": [
  {
   "cell_type": "markdown",
   "id": "96df7fee",
   "metadata": {},
   "source": [
    "# 1. Data Wrangling Introduction\n"
   ]
  },
  {
   "cell_type": "markdown",
   "id": "60d10e3b",
   "metadata": {},
   "source": [
    "## Overview\n",
    "\n",
    "### Questions\n",
    "\n",
    "* Why are Jupyter notebooks useful for cleaning and wrangling data?\n",
    "\n",
    "#### Objectives\n",
    "\n",
    "* Understand how Jupyter notebooks provide a method of documenting the steps involved in cleaning and wrangling data."
   ]
  },
  {
   "cell_type": "markdown",
   "id": "424f7b0f",
   "metadata": {},
   "source": [
    "##  Why should I care about this?\n",
    "\n",
    "If you have ever worked with a set of data in an Excel spreadsheet, Google sheet or CSV file you have probably had to modify that data in some manner to use it. You probably have needed to add or remove columns and rows or do some summations or different arithmetic functions to the data. Excel and Google sheets work just fine for simple data. But what do you do when you have thousands of rows (instances) of data? Or what if you have a bunch of the same type of dataset and your want to apply the same steps to each dataset or repeat this in the future? Manually doing this work doesn’t scale nor is what you did reproducible or easily shareable.\n",
    "\n",
    "Jupyter notebooks provide a solution to this problem, allowing you to scale, automate, document, and reproduce  the  comptutation. They also provide a method by which you can test newer sections of your analysis as you move from having some initial data to an analysis product.\n",
    "\n",
    "Here you will learn the basics of utilizing jupyter notebooks by using Python and a library called [Pandas](https://pandas.pydata.org/). The Pandas library provides various bells and whistles for both cleaning and analyzing your data. However, since it is built on top of Python a basic understanding of the Python programming language is required. Through these tools you will learn how to analyze a raw dataset by cleaning it up and formatting it so that it can be used for further analysis or other workflows."
   ]
  },
  {
   "cell_type": "markdown",
   "id": "0b0919ae",
   "metadata": {},
   "source": [
    "## What this Workshop Does not Cover\n",
    "\n",
    "* How to write basic python code\n",
    "* How to set up a notebook environment\n",
    "* How to run other programming languages e.g. R in jupyter notebooks"
   ]
  },
  {
   "cell_type": "markdown",
   "id": "aadf2fa6",
   "metadata": {},
   "source": [
    "## Notebook Programming Languages\n",
    "\n",
    "Notebooks provide an interactive and user-friendly environment for data analysis and visualization. Additionally, notebooks allow for clear documentation of the analysis process, including the code, results, and narrative. This results in increased reproducibility by allowing others to easily access and run the code used in the analysis. \n",
    "The flavor of notebooks we will be using here supports multiple programming languages, including Python, R, and Julia, making them versatile for a wide range of data science tasks. Jupyter notebook are widely used in data science and machine learning, making it easy to find resources and help online.\n"
   ]
  },
  {
   "cell_type": "markdown",
   "id": "06f10d6e",
   "metadata": {},
   "source": [
    "## Lesson Structure\n",
    "\n",
    "The structure for this lesson will require participants to run a jupyter notebook. In order to reduce the time required to get Jupyter notebooks setup and running we will be utilizing Binder (Link to Binder Website). Binder allows us to run a jupyter notebook using a predefined environment and github repository right from our browser. For this lesson we have already setup a binder notebook that links to the github repository for this lesson. There will also be link at the top of each page to the Binder website for this lesson."
   ]
  },
  {
   "cell_type": "markdown",
   "id": "1599a9c8",
   "metadata": {},
   "source": [
    "## Key Points\n",
    "\n",
    "Notebooks help connect the code for cleaning and wrangling data to the documentation explaining what is being done and why."
   ]
  }
 ],
 "metadata": {
  "kernelspec": {
   "display_name": "Python 3 (ipykernel)",
   "language": "python",
   "name": "python3"
  },
  "language_info": {
   "codemirror_mode": {
    "name": "ipython",
    "version": 3
   },
   "file_extension": ".py",
   "mimetype": "text/x-python",
   "name": "python",
   "nbconvert_exporter": "python",
   "pygments_lexer": "ipython3",
   "version": "3.9.13"
  }
 },
 "nbformat": 4,
 "nbformat_minor": 5
}
