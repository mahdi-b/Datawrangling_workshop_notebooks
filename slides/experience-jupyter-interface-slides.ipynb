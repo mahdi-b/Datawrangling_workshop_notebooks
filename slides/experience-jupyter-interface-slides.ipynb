{
 "cells": [
  {
   "cell_type": "markdown",
   "id": "96a47a26",
   "metadata": {
    "slideshow": {
     "slide_type": "slide"
    }
   },
   "source": [
    "# 2. Jupyter Notebook Interface"
   ]
  },
  {
   "cell_type": "markdown",
   "id": "c4b94d19",
   "metadata": {
    "slideshow": {
     "slide_type": "slide"
    }
   },
   "source": [
    "\n",
    "### Questions\n",
    "\n",
    "* Describe the Jupyter Notebook Interface.\n",
    "* Introduce the various basic cell types\n",
    "* Demonstrate how notebooks deal with code blocks and the concept of restarting the kernel.\n",
    "\n",
    "### Objectives\n",
    "\n",
    "* Getting familiar with Jupyter Lab interface."
   ]
  },
  {
   "cell_type": "markdown",
   "id": "1835f77b",
   "metadata": {
    "slideshow": {
     "slide_type": "slide"
    }
   },
   "source": [
    "## Notebook Basics\n",
    "* The Jupytr Lab interface after opening Binder link at the top.\n",
    "\n",
    "<img src=\"https://change-hi.github.io/morea/data-wrangling/fig/E2_1_basic_binder.png\" width='500'>\n"
   ]
  },
  {
   "cell_type": "markdown",
   "id": "69ff8972",
   "metadata": {
    "slideshow": {
     "slide_type": "slide"
    }
   },
   "source": [
    "## Creating a New Notebook\n",
    "* Notebook interface\n",
    "  * New (emtpy) notebook\n",
    "\n",
    "![](https://change-hi.github.io/morea/data-wrangling/fig/E2_2_new_notebook.png)\n",
    "\n"
   ]
  },
  {
   "cell_type": "markdown",
   "id": "ab9e9f42",
   "metadata": {
    "slideshow": {
     "slide_type": "slide"
    }
   },
   "source": [
    "## Cell Types\n",
    "\n",
    "* Code cells: contain code in the language supported by the \"Kernel\"\n",
    "\n",
    "* Markdown cells: treat everything typed inside them as markdown. Do also support \"web\" (HTML by default and Java scrtipt with special tags)\n",
    "\n",
    "* Raw cells: treat everything inside them as raw text. \n",
    "  * Rarely if ever used. \n",
    "\n",
    "* Can change the cell type using the dropdown menu\n",
    " \n",
    "![](https://change-hi.github.io/morea/data-wrangling/fig/E2_2_new_notebook.png)\n",
    "\n"
   ]
  },
  {
   "cell_type": "markdown",
   "id": "cf70a90c",
   "metadata": {
    "slideshow": {
     "slide_type": "slide"
    }
   },
   "source": [
    "## Editing Cells\n",
    "\n",
    "* Click on a code cell to edit\n",
    "  * Clicking once turns the cell outline or the side bar green. \n",
    "* Double click on a markdown cell to edit\n",
    "  * Clicking once turns the cell outline or the side bar blue \n",
    "  * Clicking twice turns the cell outline or the side bar green \n",
    "\n",
    "\n"
   ]
  },
  {
   "cell_type": "markdown",
   "id": "78c80641",
   "metadata": {
    "slideshow": {
     "slide_type": "slide"
    }
   },
   "source": [
    "## Running Cells\n",
    "\n",
    "* You can also execute the code or markdown of a selected cell (outline or side bar in blue or green) by clicking the run button (triangle icon)\n",
    "\n",
    "  * You can also use the convenient `Shift+Return` shortcut. \n",
    "\n",
    "* Running a markdown cell is said to render the text\n",
    "* Running a code cell is said to execute the code\n",
    "<img src=\"https://change-hi.github.io/morea/data-wrangling/fig/E2_3_cell_types.png\" width=\"70%\">\n"
   ]
  },
  {
   "cell_type": "markdown",
   "id": "17d017f1",
   "metadata": {
    "slideshow": {
     "slide_type": "slide"
    }
   },
   "source": [
    "## Editing Cells - Cont'd\n",
    "* Executed cells diplay their output below and have a unique execution number\n",
    " * Execution number defines the execution order.\n",
    "\n",
    "<img src=\"https://change-hi.github.io/morea/data-wrangling/fig/E2_4_running_code.png\" width=\"80%\">\n",
    "\n",
    "\n"
   ]
  },
  {
   "cell_type": "markdown",
   "id": "42d1d24f",
   "metadata": {
    "slideshow": {
     "slide_type": "slide"
    }
   },
   "source": [
    "## Editing Cells In Inconsistent Order\n",
    "\n",
    "* Cells can be edits and re-executed in any order at any time.\n",
    "\n",
    "<img src=\"https://change-hi.github.io/morea/data-wrangling/fig/E2_5_rerunning_code.png\" width=\"80%\">\n",
    "\n",
    "* Non-consecutive or inconsistant execution can impact transparency and reproducibility.\n",
    " * Try to always rerun the code form the top by using the menu option `Kernel ->  Restart and Run All`\n"
   ]
  },
  {
   "cell_type": "markdown",
   "id": "68e61912",
   "metadata": {
    "slideshow": {
     "slide_type": "slide"
    }
   },
   "source": [
    "### Jupyter Notebook Cheatsheet\n",
    "\n",
    "The image below is a cheatsheet of some of the buttons not discussed in this lesson that might be good to know for the future. Feel free to come back to it if you are confused later on.\n",
    "\n",
    "![](https://change-hi.github.io/morea/data-wrangling/fig/E2_6_cheatsheet.png)\n"
   ]
  },
  {
   "cell_type": "markdown",
   "id": "9fa18de4",
   "metadata": {
    "slideshow": {
     "slide_type": "slide"
    }
   },
   "source": [
    "### Key Points\n",
    "\n",
    "* A Jupyter notebook is divided into cells that are either code, markdown, or raw.\n",
    "* Cells can be \"run\" leading to either the execution of code or formatting of markdown depending on the cell type.\n",
    "* Code cells can be rerun in any order, but to avoid overwhelming the reader, share your notebooks with output in sequential order."
   ]
  }
 ],
 "metadata": {
  "celltoolbar": "Slideshow",
  "kernelspec": {
   "display_name": "Python 3 (ipykernel)",
   "language": "python",
   "name": "python3"
  },
  "language_info": {
   "codemirror_mode": {
    "name": "ipython",
    "version": 3
   },
   "file_extension": ".py",
   "mimetype": "text/x-python",
   "name": "python",
   "nbconvert_exporter": "python",
   "pygments_lexer": "ipython3",
   "version": "3.9.15"
  }
 },
 "nbformat": 4,
 "nbformat_minor": 5
}
