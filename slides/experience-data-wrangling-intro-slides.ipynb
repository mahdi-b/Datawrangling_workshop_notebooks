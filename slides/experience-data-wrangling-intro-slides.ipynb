{
 "cells": [
  {
   "cell_type": "markdown",
   "id": "e9aac589-39d3-43e3-a152-1b0cb6bec21d",
   "metadata": {
    "slideshow": {
     "slide_type": "slide"
    }
   },
   "source": [
    "# 1. Data Wrangling Introduction\n"
   ]
  },
  {
   "cell_type": "markdown",
   "id": "5639e42c",
   "metadata": {
    "slideshow": {
     "slide_type": "slide"
    }
   },
   "source": [
    "## Overview\n",
    "\n",
    "### Questions\n",
    "\n",
    "* Why are Jupyter notebooks useful for cleaning and wrangling data?\n",
    "\n",
    "### Objectives\n",
    "\n",
    "* Understand how Jupyter notebooks provide a method of documenting the steps involved in cleaning and wrangling data."
   ]
  },
  {
   "cell_type": "markdown",
   "id": "56b33460",
   "metadata": {
    "slideshow": {
     "slide_type": "slide"
    }
   },
   "source": [
    "##  Why Pandas and Jupyter Notebooks\n",
    "\n",
    "* Reproducibility and transparency in scientific research are essential for building trust and confidence in the results, promoting scientific integrity and advancing knowledge.\n",
    "  \n",
    "* Python and the Pandas library a source of powerful functions for cleaning, formatting and analyzing data in a clear and systematic way.\n",
    "  \n",
    "* Jupyter notebooks provide a solution for documenting and sharing Notebooks\n",
    "  * You can weave in code, images, videos, latex, JavaScript widgets, etc.\n",
    "\n",
    "* Python, Pandas and Jupyter notebooks promote transparency and reproducibility in data analysis.\n",
    " "
   ]
  },
  {
   "cell_type": "markdown",
   "id": "26bf380a-aac3-4947-83c1-dc594405b813",
   "metadata": {
    "slideshow": {
     "slide_type": "slide"
    }
   },
   "source": [
    "## What this Workshop Does not Cover\n",
    "\n",
    "* How to write basic python code\n",
    "* How to set up a notebook environment\n",
    "* How to run other programming languages e.g. R in jupyter notebooks\n"
   ]
  },
  {
   "cell_type": "markdown",
   "id": "3df3d3bd",
   "metadata": {
    "slideshow": {
     "slide_type": "slide"
    }
   },
   "source": [
    "## Jupyter Notebooks\n",
    "\n",
    "* Jupyter notebooks provide an interactive and user-friendly environment for data analysis and visualization\n",
    "* They allow for clear documentation of the analysis process, including the code, results, and narrative\n",
    "* They enable reproducibility and facilitate collaboration\n",
    "* They support multiple programming languages, including Python, R, and Julia, making them versatile for a wide range of data science tasks\n",
    "* They are widely used in data science and machine learning, making it easy to find resources and help online."
   ]
  },
  {
   "cell_type": "markdown",
   "id": "34f9fa5a",
   "metadata": {
    "slideshow": {
     "slide_type": "slide"
    }
   },
   "source": [
    "## Lesson Logistics\n",
    "\n",
    "* We will be using SAGE3 to run each lesson and complete the exercises\n",
    "* Participants will form groups of 4 and work together in separate `Boards`\n",
    "* Binder allows us to run a Jupyter Notebook instance from the link included in each lesson.\n"
   ]
  },
  {
   "cell_type": "markdown",
   "id": "3940b1ff-baea-47e8-985e-b589e13cbc9e",
   "metadata": {
    "slideshow": {
     "slide_type": "slide"
    }
   },
   "source": [
    "## Using SAGE3 and Binder: A Brief Demo\n"
   ]
  }
 ],
 "metadata": {
  "celltoolbar": "Slideshow",
  "kernelspec": {
   "display_name": "Python 3 (ipykernel)",
   "language": "python",
   "name": "python3"
  },
  "language_info": {
   "codemirror_mode": {
    "name": "ipython",
    "version": 3
   },
   "file_extension": ".py",
   "mimetype": "text/x-python",
   "name": "python",
   "nbconvert_exporter": "python",
   "pygments_lexer": "ipython3",
   "version": "3.9.15"
  }
 },
 "nbformat": 4,
 "nbformat_minor": 5
}
