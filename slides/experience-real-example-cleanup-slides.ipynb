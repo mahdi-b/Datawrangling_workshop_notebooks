{
 "cells": [
  {
   "cell_type": "markdown",
   "id": "driving-kuwait",
   "metadata": {
    "pycharm": {
     "name": "#%% md\n"
    },
    "slideshow": {
     "slide_type": "slide"
    }
   },
   "source": [
    "# 6- Cleaning Real Data"
   ]
  },
  {
   "cell_type": "markdown",
   "id": "815e41e0-d5c2-4f1a-a69f-74bf495c0393",
   "metadata": {
    "pycharm": {
     "name": "#%% md\n"
    },
    "slideshow": {
     "slide_type": "slide"
    }
   },
   "source": [
    "**Questions**\n",
    "* How do you clean an example dataset?\n",
    "* How do you deal with missing data?\n",
    "* How do you fix column type mismatches?\n",
    "\n",
    "**Objectives**\n",
    "* Clean an example dataset using previously described concepts and some new ones.\n"
   ]
  },
  {
   "cell_type": "markdown",
   "id": "441e1dba-a88a-4dbc-b002-200d08d60991",
   "metadata": {
    "pycharm": {
     "name": "#%% md\n"
    },
    "slideshow": {
     "slide_type": "slide"
    }
   },
   "source": [
    "## Cleaning Real Data: HOT Data\n",
    "\n",
    "* Data from the Hawaiian Ocean Time-Series [(HOT)](https://hahana.soest.hawaii.edu/hot/hot-dogs/). \n",
    "  * Data collected since 1988 from station ALOHA located just North of Oahu.\n",
    "\n",
    "<img src=\"https://www.soest.hawaii.edu/HOT_WOCE/img/map1image-rev2.png\" width=\"45%\"> \n"
   ]
  },
  {
   "cell_type": "markdown",
   "id": "3b24904c-aa8d-4329-8132-e654b63d122c",
   "metadata": {
    "pycharm": {
     "name": "#%% md\n"
    },
    "slideshow": {
     "slide_type": "slide"
    }
   },
   "source": [
    "## Cleaning Real Data: HOT Data\n",
    "\n",
    "* Some of the environmental variables recorded are:\n",
    "\n",
    "| Column name     | Environmental Variable It Represents   |\n",
    "| --------------- | -------------------------------------- |\n",
    "| botid #         | Bottle ID                              |\n",
    "| date mmddyy     | Date                                   |\n",
    "| press dbar      | Pressure                               |\n",
    "| ....      | ...                               |\n",
    "\n",
    "* The dataset contains over 20,000 samples. \n",
    "* Dataset needs to be cleaned up. \n",
    "  * We will focus on simple yet useful operations to illustrate the process."
   ]
  },
  {
   "cell_type": "code",
   "execution_count": 5,
   "id": "proved-madonna",
   "metadata": {
    "pycharm": {
     "name": "#%%\n"
    },
    "slideshow": {
     "slide_type": "slide"
    }
   },
   "outputs": [
    {
     "data": {
      "text/html": [
       "<div>\n",
       "<style scoped>\n",
       "    .dataframe tbody tr th:only-of-type {\n",
       "        vertical-align: middle;\n",
       "    }\n",
       "\n",
       "    .dataframe tbody tr th {\n",
       "        vertical-align: top;\n",
       "    }\n",
       "\n",
       "    .dataframe thead th {\n",
       "        text-align: right;\n",
       "    }\n",
       "</style>\n",
       "<table border=\"1\" class=\"dataframe\">\n",
       "  <thead>\n",
       "    <tr style=\"text-align: right;\">\n",
       "      <th></th>\n",
       "      <th>botid #</th>\n",
       "      <th>date mmddyy</th>\n",
       "      <th>press dbar</th>\n",
       "      <th>temp ITS-90</th>\n",
       "      <th>csal PSS-78</th>\n",
       "      <th>coxy umol/kg</th>\n",
       "      <th>ph</th>\n",
       "      <th>phos umol/kg</th>\n",
       "      <th>nit umol/kg</th>\n",
       "      <th>doc umol/kg</th>\n",
       "      <th>hbact #*1e5/ml</th>\n",
       "      <th>pbact #*1e5/ml</th>\n",
       "      <th>sbact #*1e5/ml</th>\n",
       "      <th>no2 nmol/kg</th>\n",
       "      <th></th>\n",
       "    </tr>\n",
       "  </thead>\n",
       "  <tbody>\n",
       "    <tr>\n",
       "      <th>0</th>\n",
       "      <td>2190200124</td>\n",
       "      <td>30910</td>\n",
       "      <td>5.5</td>\n",
       "      <td>23.0629</td>\n",
       "      <td>35.2514</td>\n",
       "      <td>214.1</td>\n",
       "      <td>-9</td>\n",
       "      <td>0.10</td>\n",
       "      <td>0.03</td>\n",
       "      <td>-9</td>\n",
       "      <td>-9</td>\n",
       "      <td>-9</td>\n",
       "      <td>-9</td>\n",
       "      <td>-9</td>\n",
       "      <td>NaN</td>\n",
       "    </tr>\n",
       "    <tr>\n",
       "      <th>1</th>\n",
       "      <td>2190200123</td>\n",
       "      <td>30910</td>\n",
       "      <td>59.6</td>\n",
       "      <td>23.0670</td>\n",
       "      <td>35.2506</td>\n",
       "      <td>214.6</td>\n",
       "      <td>-9</td>\n",
       "      <td>0.11</td>\n",
       "      <td>0.06</td>\n",
       "      <td>-9</td>\n",
       "      <td>-9</td>\n",
       "      <td>-9</td>\n",
       "      <td>-9</td>\n",
       "      <td>-9</td>\n",
       "      <td>NaN</td>\n",
       "    </tr>\n",
       "    <tr>\n",
       "      <th>2</th>\n",
       "      <td>2190200122</td>\n",
       "      <td>30910</td>\n",
       "      <td>90.7</td>\n",
       "      <td>21.7697</td>\n",
       "      <td>35.1897</td>\n",
       "      <td>213.4</td>\n",
       "      <td>-9</td>\n",
       "      <td>0.12</td>\n",
       "      <td>0.08</td>\n",
       "      <td>-9</td>\n",
       "      <td>-9</td>\n",
       "      <td>-9</td>\n",
       "      <td>-9</td>\n",
       "      <td>-9</td>\n",
       "      <td>NaN</td>\n",
       "    </tr>\n",
       "    <tr>\n",
       "      <th>3</th>\n",
       "      <td>2190200121</td>\n",
       "      <td>30910</td>\n",
       "      <td>119.4</td>\n",
       "      <td>20.7957</td>\n",
       "      <td>35.1666</td>\n",
       "      <td>208.5</td>\n",
       "      <td>-9</td>\n",
       "      <td>0.15</td>\n",
       "      <td>0.50</td>\n",
       "      <td>-9</td>\n",
       "      <td>-9</td>\n",
       "      <td>-9</td>\n",
       "      <td>-9</td>\n",
       "      <td>-9</td>\n",
       "      <td>NaN</td>\n",
       "    </tr>\n",
       "    <tr>\n",
       "      <th>4</th>\n",
       "      <td>2190200120</td>\n",
       "      <td>30910</td>\n",
       "      <td>153.6</td>\n",
       "      <td>20.1517</td>\n",
       "      <td>35.2192</td>\n",
       "      <td>204.6</td>\n",
       "      <td>-9</td>\n",
       "      <td>0.15</td>\n",
       "      <td>1.15</td>\n",
       "      <td>-9</td>\n",
       "      <td>-9</td>\n",
       "      <td>-9</td>\n",
       "      <td>-9</td>\n",
       "      <td>-9</td>\n",
       "      <td>NaN</td>\n",
       "    </tr>\n",
       "  </tbody>\n",
       "</table>\n",
       "</div>"
      ],
      "text/plain": [
       "      botid #  date mmddyy  press dbar  temp ITS-90  csal PSS-78  \\\n",
       "0  2190200124        30910         5.5      23.0629      35.2514   \n",
       "1  2190200123        30910        59.6      23.0670      35.2506   \n",
       "2  2190200122        30910        90.7      21.7697      35.1897   \n",
       "3  2190200121        30910       119.4      20.7957      35.1666   \n",
       "4  2190200120        30910       153.6      20.1517      35.2192   \n",
       "\n",
       "   coxy umol/kg  ph  phos umol/kg  nit umol/kg  doc umol/kg  hbact #*1e5/ml  \\\n",
       "0         214.1  -9          0.10         0.03           -9              -9   \n",
       "1         214.6  -9          0.11         0.06           -9              -9   \n",
       "2         213.4  -9          0.12         0.08           -9              -9   \n",
       "3         208.5  -9          0.15         0.50           -9              -9   \n",
       "4         204.6  -9          0.15         1.15           -9              -9   \n",
       "\n",
       "   pbact #*1e5/ml  sbact #*1e5/ml  no2 nmol/kg      \n",
       "0              -9              -9           -9 NaN  \n",
       "1              -9              -9           -9 NaN  \n",
       "2              -9              -9           -9 NaN  \n",
       "3              -9              -9           -9 NaN  \n",
       "4              -9              -9           -9 NaN  "
      ]
     },
     "execution_count": 5,
     "metadata": {},
     "output_type": "execute_result"
    }
   ],
   "source": [
    "pd.read_csv(\"./data/hot_dogs_data.csv\", nrows=5)"
   ]
  },
  {
   "cell_type": "markdown",
   "id": "972fe622-bd52-426e-8d25-fb1ea7b4da6c",
   "metadata": {
    "pycharm": {
     "name": "#%% md\n"
    },
    "slideshow": {
     "slide_type": "slide"
    }
   },
   "source": [
    "### Data Issues\n",
    "\n",
    "* There are a lot of -9 values\n",
    "* Empty column\n",
    "* Date is incorrectly inferred (number instead of mmddyy)\n",
    "* Index should be \"botid #\" instead of the automatically generated integer value.\n",
    "* Column order inconvenient: Should start with `botid #` `date`, `ph`, etc...\n",
    "\n",
    "\n",
    "* How can we fix these issues?"
   ]
  },
  {
   "cell_type": "markdown",
   "id": "d6a379ee",
   "metadata": {
    "slideshow": {
     "slide_type": "slide"
    }
   },
   "source": [
    "### Exercises\n",
    "\n",
    "* Complete the 4 exercises in Notebook 6.\n",
    "  * We can answer individual question if any.\n"
   ]
  }
 ],
 "metadata": {
  "celltoolbar": "Slideshow",
  "kernelspec": {
   "display_name": "Python 3 (ipykernel)",
   "language": "python",
   "name": "python3"
  },
  "language_info": {
   "codemirror_mode": {
    "name": "ipython",
    "version": 3
   },
   "file_extension": ".py",
   "mimetype": "text/x-python",
   "name": "python",
   "nbconvert_exporter": "python",
   "pygments_lexer": "ipython3",
   "version": "3.9.13"
  }
 },
 "nbformat": 4,
 "nbformat_minor": 5
}
