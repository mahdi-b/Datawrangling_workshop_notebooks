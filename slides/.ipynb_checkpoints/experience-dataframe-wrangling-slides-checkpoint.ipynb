{
 "cells": [
  {
   "cell_type": "markdown",
   "id": "e2cec853",
   "metadata": {
    "slideshow": {
     "slide_type": "slide"
    }
   },
   "source": [
    "## 4. Wrangling DataFrames\n"
   ]
  },
  {
   "cell_type": "markdown",
   "id": "22ed9db7",
   "metadata": {
    "slideshow": {
     "slide_type": "slide"
    }
   },
   "source": [
    "\n",
    "### Questions\n",
    "* How can you select individual columns or rows from a `DataFrame`?\n",
    "* How can you subset a `DataFrame`?\n",
    "* How can you sort a `DataFrame`?\n",
    "\n",
    "### Objectives\n",
    "\n",
    "* Learn how to select specific columns or rows from a `DataFrame`.\n",
    "* Learn how to select rows based on conditions.\n",
    "* Learn how to sort a `DataFrame`’s rows or columns.\n"
   ]
  },
  {
   "cell_type": "markdown",
   "id": "6ff25b89",
   "metadata": {
    "slideshow": {
     "slide_type": "slide"
    }
   },
   "source": [
    "## What is Data Wrangling?\n",
    "\n",
    "```Data wrangling is the process of cleaning, transforming, and mapping data from various sources into a format that can be used for analysis or modeling. It involves various tasks such as handling missing or duplicate data, handling outliers, and combining data from different sources.```\n",
    "\n",
    "\n",
    "\n"
   ]
  },
  {
   "cell_type": "markdown",
   "id": "68ba96eb",
   "metadata": {
    "slideshow": {
     "slide_type": "slide"
    }
   },
   "source": [
    "### Subsetting, Selection and Sorting a DataFrame\n",
    "\n",
    "* Selecting, subsetting, and sorting are essential aspects of data wrangling.\n",
    "\n",
    "* Subsetting refers to extracting a portion of the data. For example,\n",
    "  * Extract only columns 1 and 2 of the `DataFrame`\n",
    "  * Give me only the rows with an even index (i.e., 2, 4, 6, ... )\n",
    "\n",
    "* Selecting consists of extracting rows based on some condition. For example,\n",
    "  * Give me all the value for which the temperature is larger than 20  \n",
    "  * Give me all samples that start with `ABC`, etc.\n",
    "\n",
    "  \n",
    "\n",
    "* Sorting consists of reordering data using either the index or the values of one or more columns.\n",
    "\n"
   ]
  },
  {
   "cell_type": "markdown",
   "id": "c48f2028",
   "metadata": {
    "slideshow": {
     "slide_type": "slide"
    }
   },
   "source": [
    "## Subsetting\n",
    "\n",
    "To illustrate subsetting, selection and sorting, we will be using the the following `DataFrame` stored in a value called `df`,\n",
    "![](https://change-hi.github.io/morea/data-wrangling/fig/E4_1_selection_dataframe.png)"
   ]
  },
  {
   "cell_type": "code",
   "execution_count": 2,
   "id": "d38f4534",
   "metadata": {
    "slideshow": {
     "slide_type": "slide"
    }
   },
   "outputs": [
    {
     "data": {
      "text/html": [
       "<div>\n",
       "<style scoped>\n",
       "    .dataframe tbody tr th:only-of-type {\n",
       "        vertical-align: middle;\n",
       "    }\n",
       "\n",
       "    .dataframe tbody tr th {\n",
       "        vertical-align: top;\n",
       "    }\n",
       "\n",
       "    .dataframe thead th {\n",
       "        text-align: right;\n",
       "    }\n",
       "</style>\n",
       "<table border=\"1\" class=\"dataframe\">\n",
       "  <thead>\n",
       "    <tr style=\"text-align: right;\">\n",
       "      <th></th>\n",
       "      <th>date mmddyy</th>\n",
       "      <th>press dbar</th>\n",
       "      <th>temp ITS-90</th>\n",
       "      <th>csal PSS-78</th>\n",
       "      <th>coxy umol/kg</th>\n",
       "      <th>ph</th>\n",
       "    </tr>\n",
       "    <tr>\n",
       "      <th>Sample ID</th>\n",
       "      <th></th>\n",
       "      <th></th>\n",
       "      <th></th>\n",
       "      <th></th>\n",
       "      <th></th>\n",
       "      <th></th>\n",
       "    </tr>\n",
       "  </thead>\n",
       "  <tbody>\n",
       "    <tr>\n",
       "      <th>Sample-1</th>\n",
       "      <td>40610</td>\n",
       "      <td>239.8</td>\n",
       "      <td>18.9625</td>\n",
       "      <td>35.0636</td>\n",
       "      <td>NaN</td>\n",
       "      <td>7.951</td>\n",
       "    </tr>\n",
       "    <tr>\n",
       "      <th>Sample-8</th>\n",
       "      <td>40610</td>\n",
       "      <td>497.8</td>\n",
       "      <td>7.1464</td>\n",
       "      <td>34.0424</td>\n",
       "      <td>110.7</td>\n",
       "      <td>7.496</td>\n",
       "    </tr>\n",
       "  </tbody>\n",
       "</table>\n",
       "</div>"
      ],
      "text/plain": [
       "           date mmddyy  press dbar  temp ITS-90  csal PSS-78  coxy umol/kg  \\\n",
       "Sample ID                                                                    \n",
       "Sample-1         40610       239.8      18.9625      35.0636           NaN   \n",
       "Sample-8         40610       497.8       7.1464      34.0424         110.7   \n",
       "\n",
       "              ph  \n",
       "Sample ID         \n",
       "Sample-1   7.951  \n",
       "Sample-8   7.496  "
      ]
     },
     "execution_count": 2,
     "metadata": {},
     "output_type": "execute_result"
    }
   ],
   "source": [
    "import pandas as pd \n",
    "df = pd.read_csv(\"data/selection_dataframe.csv\", index_col=\"Sample ID\")\n",
    "df.head(2)"
   ]
  },
  {
   "cell_type": "markdown",
   "id": "9a74c4cc",
   "metadata": {
    "slideshow": {
     "slide_type": "slide"
    }
   },
   "source": [
    "## Subsetting Columns\n",
    "\n",
    "* Selecting colums is trivial and follows the same notation as that used to with Python lists\n",
    "* Selecting the `‘ph’` can be written as:\n"
   ]
  },
  {
   "cell_type": "code",
   "execution_count": 3,
   "id": "f8c43988",
   "metadata": {
    "slideshow": {
     "slide_type": "slide"
    }
   },
   "outputs": [
    {
     "data": {
      "text/plain": [
       "Sample ID\n",
       "Sample-1    7.951\n",
       "Sample-8    7.496\n",
       "Sample-2      NaN\n",
       "Sample-4    7.780\n",
       "Sample-6      NaN\n",
       "Sample-5      NaN\n",
       "Sample-7      NaN\n",
       "Sample-3      NaN\n",
       "Name: ph, dtype: float64"
      ]
     },
     "execution_count": 3,
     "metadata": {},
     "output_type": "execute_result"
    }
   ],
   "source": [
    "df['ph']"
   ]
  },
  {
   "cell_type": "markdown",
   "id": "2556bea2",
   "metadata": {
    "slideshow": {
     "slide_type": "slide"
    }
   },
   "source": [
    "### Selecting Rows\n",
    "\n",
    "* Subsetting on rows uses the `.loc` or `.iloc` operators\n",
    "\n",
    "* Both `.loc` or `.iloc` require information abour the rows and column. \n",
    "\n",
    "* Example, to extract subset consisting of the row 0 and column 2,  we would write:\n",
    "\n",
    "```python\n",
    "df.iloc[0, 2]\n",
    "```"
   ]
  },
  {
   "cell_type": "code",
   "execution_count": 4,
   "id": "447edb2b",
   "metadata": {
    "slideshow": {
     "slide_type": "slide"
    }
   },
   "outputs": [
    {
     "data": {
      "text/plain": [
       "18.9625"
      ]
     },
     "execution_count": 4,
     "metadata": {},
     "output_type": "execute_result"
    }
   ],
   "source": [
    "df.iloc[0, 2]"
   ]
  },
  {
   "cell_type": "markdown",
   "id": "7e0b315a",
   "metadata": {
    "slideshow": {
     "slide_type": "slide"
    }
   },
   "source": [
    "### Subsetting format using `iloc`\n",
    "\n",
    "* In general, subsetting rows using `.loc` or `.iloc` can take of the following forms\n",
    "\n",
    "* `df.iloc[row_index(es), col_index(es)]`\n",
    " \n",
    "* As the notation indicates, we can provide a single or list of index.\n",
    "\n",
    "Example: \n",
    "\n",
    "```python\n",
    "df.iloc[1, 2]\n",
    "```\n",
    "\n",
    "\n",
    "\n"
   ]
  },
  {
   "cell_type": "code",
   "execution_count": 5,
   "id": "2d868742",
   "metadata": {
    "slideshow": {
     "slide_type": "slide"
    }
   },
   "outputs": [
    {
     "data": {
      "text/plain": [
       "7.1464"
      ]
     },
     "execution_count": 5,
     "metadata": {},
     "output_type": "execute_result"
    }
   ],
   "source": [
    "df.iloc[1, 2]"
   ]
  },
  {
   "cell_type": "code",
   "execution_count": 6,
   "id": "6dec26b9",
   "metadata": {
    "slideshow": {
     "slide_type": "slide"
    }
   },
   "outputs": [
    {
     "data": {
      "text/plain": [
       "press dbar     497.8000\n",
       "temp ITS-90      7.1464\n",
       "csal PSS-78     34.0424\n",
       "Name: Sample-8, dtype: float64"
      ]
     },
     "execution_count": 6,
     "metadata": {},
     "output_type": "execute_result"
    }
   ],
   "source": [
    "df.iloc[1, [1,2,3]]"
   ]
  },
  {
   "cell_type": "code",
   "execution_count": 7,
   "id": "8bcfaf86",
   "metadata": {
    "slideshow": {
     "slide_type": "slide"
    }
   },
   "outputs": [
    {
     "data": {
      "text/html": [
       "<div>\n",
       "<style scoped>\n",
       "    .dataframe tbody tr th:only-of-type {\n",
       "        vertical-align: middle;\n",
       "    }\n",
       "\n",
       "    .dataframe tbody tr th {\n",
       "        vertical-align: top;\n",
       "    }\n",
       "\n",
       "    .dataframe thead th {\n",
       "        text-align: right;\n",
       "    }\n",
       "</style>\n",
       "<table border=\"1\" class=\"dataframe\">\n",
       "  <thead>\n",
       "    <tr style=\"text-align: right;\">\n",
       "      <th></th>\n",
       "      <th>press dbar</th>\n",
       "      <th>temp ITS-90</th>\n",
       "      <th>csal PSS-78</th>\n",
       "    </tr>\n",
       "    <tr>\n",
       "      <th>Sample ID</th>\n",
       "      <th></th>\n",
       "      <th></th>\n",
       "      <th></th>\n",
       "    </tr>\n",
       "  </thead>\n",
       "  <tbody>\n",
       "    <tr>\n",
       "      <th>Sample-1</th>\n",
       "      <td>239.8</td>\n",
       "      <td>18.9625</td>\n",
       "      <td>35.0636</td>\n",
       "    </tr>\n",
       "    <tr>\n",
       "      <th>Sample-6</th>\n",
       "      <td>385.0</td>\n",
       "      <td>10.4636</td>\n",
       "      <td>34.1083</td>\n",
       "    </tr>\n",
       "    <tr>\n",
       "      <th>Sample-7</th>\n",
       "      <td>443.7</td>\n",
       "      <td>8.5897</td>\n",
       "      <td>34.0567</td>\n",
       "    </tr>\n",
       "  </tbody>\n",
       "</table>\n",
       "</div>"
      ],
      "text/plain": [
       "           press dbar  temp ITS-90  csal PSS-78\n",
       "Sample ID                                      \n",
       "Sample-1        239.8      18.9625      35.0636\n",
       "Sample-6        385.0      10.4636      34.1083\n",
       "Sample-7        443.7       8.5897      34.0567"
      ]
     },
     "execution_count": 7,
     "metadata": {},
     "output_type": "execute_result"
    }
   ],
   "source": [
    "df.iloc[[0,4,6], [1,2,3]]"
   ]
  },
  {
   "cell_type": "code",
   "execution_count": 8,
   "id": "10575a2e",
   "metadata": {
    "slideshow": {
     "slide_type": "slide"
    }
   },
   "outputs": [
    {
     "data": {
      "text/plain": [
       "date mmddyy     40610.0000\n",
       "press dbar        239.8000\n",
       "temp ITS-90        18.9625\n",
       "csal PSS-78        35.0636\n",
       "coxy umol/kg           NaN\n",
       "ph                  7.9510\n",
       "Name: Sample-1, dtype: float64"
      ]
     },
     "execution_count": 8,
     "metadata": {},
     "output_type": "execute_result"
    }
   ],
   "source": [
    "df.loc['Sample-1', df.columns]"
   ]
  },
  {
   "cell_type": "markdown",
   "id": "8933c988",
   "metadata": {
    "slideshow": {
     "slide_type": "slide"
    }
   },
   "source": [
    "### Subsetting format using `loc`\n",
    "\n",
    "* in general subsessing rows using `.loc` is written as\n",
    "\n",
    "* `df.loc[row_label(s), column_label(es)]`\n",
    "\n",
    "* As the notation indicates, we can provide a single or list of labels\n",
    "\n",
    "\n",
    "\n",
    "\n"
   ]
  },
  {
   "cell_type": "markdown",
   "id": "7a5c57c7-27ba-4728-9e2b-b380559042b3",
   "metadata": {
    "slideshow": {
     "slide_type": "slide"
    }
   },
   "source": [
    "###### INPUT\n",
    "```python\n",
    "df.loc['Sample-1', df.columns]\n",
    "```\n",
    "\n",
    "###### Output\n",
    "```\n",
    "date mmddyy     40610.0000\n",
    "press dbar        239.8000\n",
    "temp ITS-90        18.9625\n",
    "csal PSS-78        35.0636\n",
    "coxy umol/kg           NaN\n",
    "ph                  7.9510\n",
    "Name: Sample-1, dtype: float64\n",
    "```\n"
   ]
  },
  {
   "cell_type": "markdown",
   "id": "0c7fa633",
   "metadata": {
    "slideshow": {
     "slide_type": "slide"
    }
   },
   "source": [
    "### The `:` Operator In Python (Refresher)\n",
    "\n",
    "* In python the `:` operator is used for slicing ordered collections (e.g. lists).\n",
    "\n",
    "* \"`:`\" can optionally take left and right operators:\n",
    "  * `X:Y` means from X to and not including Y\n",
    "  * `X:` means from X to the end of the list\n",
    "  * `:Y` means form the beginning all the way to and not including Y\n",
    "  * `:` the entire collection"
   ]
  },
  {
   "cell_type": "code",
   "execution_count": 9,
   "id": "ad2d0783",
   "metadata": {
    "slideshow": {
     "slide_type": "slide"
    }
   },
   "outputs": [
    {
     "data": {
      "text/plain": [
       "['b', 'c', 'd']"
      ]
     },
     "execution_count": 9,
     "metadata": {},
     "output_type": "execute_result"
    }
   ],
   "source": [
    "x = ['a', 'b', 'c', 'd', 'e']\n",
    "x[1:4]\n"
   ]
  },
  {
   "cell_type": "code",
   "execution_count": 10,
   "id": "611568bc",
   "metadata": {
    "slideshow": {
     "slide_type": "slide"
    }
   },
   "outputs": [
    {
     "data": {
      "text/plain": [
       "['b', 'c', 'd', 'e']"
      ]
     },
     "execution_count": 10,
     "metadata": {},
     "output_type": "execute_result"
    }
   ],
   "source": [
    "x = ['a', 'b', 'c', 'd', 'e']\n",
    "x[1:]\n"
   ]
  },
  {
   "cell_type": "code",
   "execution_count": 11,
   "id": "573d8e07",
   "metadata": {
    "slideshow": {
     "slide_type": "slide"
    }
   },
   "outputs": [
    {
     "data": {
      "text/plain": [
       "['a', 'b', 'c', 'd', 'e']"
      ]
     },
     "execution_count": 11,
     "metadata": {},
     "output_type": "execute_result"
    }
   ],
   "source": [
    "x = ['a', 'b', 'c', 'd', 'e']\n",
    "x[:]"
   ]
  },
  {
   "cell_type": "code",
   "execution_count": 12,
   "id": "13d951ea",
   "metadata": {
    "slideshow": {
     "slide_type": "slide"
    }
   },
   "outputs": [
    {
     "data": {
      "text/plain": [
       "Index(['date mmddyy', 'press dbar', 'temp ITS-90', 'csal PSS-78',\n",
       "       'coxy umol/kg', 'ph'],\n",
       "      dtype='object')"
      ]
     },
     "execution_count": 12,
     "metadata": {},
     "output_type": "execute_result"
    }
   ],
   "source": [
    "df.columns"
   ]
  },
  {
   "cell_type": "markdown",
   "id": "40681c8c",
   "metadata": {
    "slideshow": {
     "slide_type": "slide"
    }
   },
   "source": [
    "### Indexing Using Slicing operator\n",
    "\n",
    "\n",
    "###### INPUT\n",
    "```python\n",
    "df.loc['Sample-1', :]\n",
    "```\n",
    "\n",
    "###### Output\n",
    "```\n",
    "date mmddyy     40610.0000\n",
    "press dbar        239.8000\n",
    "temp ITS-90        18.9625\n",
    "csal PSS-78        35.0636\n",
    "coxy umol/kg           NaN\n",
    "ph                  7.9510\n",
    "Name: Sample-1, dtype: float64\n",
    "```"
   ]
  },
  {
   "cell_type": "code",
   "execution_count": 13,
   "id": "24751345",
   "metadata": {
    "slideshow": {
     "slide_type": "slide"
    }
   },
   "outputs": [
    {
     "data": {
      "text/plain": [
       "date mmddyy     40610.0000\n",
       "press dbar        239.8000\n",
       "temp ITS-90        18.9625\n",
       "csal PSS-78        35.0636\n",
       "coxy umol/kg           NaN\n",
       "ph                  7.9510\n",
       "Name: Sample-1, dtype: float64"
      ]
     },
     "execution_count": 13,
     "metadata": {},
     "output_type": "execute_result"
    }
   ],
   "source": [
    "df.loc['Sample-1', :]"
   ]
  },
  {
   "cell_type": "markdown",
   "id": "d95e601f",
   "metadata": {
    "slideshow": {
     "slide_type": "slide"
    }
   },
   "source": [
    "### Difference Between `.loc` and `.iloc`\n",
    "\n",
    "Both used to subset of a `DataFrame`. \n",
    " * `.loc` relies on the names of the indexes and headers\n",
    " * `.iloc` relies instead on the index and header number \n",
    "\n",
    "* `df.loc['Sample-1', [\"date mmddyy\", \"ph\"]]` means row index by the label 'Sample-1' and columns \"date mmddyy\", \"ph\"\n",
    "\n",
    "* `df.iloc[0, [0,1,2]]` means row 0 and columns 0, 1 and 2\n",
    "\n",
    "* You cannot mix indexes and labels and the following is incorrect\n",
    "  * `df.iloc[0, [\"date mmddyy\", \"ph\"]]` returns error\n",
    "  * `df.iloc[0, df.columns]` returns error\n",
    "\n"
   ]
  },
  {
   "cell_type": "code",
   "execution_count": 14,
   "id": "6b95e0e1",
   "metadata": {
    "slideshow": {
     "slide_type": "slide"
    }
   },
   "outputs": [
    {
     "data": {
      "text/plain": [
       "date mmddyy    40610.000\n",
       "ph                 7.951\n",
       "Name: Sample-1, dtype: float64"
      ]
     },
     "execution_count": 14,
     "metadata": {},
     "output_type": "execute_result"
    }
   ],
   "source": [
    "df.loc['Sample-1', [\"date mmddyy\", \"ph\"]]"
   ]
  },
  {
   "cell_type": "code",
   "execution_count": 15,
   "id": "9b8d845c",
   "metadata": {
    "slideshow": {
     "slide_type": "slide"
    }
   },
   "outputs": [
    {
     "data": {
      "text/plain": [
       "date mmddyy    40610.0000\n",
       "press dbar       239.8000\n",
       "temp ITS-90       18.9625\n",
       "Name: Sample-1, dtype: float64"
      ]
     },
     "execution_count": 15,
     "metadata": {},
     "output_type": "execute_result"
    }
   ],
   "source": [
    "df.iloc[0, [0,1,2]]"
   ]
  },
  {
   "cell_type": "code",
   "execution_count": 16,
   "id": "f42aa28b",
   "metadata": {
    "slideshow": {
     "slide_type": "slide"
    }
   },
   "outputs": [
    {
     "ename": "IndexError",
     "evalue": ".iloc requires numeric indexers, got ['date mmddyy' 'press dbar' 'temp ITS-90' 'csal PSS-78' 'coxy umol/kg'\n 'ph']",
     "output_type": "error",
     "traceback": [
      "\u001b[0;31m---------------------------------------------------------------------------\u001b[0m",
      "\u001b[0;31mIndexError\u001b[0m                                Traceback (most recent call last)",
      "Cell \u001b[0;32mIn[16], line 2\u001b[0m\n\u001b[1;32m      1\u001b[0m \u001b[38;5;66;03m### The following should return an error.\u001b[39;00m\n\u001b[0;32m----> 2\u001b[0m \u001b[43mdf\u001b[49m\u001b[38;5;241;43m.\u001b[39;49m\u001b[43miloc\u001b[49m\u001b[43m[\u001b[49m\u001b[38;5;241;43m0\u001b[39;49m\u001b[43m,\u001b[49m\u001b[43m \u001b[49m\u001b[43mdf\u001b[49m\u001b[38;5;241;43m.\u001b[39;49m\u001b[43mcolumns\u001b[49m\u001b[43m]\u001b[49m\n",
      "File \u001b[0;32m~/miniconda3/envs/temp/lib/python3.9/site-packages/pandas/core/indexing.py:1067\u001b[0m, in \u001b[0;36m_LocationIndexer.__getitem__\u001b[0;34m(self, key)\u001b[0m\n\u001b[1;32m   1065\u001b[0m     \u001b[38;5;28;01mif\u001b[39;00m \u001b[38;5;28mself\u001b[39m\u001b[38;5;241m.\u001b[39m_is_scalar_access(key):\n\u001b[1;32m   1066\u001b[0m         \u001b[38;5;28;01mreturn\u001b[39;00m \u001b[38;5;28mself\u001b[39m\u001b[38;5;241m.\u001b[39mobj\u001b[38;5;241m.\u001b[39m_get_value(\u001b[38;5;241m*\u001b[39mkey, takeable\u001b[38;5;241m=\u001b[39m\u001b[38;5;28mself\u001b[39m\u001b[38;5;241m.\u001b[39m_takeable)\n\u001b[0;32m-> 1067\u001b[0m     \u001b[38;5;28;01mreturn\u001b[39;00m \u001b[38;5;28;43mself\u001b[39;49m\u001b[38;5;241;43m.\u001b[39;49m\u001b[43m_getitem_tuple\u001b[49m\u001b[43m(\u001b[49m\u001b[43mkey\u001b[49m\u001b[43m)\u001b[49m\n\u001b[1;32m   1068\u001b[0m \u001b[38;5;28;01melse\u001b[39;00m:\n\u001b[1;32m   1069\u001b[0m     \u001b[38;5;66;03m# we by definition only have the 0th axis\u001b[39;00m\n\u001b[1;32m   1070\u001b[0m     axis \u001b[38;5;241m=\u001b[39m \u001b[38;5;28mself\u001b[39m\u001b[38;5;241m.\u001b[39maxis \u001b[38;5;129;01mor\u001b[39;00m \u001b[38;5;241m0\u001b[39m\n",
      "File \u001b[0;32m~/miniconda3/envs/temp/lib/python3.9/site-packages/pandas/core/indexing.py:1563\u001b[0m, in \u001b[0;36m_iLocIndexer._getitem_tuple\u001b[0;34m(self, tup)\u001b[0m\n\u001b[1;32m   1561\u001b[0m \u001b[38;5;28;01mdef\u001b[39;00m \u001b[38;5;21m_getitem_tuple\u001b[39m(\u001b[38;5;28mself\u001b[39m, tup: \u001b[38;5;28mtuple\u001b[39m):\n\u001b[0;32m-> 1563\u001b[0m     tup \u001b[38;5;241m=\u001b[39m \u001b[38;5;28;43mself\u001b[39;49m\u001b[38;5;241;43m.\u001b[39;49m\u001b[43m_validate_tuple_indexer\u001b[49m\u001b[43m(\u001b[49m\u001b[43mtup\u001b[49m\u001b[43m)\u001b[49m\n\u001b[1;32m   1564\u001b[0m     \u001b[38;5;28;01mwith\u001b[39;00m suppress(IndexingError):\n\u001b[1;32m   1565\u001b[0m         \u001b[38;5;28;01mreturn\u001b[39;00m \u001b[38;5;28mself\u001b[39m\u001b[38;5;241m.\u001b[39m_getitem_lowerdim(tup)\n",
      "File \u001b[0;32m~/miniconda3/envs/temp/lib/python3.9/site-packages/pandas/core/indexing.py:873\u001b[0m, in \u001b[0;36m_LocationIndexer._validate_tuple_indexer\u001b[0;34m(self, key)\u001b[0m\n\u001b[1;32m    871\u001b[0m \u001b[38;5;28;01mfor\u001b[39;00m i, k \u001b[38;5;129;01min\u001b[39;00m \u001b[38;5;28menumerate\u001b[39m(key):\n\u001b[1;32m    872\u001b[0m     \u001b[38;5;28;01mtry\u001b[39;00m:\n\u001b[0;32m--> 873\u001b[0m         \u001b[38;5;28;43mself\u001b[39;49m\u001b[38;5;241;43m.\u001b[39;49m\u001b[43m_validate_key\u001b[49m\u001b[43m(\u001b[49m\u001b[43mk\u001b[49m\u001b[43m,\u001b[49m\u001b[43m \u001b[49m\u001b[43mi\u001b[49m\u001b[43m)\u001b[49m\n\u001b[1;32m    874\u001b[0m     \u001b[38;5;28;01mexcept\u001b[39;00m \u001b[38;5;167;01mValueError\u001b[39;00m \u001b[38;5;28;01mas\u001b[39;00m err:\n\u001b[1;32m    875\u001b[0m         \u001b[38;5;28;01mraise\u001b[39;00m \u001b[38;5;167;01mValueError\u001b[39;00m(\n\u001b[1;32m    876\u001b[0m             \u001b[38;5;124m\"\u001b[39m\u001b[38;5;124mLocation based indexing can only have \u001b[39m\u001b[38;5;124m\"\u001b[39m\n\u001b[1;32m    877\u001b[0m             \u001b[38;5;124mf\u001b[39m\u001b[38;5;124m\"\u001b[39m\u001b[38;5;124m[\u001b[39m\u001b[38;5;132;01m{\u001b[39;00m\u001b[38;5;28mself\u001b[39m\u001b[38;5;241m.\u001b[39m_valid_types\u001b[38;5;132;01m}\u001b[39;00m\u001b[38;5;124m] types\u001b[39m\u001b[38;5;124m\"\u001b[39m\n\u001b[1;32m    878\u001b[0m         ) \u001b[38;5;28;01mfrom\u001b[39;00m \u001b[38;5;21;01merr\u001b[39;00m\n",
      "File \u001b[0;32m~/miniconda3/envs/temp/lib/python3.9/site-packages/pandas/core/indexing.py:1477\u001b[0m, in \u001b[0;36m_iLocIndexer._validate_key\u001b[0;34m(self, key, axis)\u001b[0m\n\u001b[1;32m   1475\u001b[0m \u001b[38;5;66;03m# check that the key has a numeric dtype\u001b[39;00m\n\u001b[1;32m   1476\u001b[0m \u001b[38;5;28;01mif\u001b[39;00m \u001b[38;5;129;01mnot\u001b[39;00m is_numeric_dtype(arr\u001b[38;5;241m.\u001b[39mdtype):\n\u001b[0;32m-> 1477\u001b[0m     \u001b[38;5;28;01mraise\u001b[39;00m \u001b[38;5;167;01mIndexError\u001b[39;00m(\u001b[38;5;124mf\u001b[39m\u001b[38;5;124m\"\u001b[39m\u001b[38;5;124m.iloc requires numeric indexers, got \u001b[39m\u001b[38;5;132;01m{\u001b[39;00marr\u001b[38;5;132;01m}\u001b[39;00m\u001b[38;5;124m\"\u001b[39m)\n\u001b[1;32m   1479\u001b[0m \u001b[38;5;66;03m# check that the key does not exceed the maximum size of the index\u001b[39;00m\n\u001b[1;32m   1480\u001b[0m \u001b[38;5;28;01mif\u001b[39;00m \u001b[38;5;28mlen\u001b[39m(arr) \u001b[38;5;129;01mand\u001b[39;00m (arr\u001b[38;5;241m.\u001b[39mmax() \u001b[38;5;241m>\u001b[39m\u001b[38;5;241m=\u001b[39m len_axis \u001b[38;5;129;01mor\u001b[39;00m arr\u001b[38;5;241m.\u001b[39mmin() \u001b[38;5;241m<\u001b[39m \u001b[38;5;241m-\u001b[39mlen_axis):\n",
      "\u001b[0;31mIndexError\u001b[0m: .iloc requires numeric indexers, got ['date mmddyy' 'press dbar' 'temp ITS-90' 'csal PSS-78' 'coxy umol/kg'\n 'ph']"
     ]
    }
   ],
   "source": [
    "### The following should return an error.\n",
    "df.iloc[0, df.columns]"
   ]
  },
  {
   "cell_type": "markdown",
   "id": "2c0e7546",
   "metadata": {
    "slideshow": {
     "slide_type": "slide"
    }
   },
   "source": [
    "### Selecting using Conditional Expressions\n",
    "\n",
    "In Pandas, comparison operations (“<” , “>” , “==” , “>=” , “<=” , “!=”) works in a similar as in Python\n",
    " * An applied series, then a series of booleans (True or False) are returned\n",
    "\n",
    "\n",
    "\n",
    "<img src=\"https://change-hi.github.io/morea/data-wrangling/fig/E4_1_selection_dataframe.png\" width=\"70%\">\n",
    "\n",
    "* What does the following return?\n",
    "```python\n",
    "df['press dbar'] < 380\n",
    "```"
   ]
  },
  {
   "cell_type": "code",
   "execution_count": 17,
   "id": "234123e9",
   "metadata": {
    "slideshow": {
     "slide_type": "slide"
    }
   },
   "outputs": [
    {
     "data": {
      "text/plain": [
       "Sample ID\n",
       "Sample-1     True\n",
       "Sample-8    False\n",
       "Sample-2     True\n",
       "Sample-4     True\n",
       "Sample-6    False\n",
       "Sample-5     True\n",
       "Sample-7    False\n",
       "Sample-3     True\n",
       "Name: press dbar, dtype: bool"
      ]
     },
     "execution_count": 17,
     "metadata": {},
     "output_type": "execute_result"
    }
   ],
   "source": [
    "df['press dbar'] < 380"
   ]
  },
  {
   "cell_type": "markdown",
   "id": "2ccc6986",
   "metadata": {
    "slideshow": {
     "slide_type": "slide"
    }
   },
   "source": [
    "### Subsetting Based on Conditional Expressions\n",
    "\n",
    "* It turns out that we can also subset a `DataFrame` using a list of booleans. For example:\n",
    "\n",
    "###### INPUT\n",
    "\n",
    "```python    \n",
    "df[[True, True, False, False, False, False, False, False]]\n",
    "```\n",
    "###### OUTPUT\n",
    "\n",
    "```bash    \n",
    "\tdate mmddyy\tpress dbar\ttemp ITS-90\tcsal PSS-78\tcoxy umol/kg\tph\n",
    "Sample ID\t\t\t\t\t\t\n",
    "Sample-1\t40610\t239.8\t18.9625\t35.0636\tNaN\t7.951\n",
    "Sample-2\t40610\t280.7\t16.1095\t34.6103\t192.3\tNaN\n",
    "```\n",
    "\n"
   ]
  },
  {
   "cell_type": "code",
   "execution_count": 18,
   "id": "d15c5287",
   "metadata": {
    "slideshow": {
     "slide_type": "slide"
    }
   },
   "outputs": [
    {
     "data": {
      "text/html": [
       "<div>\n",
       "<style scoped>\n",
       "    .dataframe tbody tr th:only-of-type {\n",
       "        vertical-align: middle;\n",
       "    }\n",
       "\n",
       "    .dataframe tbody tr th {\n",
       "        vertical-align: top;\n",
       "    }\n",
       "\n",
       "    .dataframe thead th {\n",
       "        text-align: right;\n",
       "    }\n",
       "</style>\n",
       "<table border=\"1\" class=\"dataframe\">\n",
       "  <thead>\n",
       "    <tr style=\"text-align: right;\">\n",
       "      <th></th>\n",
       "      <th>date mmddyy</th>\n",
       "      <th>press dbar</th>\n",
       "      <th>temp ITS-90</th>\n",
       "      <th>csal PSS-78</th>\n",
       "      <th>coxy umol/kg</th>\n",
       "      <th>ph</th>\n",
       "    </tr>\n",
       "    <tr>\n",
       "      <th>Sample ID</th>\n",
       "      <th></th>\n",
       "      <th></th>\n",
       "      <th></th>\n",
       "      <th></th>\n",
       "      <th></th>\n",
       "      <th></th>\n",
       "    </tr>\n",
       "  </thead>\n",
       "  <tbody>\n",
       "    <tr>\n",
       "      <th>Sample-1</th>\n",
       "      <td>40610</td>\n",
       "      <td>239.8</td>\n",
       "      <td>18.9625</td>\n",
       "      <td>35.0636</td>\n",
       "      <td>NaN</td>\n",
       "      <td>7.951</td>\n",
       "    </tr>\n",
       "    <tr>\n",
       "      <th>Sample-8</th>\n",
       "      <td>40610</td>\n",
       "      <td>497.8</td>\n",
       "      <td>7.1464</td>\n",
       "      <td>34.0424</td>\n",
       "      <td>110.7</td>\n",
       "      <td>7.496</td>\n",
       "    </tr>\n",
       "  </tbody>\n",
       "</table>\n",
       "</div>"
      ],
      "text/plain": [
       "           date mmddyy  press dbar  temp ITS-90  csal PSS-78  coxy umol/kg  \\\n",
       "Sample ID                                                                    \n",
       "Sample-1         40610       239.8      18.9625      35.0636           NaN   \n",
       "Sample-8         40610       497.8       7.1464      34.0424         110.7   \n",
       "\n",
       "              ph  \n",
       "Sample ID         \n",
       "Sample-1   7.951  \n",
       "Sample-8   7.496  "
      ]
     },
     "execution_count": 18,
     "metadata": {},
     "output_type": "execute_result"
    }
   ],
   "source": [
    "df[[True, True, False, False, False, False, False, False]]\n"
   ]
  },
  {
   "cell_type": "markdown",
   "id": "c6f70674",
   "metadata": {
    "slideshow": {
     "slide_type": "slide"
    }
   },
   "source": [
    "\n",
    "* The python input means return the first two row (associted with True) and ingnore the lines associated wiht False\n",
    "\n",
    "![](https://change-hi.github.io/morea/data-wrangling/fig/E4_2_filter_dataframe.png)\n",
    "\n",
    "* Note that in when subsetting using Booleans, we don't need to use either `.loc` or `.loc`\n",
    "\n"
   ]
  },
  {
   "cell_type": "markdown",
   "id": "9f26729c",
   "metadata": {
    "slideshow": {
     "slide_type": "slide"
    }
   },
   "source": [
    "### Subsetting Based on Conditional Expressions - Cont'd \n",
    "\n",
    "* Conditional expression can be used directly in a `DataFrame`\n",
    "###### INPUT\n",
    "```python\n",
    "df[ df['press dbar'] < 380 ]\n",
    "```\n",
    "###### OUTPUT\n",
    "```bash\n",
    "\tdate mmddyy\tpress dbar\ttemp ITS-90\tcsal PSS-78\tcoxy umol/kg\tph\n",
    "Sample ID\t\t\t\t\t\t\n",
    "Sample-1\t40610\t239.8\t18.9625\t35.0636\tNaN\t7.951\n",
    "Sample-2\t40610\t280.7\t16.1095\t34.6103\t192.3\tNaN\n",
    "Sample-3\t40610\t320.1\t12.9729\t34.2475\t190.8\tNaN\n",
    "Sample-4\t40610\t341.3\t11.9665\t34.1884\t191.3\t7.780\n",
    "Sample-5\t40610\t360.1\t11.3636\t34.1709\t203.5\tNaN\n",
    "```"
   ]
  },
  {
   "cell_type": "code",
   "execution_count": 19,
   "id": "3c1c3644",
   "metadata": {
    "slideshow": {
     "slide_type": "slide"
    }
   },
   "outputs": [
    {
     "data": {
      "text/html": [
       "<div>\n",
       "<style scoped>\n",
       "    .dataframe tbody tr th:only-of-type {\n",
       "        vertical-align: middle;\n",
       "    }\n",
       "\n",
       "    .dataframe tbody tr th {\n",
       "        vertical-align: top;\n",
       "    }\n",
       "\n",
       "    .dataframe thead th {\n",
       "        text-align: right;\n",
       "    }\n",
       "</style>\n",
       "<table border=\"1\" class=\"dataframe\">\n",
       "  <thead>\n",
       "    <tr style=\"text-align: right;\">\n",
       "      <th></th>\n",
       "      <th>date mmddyy</th>\n",
       "      <th>press dbar</th>\n",
       "      <th>temp ITS-90</th>\n",
       "      <th>csal PSS-78</th>\n",
       "      <th>coxy umol/kg</th>\n",
       "      <th>ph</th>\n",
       "    </tr>\n",
       "    <tr>\n",
       "      <th>Sample ID</th>\n",
       "      <th></th>\n",
       "      <th></th>\n",
       "      <th></th>\n",
       "      <th></th>\n",
       "      <th></th>\n",
       "      <th></th>\n",
       "    </tr>\n",
       "  </thead>\n",
       "  <tbody>\n",
       "    <tr>\n",
       "      <th>Sample-1</th>\n",
       "      <td>40610</td>\n",
       "      <td>239.8</td>\n",
       "      <td>18.9625</td>\n",
       "      <td>35.0636</td>\n",
       "      <td>NaN</td>\n",
       "      <td>7.951</td>\n",
       "    </tr>\n",
       "    <tr>\n",
       "      <th>Sample-2</th>\n",
       "      <td>40610</td>\n",
       "      <td>280.7</td>\n",
       "      <td>16.1095</td>\n",
       "      <td>34.6103</td>\n",
       "      <td>192.3</td>\n",
       "      <td>NaN</td>\n",
       "    </tr>\n",
       "    <tr>\n",
       "      <th>Sample-4</th>\n",
       "      <td>40610</td>\n",
       "      <td>341.3</td>\n",
       "      <td>11.9665</td>\n",
       "      <td>34.1884</td>\n",
       "      <td>191.3</td>\n",
       "      <td>7.780</td>\n",
       "    </tr>\n",
       "    <tr>\n",
       "      <th>Sample-5</th>\n",
       "      <td>40610</td>\n",
       "      <td>360.1</td>\n",
       "      <td>11.3636</td>\n",
       "      <td>34.1709</td>\n",
       "      <td>203.5</td>\n",
       "      <td>NaN</td>\n",
       "    </tr>\n",
       "    <tr>\n",
       "      <th>Sample-3</th>\n",
       "      <td>40610</td>\n",
       "      <td>320.1</td>\n",
       "      <td>12.9729</td>\n",
       "      <td>34.2475</td>\n",
       "      <td>190.8</td>\n",
       "      <td>NaN</td>\n",
       "    </tr>\n",
       "  </tbody>\n",
       "</table>\n",
       "</div>"
      ],
      "text/plain": [
       "           date mmddyy  press dbar  temp ITS-90  csal PSS-78  coxy umol/kg  \\\n",
       "Sample ID                                                                    \n",
       "Sample-1         40610       239.8      18.9625      35.0636           NaN   \n",
       "Sample-2         40610       280.7      16.1095      34.6103         192.3   \n",
       "Sample-4         40610       341.3      11.9665      34.1884         191.3   \n",
       "Sample-5         40610       360.1      11.3636      34.1709         203.5   \n",
       "Sample-3         40610       320.1      12.9729      34.2475         190.8   \n",
       "\n",
       "              ph  \n",
       "Sample ID         \n",
       "Sample-1   7.951  \n",
       "Sample-2     NaN  \n",
       "Sample-4   7.780  \n",
       "Sample-5     NaN  \n",
       "Sample-3     NaN  "
      ]
     },
     "execution_count": 19,
     "metadata": {},
     "output_type": "execute_result"
    }
   ],
   "source": [
    "df[ df['press dbar'] < 380 ]"
   ]
  },
  {
   "cell_type": "markdown",
   "id": "36199f23",
   "metadata": {
    "slideshow": {
     "slide_type": "slide"
    }
   },
   "source": [
    "## Sorting\n",
    "\n",
    "* Sorting is important aspect of data wrangling. For example:\n",
    "  * In data analysis: sorting is used to identify patterns, trends, and outliers in the data.\n",
    "  * in data cleaning, sorting can help to identify and remove duplicate entries, missing values, and other errors in the data.\n",
    "  * etc. \n",
    "  \n",
    "* Data can sorted on the index using `sort_index()`\n",
    "* Data can sorted on of the columns using `sort_values()`\n",
    "  * Can take a single column or a list of columns to sort \n",
    "* By default index and vlaues are sorted in ascending order but the behavior can be changed by setting `ascending=True` as parameter to the function.\n",
    "\n"
   ]
  },
  {
   "cell_type": "code",
   "execution_count": 20,
   "id": "aac067b4",
   "metadata": {
    "slideshow": {
     "slide_type": "slide"
    }
   },
   "outputs": [
    {
     "data": {
      "text/html": [
       "<div>\n",
       "<style scoped>\n",
       "    .dataframe tbody tr th:only-of-type {\n",
       "        vertical-align: middle;\n",
       "    }\n",
       "\n",
       "    .dataframe tbody tr th {\n",
       "        vertical-align: top;\n",
       "    }\n",
       "\n",
       "    .dataframe thead th {\n",
       "        text-align: right;\n",
       "    }\n",
       "</style>\n",
       "<table border=\"1\" class=\"dataframe\">\n",
       "  <thead>\n",
       "    <tr style=\"text-align: right;\">\n",
       "      <th></th>\n",
       "      <th>date mmddyy</th>\n",
       "      <th>press dbar</th>\n",
       "      <th>temp ITS-90</th>\n",
       "      <th>csal PSS-78</th>\n",
       "      <th>coxy umol/kg</th>\n",
       "      <th>ph</th>\n",
       "    </tr>\n",
       "    <tr>\n",
       "      <th>Sample ID</th>\n",
       "      <th></th>\n",
       "      <th></th>\n",
       "      <th></th>\n",
       "      <th></th>\n",
       "      <th></th>\n",
       "      <th></th>\n",
       "    </tr>\n",
       "  </thead>\n",
       "  <tbody>\n",
       "    <tr>\n",
       "      <th>Sample-1</th>\n",
       "      <td>40610</td>\n",
       "      <td>239.8</td>\n",
       "      <td>18.9625</td>\n",
       "      <td>35.0636</td>\n",
       "      <td>NaN</td>\n",
       "      <td>7.951</td>\n",
       "    </tr>\n",
       "    <tr>\n",
       "      <th>Sample-2</th>\n",
       "      <td>40610</td>\n",
       "      <td>280.7</td>\n",
       "      <td>16.1095</td>\n",
       "      <td>34.6103</td>\n",
       "      <td>192.3</td>\n",
       "      <td>NaN</td>\n",
       "    </tr>\n",
       "    <tr>\n",
       "      <th>Sample-3</th>\n",
       "      <td>40610</td>\n",
       "      <td>320.1</td>\n",
       "      <td>12.9729</td>\n",
       "      <td>34.2475</td>\n",
       "      <td>190.8</td>\n",
       "      <td>NaN</td>\n",
       "    </tr>\n",
       "    <tr>\n",
       "      <th>Sample-4</th>\n",
       "      <td>40610</td>\n",
       "      <td>341.3</td>\n",
       "      <td>11.9665</td>\n",
       "      <td>34.1884</td>\n",
       "      <td>191.3</td>\n",
       "      <td>7.780</td>\n",
       "    </tr>\n",
       "    <tr>\n",
       "      <th>Sample-5</th>\n",
       "      <td>40610</td>\n",
       "      <td>360.1</td>\n",
       "      <td>11.3636</td>\n",
       "      <td>34.1709</td>\n",
       "      <td>203.5</td>\n",
       "      <td>NaN</td>\n",
       "    </tr>\n",
       "    <tr>\n",
       "      <th>Sample-6</th>\n",
       "      <td>40610</td>\n",
       "      <td>385.0</td>\n",
       "      <td>10.4636</td>\n",
       "      <td>34.1083</td>\n",
       "      <td>193.7</td>\n",
       "      <td>NaN</td>\n",
       "    </tr>\n",
       "    <tr>\n",
       "      <th>Sample-7</th>\n",
       "      <td>40610</td>\n",
       "      <td>443.7</td>\n",
       "      <td>8.5897</td>\n",
       "      <td>34.0567</td>\n",
       "      <td>156.5</td>\n",
       "      <td>NaN</td>\n",
       "    </tr>\n",
       "    <tr>\n",
       "      <th>Sample-8</th>\n",
       "      <td>40610</td>\n",
       "      <td>497.8</td>\n",
       "      <td>7.1464</td>\n",
       "      <td>34.0424</td>\n",
       "      <td>110.7</td>\n",
       "      <td>7.496</td>\n",
       "    </tr>\n",
       "  </tbody>\n",
       "</table>\n",
       "</div>"
      ],
      "text/plain": [
       "           date mmddyy  press dbar  temp ITS-90  csal PSS-78  coxy umol/kg  \\\n",
       "Sample ID                                                                    \n",
       "Sample-1         40610       239.8      18.9625      35.0636           NaN   \n",
       "Sample-2         40610       280.7      16.1095      34.6103         192.3   \n",
       "Sample-3         40610       320.1      12.9729      34.2475         190.8   \n",
       "Sample-4         40610       341.3      11.9665      34.1884         191.3   \n",
       "Sample-5         40610       360.1      11.3636      34.1709         203.5   \n",
       "Sample-6         40610       385.0      10.4636      34.1083         193.7   \n",
       "Sample-7         40610       443.7       8.5897      34.0567         156.5   \n",
       "Sample-8         40610       497.8       7.1464      34.0424         110.7   \n",
       "\n",
       "              ph  \n",
       "Sample ID         \n",
       "Sample-1   7.951  \n",
       "Sample-2     NaN  \n",
       "Sample-3     NaN  \n",
       "Sample-4   7.780  \n",
       "Sample-5     NaN  \n",
       "Sample-6     NaN  \n",
       "Sample-7     NaN  \n",
       "Sample-8   7.496  "
      ]
     },
     "execution_count": 20,
     "metadata": {},
     "output_type": "execute_result"
    }
   ],
   "source": [
    "df.sort_index()"
   ]
  },
  {
   "cell_type": "code",
   "execution_count": 21,
   "id": "c22fdb47",
   "metadata": {
    "slideshow": {
     "slide_type": "slide"
    }
   },
   "outputs": [
    {
     "data": {
      "text/html": [
       "<div>\n",
       "<style scoped>\n",
       "    .dataframe tbody tr th:only-of-type {\n",
       "        vertical-align: middle;\n",
       "    }\n",
       "\n",
       "    .dataframe tbody tr th {\n",
       "        vertical-align: top;\n",
       "    }\n",
       "\n",
       "    .dataframe thead th {\n",
       "        text-align: right;\n",
       "    }\n",
       "</style>\n",
       "<table border=\"1\" class=\"dataframe\">\n",
       "  <thead>\n",
       "    <tr style=\"text-align: right;\">\n",
       "      <th></th>\n",
       "      <th>date mmddyy</th>\n",
       "      <th>press dbar</th>\n",
       "      <th>temp ITS-90</th>\n",
       "      <th>csal PSS-78</th>\n",
       "      <th>coxy umol/kg</th>\n",
       "      <th>ph</th>\n",
       "    </tr>\n",
       "    <tr>\n",
       "      <th>Sample ID</th>\n",
       "      <th></th>\n",
       "      <th></th>\n",
       "      <th></th>\n",
       "      <th></th>\n",
       "      <th></th>\n",
       "      <th></th>\n",
       "    </tr>\n",
       "  </thead>\n",
       "  <tbody>\n",
       "    <tr>\n",
       "      <th>Sample-1</th>\n",
       "      <td>40610</td>\n",
       "      <td>239.8</td>\n",
       "      <td>18.9625</td>\n",
       "      <td>35.0636</td>\n",
       "      <td>NaN</td>\n",
       "      <td>7.951</td>\n",
       "    </tr>\n",
       "    <tr>\n",
       "      <th>Sample-2</th>\n",
       "      <td>40610</td>\n",
       "      <td>280.7</td>\n",
       "      <td>16.1095</td>\n",
       "      <td>34.6103</td>\n",
       "      <td>192.3</td>\n",
       "      <td>NaN</td>\n",
       "    </tr>\n",
       "    <tr>\n",
       "      <th>Sample-3</th>\n",
       "      <td>40610</td>\n",
       "      <td>320.1</td>\n",
       "      <td>12.9729</td>\n",
       "      <td>34.2475</td>\n",
       "      <td>190.8</td>\n",
       "      <td>NaN</td>\n",
       "    </tr>\n",
       "    <tr>\n",
       "      <th>Sample-4</th>\n",
       "      <td>40610</td>\n",
       "      <td>341.3</td>\n",
       "      <td>11.9665</td>\n",
       "      <td>34.1884</td>\n",
       "      <td>191.3</td>\n",
       "      <td>7.780</td>\n",
       "    </tr>\n",
       "    <tr>\n",
       "      <th>Sample-5</th>\n",
       "      <td>40610</td>\n",
       "      <td>360.1</td>\n",
       "      <td>11.3636</td>\n",
       "      <td>34.1709</td>\n",
       "      <td>203.5</td>\n",
       "      <td>NaN</td>\n",
       "    </tr>\n",
       "    <tr>\n",
       "      <th>Sample-6</th>\n",
       "      <td>40610</td>\n",
       "      <td>385.0</td>\n",
       "      <td>10.4636</td>\n",
       "      <td>34.1083</td>\n",
       "      <td>193.7</td>\n",
       "      <td>NaN</td>\n",
       "    </tr>\n",
       "    <tr>\n",
       "      <th>Sample-7</th>\n",
       "      <td>40610</td>\n",
       "      <td>443.7</td>\n",
       "      <td>8.5897</td>\n",
       "      <td>34.0567</td>\n",
       "      <td>156.5</td>\n",
       "      <td>NaN</td>\n",
       "    </tr>\n",
       "    <tr>\n",
       "      <th>Sample-8</th>\n",
       "      <td>40610</td>\n",
       "      <td>497.8</td>\n",
       "      <td>7.1464</td>\n",
       "      <td>34.0424</td>\n",
       "      <td>110.7</td>\n",
       "      <td>7.496</td>\n",
       "    </tr>\n",
       "  </tbody>\n",
       "</table>\n",
       "</div>"
      ],
      "text/plain": [
       "           date mmddyy  press dbar  temp ITS-90  csal PSS-78  coxy umol/kg  \\\n",
       "Sample ID                                                                    \n",
       "Sample-1         40610       239.8      18.9625      35.0636           NaN   \n",
       "Sample-2         40610       280.7      16.1095      34.6103         192.3   \n",
       "Sample-3         40610       320.1      12.9729      34.2475         190.8   \n",
       "Sample-4         40610       341.3      11.9665      34.1884         191.3   \n",
       "Sample-5         40610       360.1      11.3636      34.1709         203.5   \n",
       "Sample-6         40610       385.0      10.4636      34.1083         193.7   \n",
       "Sample-7         40610       443.7       8.5897      34.0567         156.5   \n",
       "Sample-8         40610       497.8       7.1464      34.0424         110.7   \n",
       "\n",
       "              ph  \n",
       "Sample ID         \n",
       "Sample-1   7.951  \n",
       "Sample-2     NaN  \n",
       "Sample-3     NaN  \n",
       "Sample-4   7.780  \n",
       "Sample-5     NaN  \n",
       "Sample-6     NaN  \n",
       "Sample-7     NaN  \n",
       "Sample-8   7.496  "
      ]
     },
     "execution_count": 21,
     "metadata": {},
     "output_type": "execute_result"
    }
   ],
   "source": [
    "df.sort_values(by='press dbar')"
   ]
  },
  {
   "cell_type": "code",
   "execution_count": 22,
   "id": "ca686f3c",
   "metadata": {
    "slideshow": {
     "slide_type": "slide"
    }
   },
   "outputs": [
    {
     "data": {
      "text/html": [
       "<div>\n",
       "<style scoped>\n",
       "    .dataframe tbody tr th:only-of-type {\n",
       "        vertical-align: middle;\n",
       "    }\n",
       "\n",
       "    .dataframe tbody tr th {\n",
       "        vertical-align: top;\n",
       "    }\n",
       "\n",
       "    .dataframe thead th {\n",
       "        text-align: right;\n",
       "    }\n",
       "</style>\n",
       "<table border=\"1\" class=\"dataframe\">\n",
       "  <thead>\n",
       "    <tr style=\"text-align: right;\">\n",
       "      <th></th>\n",
       "      <th>date mmddyy</th>\n",
       "      <th>press dbar</th>\n",
       "      <th>temp ITS-90</th>\n",
       "      <th>csal PSS-78</th>\n",
       "      <th>coxy umol/kg</th>\n",
       "      <th>ph</th>\n",
       "    </tr>\n",
       "    <tr>\n",
       "      <th>Sample ID</th>\n",
       "      <th></th>\n",
       "      <th></th>\n",
       "      <th></th>\n",
       "      <th></th>\n",
       "      <th></th>\n",
       "      <th></th>\n",
       "    </tr>\n",
       "  </thead>\n",
       "  <tbody>\n",
       "    <tr>\n",
       "      <th>Sample-8</th>\n",
       "      <td>40610</td>\n",
       "      <td>497.8</td>\n",
       "      <td>7.1464</td>\n",
       "      <td>34.0424</td>\n",
       "      <td>110.7</td>\n",
       "      <td>7.496</td>\n",
       "    </tr>\n",
       "    <tr>\n",
       "      <th>Sample-7</th>\n",
       "      <td>40610</td>\n",
       "      <td>443.7</td>\n",
       "      <td>8.5897</td>\n",
       "      <td>34.0567</td>\n",
       "      <td>156.5</td>\n",
       "      <td>NaN</td>\n",
       "    </tr>\n",
       "    <tr>\n",
       "      <th>Sample-6</th>\n",
       "      <td>40610</td>\n",
       "      <td>385.0</td>\n",
       "      <td>10.4636</td>\n",
       "      <td>34.1083</td>\n",
       "      <td>193.7</td>\n",
       "      <td>NaN</td>\n",
       "    </tr>\n",
       "    <tr>\n",
       "      <th>Sample-5</th>\n",
       "      <td>40610</td>\n",
       "      <td>360.1</td>\n",
       "      <td>11.3636</td>\n",
       "      <td>34.1709</td>\n",
       "      <td>203.5</td>\n",
       "      <td>NaN</td>\n",
       "    </tr>\n",
       "    <tr>\n",
       "      <th>Sample-4</th>\n",
       "      <td>40610</td>\n",
       "      <td>341.3</td>\n",
       "      <td>11.9665</td>\n",
       "      <td>34.1884</td>\n",
       "      <td>191.3</td>\n",
       "      <td>7.780</td>\n",
       "    </tr>\n",
       "    <tr>\n",
       "      <th>Sample-3</th>\n",
       "      <td>40610</td>\n",
       "      <td>320.1</td>\n",
       "      <td>12.9729</td>\n",
       "      <td>34.2475</td>\n",
       "      <td>190.8</td>\n",
       "      <td>NaN</td>\n",
       "    </tr>\n",
       "    <tr>\n",
       "      <th>Sample-2</th>\n",
       "      <td>40610</td>\n",
       "      <td>280.7</td>\n",
       "      <td>16.1095</td>\n",
       "      <td>34.6103</td>\n",
       "      <td>192.3</td>\n",
       "      <td>NaN</td>\n",
       "    </tr>\n",
       "    <tr>\n",
       "      <th>Sample-1</th>\n",
       "      <td>40610</td>\n",
       "      <td>239.8</td>\n",
       "      <td>18.9625</td>\n",
       "      <td>35.0636</td>\n",
       "      <td>NaN</td>\n",
       "      <td>7.951</td>\n",
       "    </tr>\n",
       "  </tbody>\n",
       "</table>\n",
       "</div>"
      ],
      "text/plain": [
       "           date mmddyy  press dbar  temp ITS-90  csal PSS-78  coxy umol/kg  \\\n",
       "Sample ID                                                                    \n",
       "Sample-8         40610       497.8       7.1464      34.0424         110.7   \n",
       "Sample-7         40610       443.7       8.5897      34.0567         156.5   \n",
       "Sample-6         40610       385.0      10.4636      34.1083         193.7   \n",
       "Sample-5         40610       360.1      11.3636      34.1709         203.5   \n",
       "Sample-4         40610       341.3      11.9665      34.1884         191.3   \n",
       "Sample-3         40610       320.1      12.9729      34.2475         190.8   \n",
       "Sample-2         40610       280.7      16.1095      34.6103         192.3   \n",
       "Sample-1         40610       239.8      18.9625      35.0636           NaN   \n",
       "\n",
       "              ph  \n",
       "Sample ID         \n",
       "Sample-8   7.496  \n",
       "Sample-7     NaN  \n",
       "Sample-6     NaN  \n",
       "Sample-5     NaN  \n",
       "Sample-4   7.780  \n",
       "Sample-3     NaN  \n",
       "Sample-2     NaN  \n",
       "Sample-1   7.951  "
      ]
     },
     "execution_count": 22,
     "metadata": {},
     "output_type": "execute_result"
    }
   ],
   "source": [
    "df.sort_values(by='press dbar', ascending=False)"
   ]
  },
  {
   "cell_type": "code",
   "execution_count": 23,
   "id": "db0884cd",
   "metadata": {
    "slideshow": {
     "slide_type": "slide"
    }
   },
   "outputs": [
    {
     "data": {
      "text/html": [
       "<div>\n",
       "<style scoped>\n",
       "    .dataframe tbody tr th:only-of-type {\n",
       "        vertical-align: middle;\n",
       "    }\n",
       "\n",
       "    .dataframe tbody tr th {\n",
       "        vertical-align: top;\n",
       "    }\n",
       "\n",
       "    .dataframe thead th {\n",
       "        text-align: right;\n",
       "    }\n",
       "</style>\n",
       "<table border=\"1\" class=\"dataframe\">\n",
       "  <thead>\n",
       "    <tr style=\"text-align: right;\">\n",
       "      <th></th>\n",
       "      <th>date mmddyy</th>\n",
       "      <th>press dbar</th>\n",
       "      <th>temp ITS-90</th>\n",
       "      <th>csal PSS-78</th>\n",
       "      <th>coxy umol/kg</th>\n",
       "      <th>ph</th>\n",
       "    </tr>\n",
       "    <tr>\n",
       "      <th>Sample ID</th>\n",
       "      <th></th>\n",
       "      <th></th>\n",
       "      <th></th>\n",
       "      <th></th>\n",
       "      <th></th>\n",
       "      <th></th>\n",
       "    </tr>\n",
       "  </thead>\n",
       "  <tbody>\n",
       "    <tr>\n",
       "      <th>Sample-1</th>\n",
       "      <td>40610</td>\n",
       "      <td>239.8</td>\n",
       "      <td>18.9625</td>\n",
       "      <td>35.0636</td>\n",
       "      <td>NaN</td>\n",
       "      <td>7.951</td>\n",
       "    </tr>\n",
       "    <tr>\n",
       "      <th>Sample-4</th>\n",
       "      <td>40610</td>\n",
       "      <td>341.3</td>\n",
       "      <td>11.9665</td>\n",
       "      <td>34.1884</td>\n",
       "      <td>191.3</td>\n",
       "      <td>7.780</td>\n",
       "    </tr>\n",
       "    <tr>\n",
       "      <th>Sample-8</th>\n",
       "      <td>40610</td>\n",
       "      <td>497.8</td>\n",
       "      <td>7.1464</td>\n",
       "      <td>34.0424</td>\n",
       "      <td>110.7</td>\n",
       "      <td>7.496</td>\n",
       "    </tr>\n",
       "    <tr>\n",
       "      <th>Sample-7</th>\n",
       "      <td>40610</td>\n",
       "      <td>443.7</td>\n",
       "      <td>8.5897</td>\n",
       "      <td>34.0567</td>\n",
       "      <td>156.5</td>\n",
       "      <td>NaN</td>\n",
       "    </tr>\n",
       "    <tr>\n",
       "      <th>Sample-6</th>\n",
       "      <td>40610</td>\n",
       "      <td>385.0</td>\n",
       "      <td>10.4636</td>\n",
       "      <td>34.1083</td>\n",
       "      <td>193.7</td>\n",
       "      <td>NaN</td>\n",
       "    </tr>\n",
       "    <tr>\n",
       "      <th>Sample-5</th>\n",
       "      <td>40610</td>\n",
       "      <td>360.1</td>\n",
       "      <td>11.3636</td>\n",
       "      <td>34.1709</td>\n",
       "      <td>203.5</td>\n",
       "      <td>NaN</td>\n",
       "    </tr>\n",
       "    <tr>\n",
       "      <th>Sample-3</th>\n",
       "      <td>40610</td>\n",
       "      <td>320.1</td>\n",
       "      <td>12.9729</td>\n",
       "      <td>34.2475</td>\n",
       "      <td>190.8</td>\n",
       "      <td>NaN</td>\n",
       "    </tr>\n",
       "    <tr>\n",
       "      <th>Sample-2</th>\n",
       "      <td>40610</td>\n",
       "      <td>280.7</td>\n",
       "      <td>16.1095</td>\n",
       "      <td>34.6103</td>\n",
       "      <td>192.3</td>\n",
       "      <td>NaN</td>\n",
       "    </tr>\n",
       "  </tbody>\n",
       "</table>\n",
       "</div>"
      ],
      "text/plain": [
       "           date mmddyy  press dbar  temp ITS-90  csal PSS-78  coxy umol/kg  \\\n",
       "Sample ID                                                                    \n",
       "Sample-1         40610       239.8      18.9625      35.0636           NaN   \n",
       "Sample-4         40610       341.3      11.9665      34.1884         191.3   \n",
       "Sample-8         40610       497.8       7.1464      34.0424         110.7   \n",
       "Sample-7         40610       443.7       8.5897      34.0567         156.5   \n",
       "Sample-6         40610       385.0      10.4636      34.1083         193.7   \n",
       "Sample-5         40610       360.1      11.3636      34.1709         203.5   \n",
       "Sample-3         40610       320.1      12.9729      34.2475         190.8   \n",
       "Sample-2         40610       280.7      16.1095      34.6103         192.3   \n",
       "\n",
       "              ph  \n",
       "Sample ID         \n",
       "Sample-1   7.951  \n",
       "Sample-4   7.780  \n",
       "Sample-8   7.496  \n",
       "Sample-7     NaN  \n",
       "Sample-6     NaN  \n",
       "Sample-5     NaN  \n",
       "Sample-3     NaN  \n",
       "Sample-2     NaN  "
      ]
     },
     "execution_count": 23,
     "metadata": {},
     "output_type": "execute_result"
    }
   ],
   "source": [
    "df.sort_values(by=['ph','press dbar'], ascending=False)"
   ]
  },
  {
   "cell_type": "markdown",
   "id": "abb9c186",
   "metadata": {
    "slideshow": {
     "slide_type": "slide"
    }
   },
   "source": [
    "## Key Points\n",
    "\n",
    "* Select columns by using `[\"column name\"]` or rows by using the `loc` attribute.\n",
    "* Sort based on values in a column by using the `sort_values` method."
   ]
  },
  {
   "cell_type": "markdown",
   "id": "c33e2bb7-caf7-4ee3-bea2-4130a460425f",
   "metadata": {
    "slideshow": {
     "slide_type": "slide"
    }
   },
   "source": [
    "## Exercise\n",
    "\n",
    "Try it yourself! Going back to our `20_sales_records.xlsx` file, idenitfy which orders are `Online` and `High Priority`\n",
    "\n",
    "* Read the first couple rows to get a sense of the data. Which column reflects `Online` or `Offline` Status.\n",
    "* A `High Priority` order is denoted by `H` in one of the columns. Identify which column.\n",
    "* HINT: Use the loc method"
   ]
  }
 ],
 "metadata": {
  "celltoolbar": "Slideshow",
  "kernelspec": {
   "display_name": "Python 3 (ipykernel)",
   "language": "python",
   "name": "python3"
  },
  "language_info": {
   "codemirror_mode": {
    "name": "ipython",
    "version": 3
   },
   "file_extension": ".py",
   "mimetype": "text/x-python",
   "name": "python",
   "nbconvert_exporter": "python",
   "pygments_lexer": "ipython3",
   "version": "3.9.15"
  }
 },
 "nbformat": 4,
 "nbformat_minor": 5
}
