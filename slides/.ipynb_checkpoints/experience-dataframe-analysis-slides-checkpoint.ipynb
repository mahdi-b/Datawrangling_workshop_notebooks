{
 "cells": [
  {
   "cell_type": "markdown",
   "id": "boring-fight",
   "metadata": {
    "slideshow": {
     "slide_type": "slide"
    }
   },
   "source": [
    "## 5. DataFrame Analysis"
   ]
  },
  {
   "cell_type": "markdown",
   "id": "smaller-radar",
   "metadata": {
    "slideshow": {
     "slide_type": "slide"
    }
   },
   "source": [
    "### Questions\n",
    "\n",
    "* What are some common attributes of Pandas `DataFrame`s?\n",
    "* What are some common methods of Pandas `DataFrame`s?\n",
    "* How can you do arithmetic between two Pandas columns?\n",
    "\n",
    "### Objectives\n",
    "\n",
    "* Learn how to access `DataFrame` attributes.\n",
    "* Learn how to get statistics on a loaded `DataFrame`.\n",
    "* Learn how to sum two Pandas `DataFrame` columns together."
   ]
  },
  {
   "cell_type": "markdown",
   "id": "ca0b2c68-88af-45bb-a86f-25fbc84a077e",
   "metadata": {
    "slideshow": {
     "slide_type": "slide"
    }
   },
   "source": [
    "## DataFrame Attributes\n",
    "\n",
    "* `DataFrame` are python objects \n",
    "  * They have access to dozens of attributes and methods that can be used to inspect, wrangle or analyze the data.\n",
    "| Attribute | Description|\n",
    "|:----------|-----------|\n",
    "| `shape`| Returns a tuple representing the dimensionality of the `DataFrame`. |\n",
    "| `size` | Returns an int representing the number of elements in this object.  |\n",
    "| `dtypes` | Returns the data types in the `DataFrame`. |\n",
    "| `columns` | Returns a `Series` of the header names from the `DataFrame`|\n",
    "\n",
    "<font size=\"3\">\n",
    "<ul>\n",
    "<li> See Pandas doc for <a href=\"https://pandas.pydata.org/pandas-docs/stable/reference/api/pandas.DataFrame.html\">list of attributes and methods</a></li>\n",
    "<li> In Jupyter ( and most other IDEs), you can use `tab`  to see which attributes and objects are available on an object</li>\n",
    "<li> use `help` function or the `?` character to get more details about a method or attribute</li>\n",
    "</ul>\n",
    "</font>\n",
    "\n"
   ]
  },
  {
   "cell_type": "code",
   "execution_count": 19,
   "id": "22908238",
   "metadata": {
    "slideshow": {
     "slide_type": "slide"
    }
   },
   "outputs": [
    {
     "data": {
      "text/plain": [
       "(8, 7)"
      ]
     },
     "execution_count": 19,
     "metadata": {},
     "output_type": "execute_result"
    }
   ],
   "source": [
    "import pandas as pd\n",
    "df = pd.read_csv(\"data/types_dataframe.csv\")\n",
    "df.shape"
   ]
  },
  {
   "cell_type": "code",
   "execution_count": 20,
   "id": "be70dbfd",
   "metadata": {
    "slideshow": {
     "slide_type": "slide"
    }
   },
   "outputs": [
    {
     "data": {
      "text/plain": [
       "Index(['Sample ID', 'date mmddyy', 'press dbar', 'temp ITS-90', 'csal PSS-78',\n",
       "       'coxy umol/kg', 'ph'],\n",
       "      dtype='object')"
      ]
     },
     "execution_count": 20,
     "metadata": {},
     "output_type": "execute_result"
    }
   ],
   "source": [
    "df.columns"
   ]
  },
  {
   "cell_type": "markdown",
   "id": "bibliographic-failing",
   "metadata": {
    "slideshow": {
     "slide_type": "slide"
    }
   },
   "source": [
    "### Inspecting Data Types\n",
    "\n",
    "* `DataFrame` types determine methods that can be used on the data\n",
    "  * You can compute the mean of a numeric value but not an Object column (i.e. words).\n",
    "  * Common friction point in data analysis (compute average price)\n",
    "\n",
    "* The `dtypes` attribute is an attribute that provides access to the type of each column\n",
    "  * Note the column `date mmddyy`\n",
    " \n",
    "<img src=\"https://change-hi.github.io/morea/data-wrangling/fig/E5_1_types_dataframe.png\" width=\"70%\" > "
   ]
  },
  {
   "cell_type": "code",
   "execution_count": 6,
   "id": "interesting-yukon",
   "metadata": {
    "slideshow": {
     "slide_type": "slide"
    }
   },
   "outputs": [
    {
     "data": {
      "text/plain": [
       "Sample ID        object\n",
       "date mmddyy       int64\n",
       "press dbar      float64\n",
       "temp ITS-90     float64\n",
       "csal PSS-78     float64\n",
       "coxy umol/kg    float64\n",
       "ph              float64\n",
       "dtype: object"
      ]
     },
     "execution_count": 6,
     "metadata": {},
     "output_type": "execute_result"
    }
   ],
   "source": [
    "df.dtypes"
   ]
  },
  {
   "cell_type": "markdown",
   "id": "354552b9-ee40-4b4f-881d-871e0ad33a85",
   "metadata": {
    "slideshow": {
     "slide_type": "slide"
    }
   },
   "source": [
    "## Data Types\n",
    "\n",
    "* Pandas data types:\n",
    "\n",
    "| Python Type       | Equivalent Pandas Type | Description|\n",
    "| :---------------- | :--------------------- | :----------------- |\n",
    "| `string` | `object`               | Columns contain partially or completely made up from strings|\n",
    "| `int`             | `int64`                | Columns with numeric (integer) values. The 64 here refers <br/>to size of the memory space allocated to this type (precision)|\n",
    "| `float`           | `float64`              | Columns with floating points numbers (numbers with decimal points)|\n",
    "| `bool`            | `bool`                 | True/False values|\n",
    "| `datetime`        | `datetime`             | Date and/or time values |"
   ]
  },
  {
   "cell_type": "markdown",
   "id": "e9736dd3-9826-4bfd-9571-9e176558b6e8",
   "metadata": {
    "slideshow": {
     "slide_type": "slide"
    }
   },
   "source": [
    "## Data Types Inference\n",
    "\n",
    "* Pandas attempts to figure out the column's data type when reading in the data.\n",
    "  * Type is inferred purely based on the data format.\n",
    "* Datatypes can be specified when loading the data or after loading the data.\n",
    "* For Example, we can convert the  `date mmddyy` column into a new `Series` with the `datetime` type. \n",
    "  * use the `to_datetime` function with the data and the date `format` ( '%m%d%y' in this case) as inputs. \n",
    "    * `datetime` uses python [date formats](https://docs.python.org/3/library/datetime.html#strftime-and-strptime-behavior)"
   ]
  },
  {
   "cell_type": "code",
   "execution_count": 7,
   "id": "catholic-brook",
   "metadata": {
    "slideshow": {
     "slide_type": "slide"
    }
   },
   "outputs": [
    {
     "data": {
      "text/plain": [
       "0   2010-04-06\n",
       "1   2010-04-06\n",
       "2   2010-04-06\n",
       "3   2010-04-06\n",
       "4   2010-04-06\n",
       "5   2010-04-06\n",
       "6   2010-04-06\n",
       "7   2010-04-06\n",
       "Name: date mmddyy, dtype: datetime64[ns]"
      ]
     },
     "execution_count": 7,
     "metadata": {},
     "output_type": "execute_result"
    }
   ],
   "source": [
    "pd.to_datetime(df['date mmddyy'], format='%m%d%y')"
   ]
  },
  {
   "cell_type": "code",
   "execution_count": 9,
   "id": "deadly-spanish",
   "metadata": {
    "slideshow": {
     "slide_type": "slide"
    }
   },
   "outputs": [
    {
     "data": {
      "text/plain": [
       "Sample ID               object\n",
       "press dbar             float64\n",
       "temp ITS-90            float64\n",
       "csal PSS-78            float64\n",
       "coxy umol/kg           float64\n",
       "ph                     float64\n",
       "date            datetime64[ns]\n",
       "dtype: object"
      ]
     },
     "execution_count": 9,
     "metadata": {},
     "output_type": "execute_result"
    }
   ],
   "source": [
    "# Add the data a as new column (same syntax as adding to a collection in Python)\n",
    "# and remove old column\n",
    "df[\"date\"] = pd.to_datetime(df['date mmddyy'], format='%m%d%y')\n",
    "df = df.drop(columns=[\"date mmddyy\"])\n",
    "df.dtypes"
   ]
  },
  {
   "cell_type": "code",
   "execution_count": 10,
   "id": "alert-residence",
   "metadata": {
    "slideshow": {
     "slide_type": "slide"
    }
   },
   "outputs": [
    {
     "data": {
      "text/html": [
       "<div>\n",
       "<style scoped>\n",
       "    .dataframe tbody tr th:only-of-type {\n",
       "        vertical-align: middle;\n",
       "    }\n",
       "\n",
       "    .dataframe tbody tr th {\n",
       "        vertical-align: top;\n",
       "    }\n",
       "\n",
       "    .dataframe thead th {\n",
       "        text-align: right;\n",
       "    }\n",
       "</style>\n",
       "<table border=\"1\" class=\"dataframe\">\n",
       "  <thead>\n",
       "    <tr style=\"text-align: right;\">\n",
       "      <th></th>\n",
       "      <th>Sample ID</th>\n",
       "      <th>press dbar</th>\n",
       "      <th>temp ITS-90</th>\n",
       "      <th>csal PSS-78</th>\n",
       "      <th>coxy umol/kg</th>\n",
       "      <th>ph</th>\n",
       "      <th>date</th>\n",
       "    </tr>\n",
       "  </thead>\n",
       "  <tbody>\n",
       "    <tr>\n",
       "      <th>0</th>\n",
       "      <td>Sample-1</td>\n",
       "      <td>239.8</td>\n",
       "      <td>18.9625</td>\n",
       "      <td>35.0636</td>\n",
       "      <td>NaN</td>\n",
       "      <td>7.951</td>\n",
       "      <td>2010-04-06</td>\n",
       "    </tr>\n",
       "    <tr>\n",
       "      <th>1</th>\n",
       "      <td>Sample-2</td>\n",
       "      <td>280.7</td>\n",
       "      <td>16.1095</td>\n",
       "      <td>34.6103</td>\n",
       "      <td>192.3</td>\n",
       "      <td>NaN</td>\n",
       "      <td>2010-04-06</td>\n",
       "    </tr>\n",
       "    <tr>\n",
       "      <th>2</th>\n",
       "      <td>Sample-3</td>\n",
       "      <td>320.1</td>\n",
       "      <td>12.9729</td>\n",
       "      <td>34.2475</td>\n",
       "      <td>190.8</td>\n",
       "      <td>NaN</td>\n",
       "      <td>2010-04-06</td>\n",
       "    </tr>\n",
       "    <tr>\n",
       "      <th>3</th>\n",
       "      <td>Sample-4</td>\n",
       "      <td>341.3</td>\n",
       "      <td>11.9665</td>\n",
       "      <td>34.1884</td>\n",
       "      <td>191.3</td>\n",
       "      <td>7.780</td>\n",
       "      <td>2010-04-06</td>\n",
       "    </tr>\n",
       "    <tr>\n",
       "      <th>4</th>\n",
       "      <td>Sample-5</td>\n",
       "      <td>360.1</td>\n",
       "      <td>11.3636</td>\n",
       "      <td>34.1709</td>\n",
       "      <td>203.5</td>\n",
       "      <td>NaN</td>\n",
       "      <td>2010-04-06</td>\n",
       "    </tr>\n",
       "    <tr>\n",
       "      <th>5</th>\n",
       "      <td>Sample-6</td>\n",
       "      <td>385.0</td>\n",
       "      <td>10.4636</td>\n",
       "      <td>34.1083</td>\n",
       "      <td>193.7</td>\n",
       "      <td>NaN</td>\n",
       "      <td>2010-04-06</td>\n",
       "    </tr>\n",
       "    <tr>\n",
       "      <th>6</th>\n",
       "      <td>Sample-7</td>\n",
       "      <td>443.7</td>\n",
       "      <td>8.5897</td>\n",
       "      <td>34.0567</td>\n",
       "      <td>156.5</td>\n",
       "      <td>NaN</td>\n",
       "      <td>2010-04-06</td>\n",
       "    </tr>\n",
       "    <tr>\n",
       "      <th>7</th>\n",
       "      <td>Sample-8</td>\n",
       "      <td>497.8</td>\n",
       "      <td>7.1464</td>\n",
       "      <td>34.0424</td>\n",
       "      <td>110.7</td>\n",
       "      <td>7.496</td>\n",
       "      <td>2010-04-06</td>\n",
       "    </tr>\n",
       "  </tbody>\n",
       "</table>\n",
       "</div>"
      ],
      "text/plain": [
       "  Sample ID  press dbar  temp ITS-90  csal PSS-78  coxy umol/kg     ph  \\\n",
       "0  Sample-1       239.8      18.9625      35.0636           NaN  7.951   \n",
       "1  Sample-2       280.7      16.1095      34.6103         192.3    NaN   \n",
       "2  Sample-3       320.1      12.9729      34.2475         190.8    NaN   \n",
       "3  Sample-4       341.3      11.9665      34.1884         191.3  7.780   \n",
       "4  Sample-5       360.1      11.3636      34.1709         203.5    NaN   \n",
       "5  Sample-6       385.0      10.4636      34.1083         193.7    NaN   \n",
       "6  Sample-7       443.7       8.5897      34.0567         156.5    NaN   \n",
       "7  Sample-8       497.8       7.1464      34.0424         110.7  7.496   \n",
       "\n",
       "        date  \n",
       "0 2010-04-06  \n",
       "1 2010-04-06  \n",
       "2 2010-04-06  \n",
       "3 2010-04-06  \n",
       "4 2010-04-06  \n",
       "5 2010-04-06  \n",
       "6 2010-04-06  \n",
       "7 2010-04-06  "
      ]
     },
     "execution_count": 10,
     "metadata": {},
     "output_type": "execute_result"
    }
   ],
   "source": [
    "df"
   ]
  },
  {
   "cell_type": "markdown",
   "id": "monthly-cocktail",
   "metadata": {
    "slideshow": {
     "slide_type": "slide"
    }
   },
   "source": [
    "### `DataFrame` Methods\n",
    "\n",
    "* `DataFrame` and `Series` (e.g., single column) have access to a variety of built-in methods \n",
    "  * Accessible through the notation `some_var_name.method_name()` \n",
    "\n",
    "\n",
    "| Method|Description|\n",
    "|:----------|-----------|\n",
    "| `head()`| Return the first `n=5` rows by default. The value of `n` can be changed. |\n",
    "| `tail()` | Return the last `n=5` rows by default. The value of `n` can be changed. |\n",
    "| `min()`, `max()` | Computes the numeric or alphanumeric min, max in a Series or DataFrame.|\n",
    "| `sum()`, `mean()`, `std()`, `var()`   | Computes the sum, mean, standard deviation, and variance in a `Series` or DataFrame.|\n",
    "|`nlargest()`| Return the first n rows of the `Series` or `DataFrame`, ordered by the specified columns in descending order. |\n",
    "| `count()` |  Returns the number of non-NaN values in a `Series` or `DataFrame`. |\n",
    "| `value_counts()` |  Returns the frequency for each value in the `Series`. |\n",
    "| `describe()` | Computes column-wise statistics. |\n"
   ]
  },
  {
   "cell_type": "code",
   "execution_count": 8,
   "id": "familiar-aaron",
   "metadata": {
    "slideshow": {
     "slide_type": "slide"
    }
   },
   "outputs": [
    {
     "name": "stderr",
     "output_type": "stream",
     "text": [
      "/var/folders/5l/gk6s2xx10qs0mkg4_9_vyp3h0000gn/T/ipykernel_96537/3698961737.py:1: FutureWarning: The default value of numeric_only in DataFrame.mean is deprecated. In a future version, it will default to False. In addition, specifying 'numeric_only=None' is deprecated. Select only valid columns or specify the value of numeric_only to silence this warning.\n",
      "  df.mean()\n"
     ]
    },
    {
     "data": {
      "text/plain": [
       "date mmddyy     40610.000000\n",
       "press dbar        358.562500\n",
       "temp ITS-90        12.196838\n",
       "csal PSS-78        34.311013\n",
       "coxy umol/kg      176.971429\n",
       "ph                  7.742333\n",
       "dtype: float64"
      ]
     },
     "execution_count": 8,
     "metadata": {},
     "output_type": "execute_result"
    }
   ],
   "source": [
    "df.mean(numeric_only=True)"
   ]
  },
  {
   "cell_type": "code",
   "execution_count": 9,
   "id": "285514af",
   "metadata": {
    "slideshow": {
     "slide_type": "slide"
    }
   },
   "outputs": [
    {
     "data": {
      "text/plain": [
       "date mmddyy     40610.000000\n",
       "press dbar        358.562500\n",
       "temp ITS-90        12.196838\n",
       "csal PSS-78        34.311013\n",
       "coxy umol/kg      176.971429\n",
       "ph                  7.742333\n",
       "dtype: float64"
      ]
     },
     "execution_count": 9,
     "metadata": {},
     "output_type": "execute_result"
    }
   ],
   "source": [
    "df.mean(numeric_only=True)"
   ]
  },
  {
   "cell_type": "code",
   "execution_count": 10,
   "id": "35f65e74",
   "metadata": {
    "slideshow": {
     "slide_type": "slide"
    }
   },
   "outputs": [
    {
     "data": {
      "text/plain": [
       "0    239.8\n",
       "1    280.7\n",
       "2    320.1\n",
       "3    341.3\n",
       "4    360.1\n",
       "5    385.0\n",
       "6    443.7\n",
       "7    497.8\n",
       "Name: press dbar, dtype: float64"
      ]
     },
     "execution_count": 10,
     "metadata": {},
     "output_type": "execute_result"
    }
   ],
   "source": [
    "# Accessing a single column\n",
    "df['press dbar']"
   ]
  },
  {
   "cell_type": "code",
   "execution_count": 11,
   "id": "1b016f62",
   "metadata": {
    "slideshow": {
     "slide_type": "slide"
    }
   },
   "outputs": [
    {
     "data": {
      "text/plain": [
       "358.5625"
      ]
     },
     "execution_count": 11,
     "metadata": {},
     "output_type": "execute_result"
    }
   ],
   "source": [
    "# Accessing a single column\n",
    "df['press dbar'].mean()"
   ]
  },
  {
   "cell_type": "markdown",
   "id": "hired-furniture",
   "metadata": {
    "slideshow": {
     "slide_type": "slide"
    }
   },
   "source": [
    "#### `describe()` Method\n",
    "\n",
    "* The `describe()` method provides a range of descriptive statistics of a dataframe\n",
    "* Statistics to summarize the central tendency, dispersion, and shape of a dataset's distribution\n",
    "* By default, uses only numeric columns. \n",
    "  * change behavior using the `include='all'` param."
   ]
  },
  {
   "cell_type": "code",
   "execution_count": 17,
   "id": "94518a80",
   "metadata": {
    "slideshow": {
     "slide_type": "slide"
    }
   },
   "outputs": [
    {
     "data": {
      "text/html": [
       "<div>\n",
       "<style scoped>\n",
       "    .dataframe tbody tr th:only-of-type {\n",
       "        vertical-align: middle;\n",
       "    }\n",
       "\n",
       "    .dataframe tbody tr th {\n",
       "        vertical-align: top;\n",
       "    }\n",
       "\n",
       "    .dataframe thead th {\n",
       "        text-align: right;\n",
       "    }\n",
       "</style>\n",
       "<table border=\"1\" class=\"dataframe\">\n",
       "  <thead>\n",
       "    <tr style=\"text-align: right;\">\n",
       "      <th></th>\n",
       "      <th>Sample ID</th>\n",
       "      <th>date mmddyy</th>\n",
       "      <th>press dbar</th>\n",
       "      <th>temp ITS-90</th>\n",
       "      <th>csal PSS-78</th>\n",
       "      <th>coxy umol/kg</th>\n",
       "      <th>ph</th>\n",
       "    </tr>\n",
       "  </thead>\n",
       "  <tbody>\n",
       "    <tr>\n",
       "      <th>0</th>\n",
       "      <td>Sample-1</td>\n",
       "      <td>40610</td>\n",
       "      <td>239.8</td>\n",
       "      <td>18.9625</td>\n",
       "      <td>35.0636</td>\n",
       "      <td>NaN</td>\n",
       "      <td>7.951</td>\n",
       "    </tr>\n",
       "    <tr>\n",
       "      <th>1</th>\n",
       "      <td>Sample-2</td>\n",
       "      <td>40610</td>\n",
       "      <td>280.7</td>\n",
       "      <td>16.1095</td>\n",
       "      <td>34.6103</td>\n",
       "      <td>192.3</td>\n",
       "      <td>NaN</td>\n",
       "    </tr>\n",
       "    <tr>\n",
       "      <th>2</th>\n",
       "      <td>Sample-3</td>\n",
       "      <td>40610</td>\n",
       "      <td>320.1</td>\n",
       "      <td>12.9729</td>\n",
       "      <td>34.2475</td>\n",
       "      <td>190.8</td>\n",
       "      <td>NaN</td>\n",
       "    </tr>\n",
       "    <tr>\n",
       "      <th>3</th>\n",
       "      <td>Sample-4</td>\n",
       "      <td>40610</td>\n",
       "      <td>341.3</td>\n",
       "      <td>11.9665</td>\n",
       "      <td>34.1884</td>\n",
       "      <td>191.3</td>\n",
       "      <td>7.780</td>\n",
       "    </tr>\n",
       "    <tr>\n",
       "      <th>4</th>\n",
       "      <td>Sample-5</td>\n",
       "      <td>40610</td>\n",
       "      <td>360.1</td>\n",
       "      <td>11.3636</td>\n",
       "      <td>34.1709</td>\n",
       "      <td>203.5</td>\n",
       "      <td>NaN</td>\n",
       "    </tr>\n",
       "    <tr>\n",
       "      <th>5</th>\n",
       "      <td>Sample-6</td>\n",
       "      <td>40610</td>\n",
       "      <td>385.0</td>\n",
       "      <td>10.4636</td>\n",
       "      <td>34.1083</td>\n",
       "      <td>193.7</td>\n",
       "      <td>NaN</td>\n",
       "    </tr>\n",
       "    <tr>\n",
       "      <th>6</th>\n",
       "      <td>Sample-7</td>\n",
       "      <td>40610</td>\n",
       "      <td>443.7</td>\n",
       "      <td>8.5897</td>\n",
       "      <td>34.0567</td>\n",
       "      <td>156.5</td>\n",
       "      <td>NaN</td>\n",
       "    </tr>\n",
       "    <tr>\n",
       "      <th>7</th>\n",
       "      <td>Sample-8</td>\n",
       "      <td>40610</td>\n",
       "      <td>497.8</td>\n",
       "      <td>7.1464</td>\n",
       "      <td>34.0424</td>\n",
       "      <td>110.7</td>\n",
       "      <td>7.496</td>\n",
       "    </tr>\n",
       "  </tbody>\n",
       "</table>\n",
       "</div>"
      ],
      "text/plain": [
       "  Sample ID  date mmddyy  press dbar  temp ITS-90  csal PSS-78  coxy umol/kg  \\\n",
       "0  Sample-1        40610       239.8      18.9625      35.0636           NaN   \n",
       "1  Sample-2        40610       280.7      16.1095      34.6103         192.3   \n",
       "2  Sample-3        40610       320.1      12.9729      34.2475         190.8   \n",
       "3  Sample-4        40610       341.3      11.9665      34.1884         191.3   \n",
       "4  Sample-5        40610       360.1      11.3636      34.1709         203.5   \n",
       "5  Sample-6        40610       385.0      10.4636      34.1083         193.7   \n",
       "6  Sample-7        40610       443.7       8.5897      34.0567         156.5   \n",
       "7  Sample-8        40610       497.8       7.1464      34.0424         110.7   \n",
       "\n",
       "      ph  \n",
       "0  7.951  \n",
       "1    NaN  \n",
       "2    NaN  \n",
       "3  7.780  \n",
       "4    NaN  \n",
       "5    NaN  \n",
       "6    NaN  \n",
       "7  7.496  "
      ]
     },
     "execution_count": 17,
     "metadata": {},
     "output_type": "execute_result"
    }
   ],
   "source": [
    "df"
   ]
  },
  {
   "cell_type": "code",
   "execution_count": 16,
   "id": "empty-burden",
   "metadata": {
    "slideshow": {
     "slide_type": "slide"
    }
   },
   "outputs": [
    {
     "data": {
      "text/html": [
       "<div>\n",
       "<style scoped>\n",
       "    .dataframe tbody tr th:only-of-type {\n",
       "        vertical-align: middle;\n",
       "    }\n",
       "\n",
       "    .dataframe tbody tr th {\n",
       "        vertical-align: top;\n",
       "    }\n",
       "\n",
       "    .dataframe thead th {\n",
       "        text-align: right;\n",
       "    }\n",
       "</style>\n",
       "<table border=\"1\" class=\"dataframe\">\n",
       "  <thead>\n",
       "    <tr style=\"text-align: right;\">\n",
       "      <th></th>\n",
       "      <th>Sample ID</th>\n",
       "      <th>date mmddyy</th>\n",
       "      <th>press dbar</th>\n",
       "      <th>temp ITS-90</th>\n",
       "      <th>csal PSS-78</th>\n",
       "      <th>coxy umol/kg</th>\n",
       "      <th>ph</th>\n",
       "    </tr>\n",
       "  </thead>\n",
       "  <tbody>\n",
       "    <tr>\n",
       "      <th>count</th>\n",
       "      <td>8</td>\n",
       "      <td>8.0</td>\n",
       "      <td>8.000000</td>\n",
       "      <td>8.000000</td>\n",
       "      <td>8.000000</td>\n",
       "      <td>7.000000</td>\n",
       "      <td>3.000000</td>\n",
       "    </tr>\n",
       "    <tr>\n",
       "      <th>unique</th>\n",
       "      <td>8</td>\n",
       "      <td>NaN</td>\n",
       "      <td>NaN</td>\n",
       "      <td>NaN</td>\n",
       "      <td>NaN</td>\n",
       "      <td>NaN</td>\n",
       "      <td>NaN</td>\n",
       "    </tr>\n",
       "    <tr>\n",
       "      <th>top</th>\n",
       "      <td>Sample-1</td>\n",
       "      <td>NaN</td>\n",
       "      <td>NaN</td>\n",
       "      <td>NaN</td>\n",
       "      <td>NaN</td>\n",
       "      <td>NaN</td>\n",
       "      <td>NaN</td>\n",
       "    </tr>\n",
       "    <tr>\n",
       "      <th>freq</th>\n",
       "      <td>1</td>\n",
       "      <td>NaN</td>\n",
       "      <td>NaN</td>\n",
       "      <td>NaN</td>\n",
       "      <td>NaN</td>\n",
       "      <td>NaN</td>\n",
       "      <td>NaN</td>\n",
       "    </tr>\n",
       "    <tr>\n",
       "      <th>mean</th>\n",
       "      <td>NaN</td>\n",
       "      <td>40610.0</td>\n",
       "      <td>358.562500</td>\n",
       "      <td>12.196838</td>\n",
       "      <td>34.311013</td>\n",
       "      <td>176.971429</td>\n",
       "      <td>7.742333</td>\n",
       "    </tr>\n",
       "    <tr>\n",
       "      <th>std</th>\n",
       "      <td>NaN</td>\n",
       "      <td>0.0</td>\n",
       "      <td>83.905762</td>\n",
       "      <td>3.853666</td>\n",
       "      <td>0.353064</td>\n",
       "      <td>32.726376</td>\n",
       "      <td>0.229827</td>\n",
       "    </tr>\n",
       "    <tr>\n",
       "      <th>min</th>\n",
       "      <td>NaN</td>\n",
       "      <td>40610.0</td>\n",
       "      <td>239.800000</td>\n",
       "      <td>7.146400</td>\n",
       "      <td>34.042400</td>\n",
       "      <td>110.700000</td>\n",
       "      <td>7.496000</td>\n",
       "    </tr>\n",
       "    <tr>\n",
       "      <th>25%</th>\n",
       "      <td>NaN</td>\n",
       "      <td>40610.0</td>\n",
       "      <td>310.250000</td>\n",
       "      <td>9.995125</td>\n",
       "      <td>34.095400</td>\n",
       "      <td>173.650000</td>\n",
       "      <td>7.638000</td>\n",
       "    </tr>\n",
       "    <tr>\n",
       "      <th>50%</th>\n",
       "      <td>NaN</td>\n",
       "      <td>40610.0</td>\n",
       "      <td>350.700000</td>\n",
       "      <td>11.665050</td>\n",
       "      <td>34.179650</td>\n",
       "      <td>191.300000</td>\n",
       "      <td>7.780000</td>\n",
       "    </tr>\n",
       "    <tr>\n",
       "      <th>75%</th>\n",
       "      <td>NaN</td>\n",
       "      <td>40610.0</td>\n",
       "      <td>399.675000</td>\n",
       "      <td>13.757050</td>\n",
       "      <td>34.338200</td>\n",
       "      <td>193.000000</td>\n",
       "      <td>7.865500</td>\n",
       "    </tr>\n",
       "    <tr>\n",
       "      <th>max</th>\n",
       "      <td>NaN</td>\n",
       "      <td>40610.0</td>\n",
       "      <td>497.800000</td>\n",
       "      <td>18.962500</td>\n",
       "      <td>35.063600</td>\n",
       "      <td>203.500000</td>\n",
       "      <td>7.951000</td>\n",
       "    </tr>\n",
       "  </tbody>\n",
       "</table>\n",
       "</div>"
      ],
      "text/plain": [
       "       Sample ID  date mmddyy  press dbar  temp ITS-90  csal PSS-78  \\\n",
       "count          8          8.0    8.000000     8.000000     8.000000   \n",
       "unique         8          NaN         NaN          NaN          NaN   \n",
       "top     Sample-1          NaN         NaN          NaN          NaN   \n",
       "freq           1          NaN         NaN          NaN          NaN   \n",
       "mean         NaN      40610.0  358.562500    12.196838    34.311013   \n",
       "std          NaN          0.0   83.905762     3.853666     0.353064   \n",
       "min          NaN      40610.0  239.800000     7.146400    34.042400   \n",
       "25%          NaN      40610.0  310.250000     9.995125    34.095400   \n",
       "50%          NaN      40610.0  350.700000    11.665050    34.179650   \n",
       "75%          NaN      40610.0  399.675000    13.757050    34.338200   \n",
       "max          NaN      40610.0  497.800000    18.962500    35.063600   \n",
       "\n",
       "        coxy umol/kg        ph  \n",
       "count       7.000000  3.000000  \n",
       "unique           NaN       NaN  \n",
       "top              NaN       NaN  \n",
       "freq             NaN       NaN  \n",
       "mean      176.971429  7.742333  \n",
       "std        32.726376  0.229827  \n",
       "min       110.700000  7.496000  \n",
       "25%       173.650000  7.638000  \n",
       "50%       191.300000  7.780000  \n",
       "75%       193.000000  7.865500  \n",
       "max       203.500000  7.951000  "
      ]
     },
     "execution_count": 16,
     "metadata": {},
     "output_type": "execute_result"
    }
   ],
   "source": [
    "df.describe(include='all', datetime_is_numeric=True)"
   ]
  },
  {
   "cell_type": "markdown",
   "id": "organized-arlington",
   "metadata": {
    "slideshow": {
     "slide_type": "slide"
    }
   },
   "source": [
    "### Key points\n",
    "\n",
    "* `DataFrame`s and `Series` have a plethora of attributes and variables to access data\n",
    "  * See Pandas `doc`, or use `tab` to explore.\n",
    "* Use `.dtypes` to get the types of each column in a `DataFrame`.\n",
    "* To get general statistics on the DataFrame you can use the `describe` method.\n",
    "\n"
   ]
  },
  {
   "cell_type": "markdown",
   "id": "7b026b6c-c312-43ff-8f54-eb86bd74d3a9",
   "metadata": {
    "slideshow": {
     "slide_type": "slide"
    }
   },
   "source": [
    "## Break\n",
    "\n",
    "We will take a 10-minute break before we move on to the final two lessons"
   ]
  }
 ],
 "metadata": {
  "celltoolbar": "Slideshow",
  "kernelspec": {
   "display_name": "Python 3 (ipykernel)",
   "language": "python",
   "name": "python3"
  },
  "language_info": {
   "codemirror_mode": {
    "name": "ipython",
    "version": 3
   },
   "file_extension": ".py",
   "mimetype": "text/x-python",
   "name": "python",
   "nbconvert_exporter": "python",
   "pygments_lexer": "ipython3",
   "version": "3.9.15"
  }
 },
 "nbformat": 4,
 "nbformat_minor": 5
}
