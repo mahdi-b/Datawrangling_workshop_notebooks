{
 "cells": [
  {
   "cell_type": "markdown",
   "id": "214979f2",
   "metadata": {
    "slideshow": {
     "slide_type": "slide"
    }
   },
   "source": [
    "# 3. Loading and Handling Pandas Data"
   ]
  },
  {
   "cell_type": "markdown",
   "id": "f6363cd1",
   "metadata": {
    "slideshow": {
     "slide_type": "slide"
    }
   },
   "source": [
    "## Overview\n",
    "\n",
    "### Questions\n",
    "\n",
    "* How are Pandas data structures setup?\n",
    "* How to load data into Pandas?\n",
    "* How to write data from Pandas to a file.\n",
    "\n",
    "### Objectives\n",
    "\n",
    "* Understand the usefulness of Pandas when loading data.\n",
    "* Understand how to load data and deal with common issues."
   ]
  },
  {
   "cell_type": "markdown",
   "id": "80f3c981",
   "metadata": {
    "slideshow": {
     "slide_type": "slide"
    }
   },
   "source": [
    "## Pandas Data Structures\n",
    "\n",
    "* The two primary data structures of Pandas:\n",
    "\n",
    "* Series: an array, or list like collection of values\n",
    "   * Similar to a single row or a single column in Excel.\n",
    "* DataFrames: a table-like structure consisting of a collection of rows or column\n",
    " <img src=\"https://change-hi.github.io/morea/data-wrangling/fig/E3_1_series_vs_dataframe.png\" width=\"600\">\n"
   ]
  },
  {
   "cell_type": "markdown",
   "id": "c5f9c37b",
   "metadata": {
    "slideshow": {
     "slide_type": "slide"
    }
   },
   "source": [
    "### Pandas Data Types\n",
    "\n",
    "* Series and DataFrames have many functions that facilitate data analysis \n",
    "  * Filter or impute missing values in a Series (column)\n",
    "  * Select rows from a Series or DataFrame using conidtional operations\n",
    "  * Convert DataFrames across formats\n",
    "  * etc.\n",
    "\n",
    "* Pandas attempts to assign the correct type to each column based on the type of data it contains. \n",
    "  * You can override the data type assigned by Pandas\n",
    "\n",
    "\n",
    "![](https://www.dropbox.com/s/ir2x9gccdgeomq7/pandas_data_types.png?dl=1)\n"
   ]
  },
  {
   "cell_type": "markdown",
   "id": "bdceda19",
   "metadata": {
    "slideshow": {
     "slide_type": "slide"
    }
   },
   "source": [
    "### About File Formats\n",
    "\n",
    "* Dozens if not hundreds of file formats.\n",
    "  * Some such as Excel's format, are binary and are not meant to be read by a human\n",
    "    * Typically, we use custom formatting to delineate columns and rows.\n",
    "  * Others are plain text and can be opened and edited in any text editor.\n",
    "\n",
    "* Plain text file formats fall into one of the following two categories: Delimited and Fixed Width\n",
    "  * Delimited files are organized such that columns and rows are separated by a certain character called a delimiter\n",
    "  * Fixed width files are those where each entry in a column has a fixed number of characters\n",
    "  * Character delimited using special tags or characters.\n",
    "\n",
    " "
   ]
  },
  {
   "cell_type": "markdown",
   "id": "fd835a9c",
   "metadata": {
    "slideshow": {
     "slide_type": "slide"
    }
   },
   "source": [
    "### About File Formats - Cont'd\n",
    "\n",
    "* Plain text are the most popular formats.\n",
    " \n",
    " * In this workshop, we will use the ‘Comma Separated Values’ `.csv` format \n",
    "  * Entries delimited by commas and the rows are delimited by a new line\n",
    "  * The file may contian a header with column labels \n",
    "  * Rows may have an index\n",
    "  \n",
    "```bash\n",
    ",column1,column2,column3,\n",
    "row1,a,b,c\n",
    "row2,d,e,f\n",
    "row3,g,h,i\n",
    "```\n",
    "\n",
    "* The file above is in the csv (comma delimited) format, has a header with a missing first value (potentially index)\n"
   ]
  },
  {
   "cell_type": "markdown",
   "id": "48ea14b0",
   "metadata": {
    "slideshow": {
     "slide_type": "slide"
    }
   },
   "source": [
    "## Loading and Parsing Data\n",
    "\n",
    "The following csv data is stored in a file called `my_data.csv`\n",
    "\n",
    "```bash\n",
    ",column1,column2,column3,\n",
    "row1,a,b,c\n",
    "row2,d,e,f\n",
    "row3,g,h,i\n",
    "```\n",
    "\n",
    "\n",
    "* The table looks as follows:\n",
    "\n",
    "\n",
    "```bash\n",
    "|      | column 1 | column 2 | column 3 |\n",
    "| ---- | -------- | -------- | -------- |\n",
    "| row1 | a        | b        | c        |\n",
    "| row2 | d        | e        | f        |\n",
    "| row3 | g        | h        | i        |\n",
    "\n",
    "```\n",
    "\n"
   ]
  },
  {
   "cell_type": "markdown",
   "id": "99b4b2b1",
   "metadata": {
    "slideshow": {
     "slide_type": "slide"
    }
   },
   "source": [
    "## Import the Pandas Package\n",
    "\n",
    "* `Series` and `DataFrames` can be created from scratch or loading their data from a file.\n",
    " * Pandas supports a  variety of file formats, such as comma delimited (csv), tab delimted (tsv), excel, etc.\n",
    "\n",
    "* Loading a specific format is done using custom functions. For example:\n",
    "  * read a csv using `read_csv`\n",
    "  * Read an Excel file using `read_excel`\n",
    "  * read a JSON file using `read_json`\n",
    "  * etc..\n"
   ]
  },
  {
   "cell_type": "markdown",
   "id": "c68801c0",
   "metadata": {
    "slideshow": {
     "slide_type": "slide"
    }
   },
   "source": [
    "## Loading and Parsing Data\n",
    "\n",
    "* Before loading the data we need to import the pandas package.\n",
    "  * Pandas is typically imported using the `pd` alias\n",
    "  \n",
    "```python\n",
    "import pandas as pd\n",
    "```\n",
    "  \n",
    "* To read a csv file into a variable called `df` we can write:\n",
    "\n",
    "```python\n",
    "df = pd.read_csv('data/some_data.csv')\n",
    "\n",
    "```\n",
    "* Simply typing the variable name `df` will display the table in a user friendly format.\n",
    "\n",
    "```python\n",
    "df\n",
    "```\n",
    "\n",
    "![](https://change-hi.github.io/morea/data-wrangling/fig/E3_2_loaded_dataframe.png)\n",
    "\n",
    "\n",
    "\n"
   ]
  },
  {
   "cell_type": "markdown",
   "id": "b7023b59",
   "metadata": {
    "slideshow": {
     "slide_type": "slide"
    }
   },
   "source": [
    "## Loading and Parsing Data\n",
    "\n",
    "* Each of Pandas functions for reading a text file provides many parameters to customaize how a file is read\n",
    "\n",
    "* Customize the field delimiter or separator (comma by default)\n",
    "\n",
    " \n",
    "```python\n",
    "df = pd.read_csv('data/weired_format.csv', sep='|')\n",
    "```\n",
    "* or \n",
    "```python\n",
    "df = pd.read_csv('data/tsv_example.tsv', sep='\\t')\n",
    "```\n",
    "\n",
    "\n",
    "* Read in a a small subset\n",
    "```python\n",
    "df = pd.read_csv('data/tsv_example.tsv', nrows=5)\n",
    "```\n",
    "\n"
   ]
  },
  {
   "cell_type": "markdown",
   "id": "5ba5a62d",
   "metadata": {
    "slideshow": {
     "slide_type": "slide"
    }
   },
   "source": [
    "\n",
    "## Headers and Indexes\n",
    "\n",
    "* Headers (column labels) and index (row labels) are very useful for indexing into the data\n",
    "* By default, `read_csv` assumes that: \n",
    "    * The first row is the table header\n",
    "    * Rows are indexed using integer values from 0 to n-1, were n is the number of rows in the data.  \n",
    "\n",
    "* You can change the `read_csv` behaviour to omit the header or rename the columns \n",
    "* You can change the `read_csv` behaviour to specify which column to use as the index.\n",
    "\n"
   ]
  },
  {
   "cell_type": "code",
   "execution_count": 1,
   "id": "c9e928e9",
   "metadata": {
    "slideshow": {
     "slide_type": "slide"
    }
   },
   "outputs": [
    {
     "data": {
      "text/html": [
       "<div>\n",
       "<style scoped>\n",
       "    .dataframe tbody tr th:only-of-type {\n",
       "        vertical-align: middle;\n",
       "    }\n",
       "\n",
       "    .dataframe tbody tr th {\n",
       "        vertical-align: top;\n",
       "    }\n",
       "\n",
       "    .dataframe thead th {\n",
       "        text-align: right;\n",
       "    }\n",
       "</style>\n",
       "<table border=\"1\" class=\"dataframe\">\n",
       "  <thead>\n",
       "    <tr style=\"text-align: right;\">\n",
       "      <th></th>\n",
       "      <th>Unnamed: 0</th>\n",
       "      <th>column1</th>\n",
       "      <th>column2</th>\n",
       "      <th>column3</th>\n",
       "    </tr>\n",
       "  </thead>\n",
       "  <tbody>\n",
       "    <tr>\n",
       "      <th>0</th>\n",
       "      <td>row1</td>\n",
       "      <td>a</td>\n",
       "      <td>b</td>\n",
       "      <td>c</td>\n",
       "    </tr>\n",
       "    <tr>\n",
       "      <th>1</th>\n",
       "      <td>row2</td>\n",
       "      <td>d</td>\n",
       "      <td>e</td>\n",
       "      <td>f</td>\n",
       "    </tr>\n",
       "    <tr>\n",
       "      <th>2</th>\n",
       "      <td>row3</td>\n",
       "      <td>g</td>\n",
       "      <td>h</td>\n",
       "      <td>i</td>\n",
       "    </tr>\n",
       "    <tr>\n",
       "      <th>3</th>\n",
       "      <td>row4</td>\n",
       "      <td>j</td>\n",
       "      <td>k</td>\n",
       "      <td>l</td>\n",
       "    </tr>\n",
       "    <tr>\n",
       "      <th>4</th>\n",
       "      <td>row5</td>\n",
       "      <td>m</td>\n",
       "      <td>n</td>\n",
       "      <td>o</td>\n",
       "    </tr>\n",
       "  </tbody>\n",
       "</table>\n",
       "</div>"
      ],
      "text/plain": [
       "  Unnamed: 0 column1 column2 column3\n",
       "0       row1       a       b       c\n",
       "1       row2       d       e       f\n",
       "2       row3       g       h       i\n",
       "3       row4       j       k       l\n",
       "4       row5       m       n       o"
      ]
     },
     "execution_count": 1,
     "metadata": {},
     "output_type": "execute_result"
    }
   ],
   "source": [
    "import pandas as pd\n",
    "\n",
    "# ```bash\n",
    "# |column1|column2|column3\n",
    "# row1|a|b|c\n",
    "# row2|d|e|f\n",
    "# row3|g|h|i\n",
    "# ```\n",
    "\n",
    "df = pd.read_csv(\"data/weired_format.csv\", sep=\"|\")\n",
    "df"
   ]
  },
  {
   "cell_type": "code",
   "execution_count": 2,
   "id": "f3929009",
   "metadata": {
    "slideshow": {
     "slide_type": "slide"
    }
   },
   "outputs": [
    {
     "data": {
      "text/html": [
       "<div>\n",
       "<style scoped>\n",
       "    .dataframe tbody tr th:only-of-type {\n",
       "        vertical-align: middle;\n",
       "    }\n",
       "\n",
       "    .dataframe tbody tr th {\n",
       "        vertical-align: top;\n",
       "    }\n",
       "\n",
       "    .dataframe thead th {\n",
       "        text-align: right;\n",
       "    }\n",
       "</style>\n",
       "<table border=\"1\" class=\"dataframe\">\n",
       "  <thead>\n",
       "    <tr style=\"text-align: right;\">\n",
       "      <th></th>\n",
       "      <th>row1</th>\n",
       "      <th>a</th>\n",
       "      <th>b</th>\n",
       "      <th>c</th>\n",
       "    </tr>\n",
       "  </thead>\n",
       "  <tbody>\n",
       "    <tr>\n",
       "      <th>0</th>\n",
       "      <td>row2</td>\n",
       "      <td>d</td>\n",
       "      <td>e</td>\n",
       "      <td>f</td>\n",
       "    </tr>\n",
       "    <tr>\n",
       "      <th>1</th>\n",
       "      <td>row3</td>\n",
       "      <td>g</td>\n",
       "      <td>h</td>\n",
       "      <td>i</td>\n",
       "    </tr>\n",
       "    <tr>\n",
       "      <th>2</th>\n",
       "      <td>row4</td>\n",
       "      <td>j</td>\n",
       "      <td>k</td>\n",
       "      <td>l</td>\n",
       "    </tr>\n",
       "    <tr>\n",
       "      <th>3</th>\n",
       "      <td>row5</td>\n",
       "      <td>m</td>\n",
       "      <td>n</td>\n",
       "      <td>o</td>\n",
       "    </tr>\n",
       "  </tbody>\n",
       "</table>\n",
       "</div>"
      ],
      "text/plain": [
       "   row1  a  b  c\n",
       "0  row2  d  e  f\n",
       "1  row3  g  h  i\n",
       "2  row4  j  k  l\n",
       "3  row5  m  n  o"
      ]
     },
     "execution_count": 2,
     "metadata": {},
     "output_type": "execute_result"
    }
   ],
   "source": [
    "\n",
    "# ```bash\n",
    "# row1|a|b|c\n",
    "# row2|d|e|f\n",
    "# row3|g|h|i\n",
    "# ```\n",
    "\n",
    "df = pd.read_csv(\"data/weired_format_no_header.csv\", \n",
    "                 sep=\"|\")\n",
    "df"
   ]
  },
  {
   "cell_type": "code",
   "execution_count": 3,
   "id": "0c538dd2",
   "metadata": {
    "slideshow": {
     "slide_type": "slide"
    }
   },
   "outputs": [
    {
     "data": {
      "text/html": [
       "<div>\n",
       "<style scoped>\n",
       "    .dataframe tbody tr th:only-of-type {\n",
       "        vertical-align: middle;\n",
       "    }\n",
       "\n",
       "    .dataframe tbody tr th {\n",
       "        vertical-align: top;\n",
       "    }\n",
       "\n",
       "    .dataframe thead th {\n",
       "        text-align: right;\n",
       "    }\n",
       "</style>\n",
       "<table border=\"1\" class=\"dataframe\">\n",
       "  <thead>\n",
       "    <tr style=\"text-align: right;\">\n",
       "      <th></th>\n",
       "      <th>0</th>\n",
       "      <th>1</th>\n",
       "      <th>2</th>\n",
       "      <th>3</th>\n",
       "    </tr>\n",
       "  </thead>\n",
       "  <tbody>\n",
       "    <tr>\n",
       "      <th>0</th>\n",
       "      <td>row1</td>\n",
       "      <td>a</td>\n",
       "      <td>b</td>\n",
       "      <td>c</td>\n",
       "    </tr>\n",
       "    <tr>\n",
       "      <th>1</th>\n",
       "      <td>row2</td>\n",
       "      <td>d</td>\n",
       "      <td>e</td>\n",
       "      <td>f</td>\n",
       "    </tr>\n",
       "    <tr>\n",
       "      <th>2</th>\n",
       "      <td>row3</td>\n",
       "      <td>g</td>\n",
       "      <td>h</td>\n",
       "      <td>i</td>\n",
       "    </tr>\n",
       "    <tr>\n",
       "      <th>3</th>\n",
       "      <td>row4</td>\n",
       "      <td>j</td>\n",
       "      <td>k</td>\n",
       "      <td>l</td>\n",
       "    </tr>\n",
       "    <tr>\n",
       "      <th>4</th>\n",
       "      <td>row5</td>\n",
       "      <td>m</td>\n",
       "      <td>n</td>\n",
       "      <td>o</td>\n",
       "    </tr>\n",
       "  </tbody>\n",
       "</table>\n",
       "</div>"
      ],
      "text/plain": [
       "      0  1  2  3\n",
       "0  row1  a  b  c\n",
       "1  row2  d  e  f\n",
       "2  row3  g  h  i\n",
       "3  row4  j  k  l\n",
       "4  row5  m  n  o"
      ]
     },
     "execution_count": 3,
     "metadata": {},
     "output_type": "execute_result"
    }
   ],
   "source": [
    "df = pd.read_csv(\"data/weired_format_no_header.csv\", \n",
    "                 sep=\"|\", header= None)\n",
    "df"
   ]
  },
  {
   "cell_type": "code",
   "execution_count": 17,
   "id": "262c0345",
   "metadata": {
    "slideshow": {
     "slide_type": "slide"
    }
   },
   "outputs": [
    {
     "data": {
      "text/html": [
       "<div>\n",
       "<style scoped>\n",
       "    .dataframe tbody tr th:only-of-type {\n",
       "        vertical-align: middle;\n",
       "    }\n",
       "\n",
       "    .dataframe tbody tr th {\n",
       "        vertical-align: top;\n",
       "    }\n",
       "\n",
       "    .dataframe thead th {\n",
       "        text-align: right;\n",
       "    }\n",
       "</style>\n",
       "<table border=\"1\" class=\"dataframe\">\n",
       "  <thead>\n",
       "    <tr style=\"text-align: right;\">\n",
       "      <th></th>\n",
       "      <th>0</th>\n",
       "      <th>1</th>\n",
       "      <th>2</th>\n",
       "      <th>3</th>\n",
       "    </tr>\n",
       "  </thead>\n",
       "  <tbody>\n",
       "    <tr>\n",
       "      <th>0</th>\n",
       "      <td>row1</td>\n",
       "      <td>a</td>\n",
       "      <td>b</td>\n",
       "      <td>c</td>\n",
       "    </tr>\n",
       "    <tr>\n",
       "      <th>1</th>\n",
       "      <td>row2</td>\n",
       "      <td>d</td>\n",
       "      <td>e</td>\n",
       "      <td>f</td>\n",
       "    </tr>\n",
       "  </tbody>\n",
       "</table>\n",
       "</div>"
      ],
      "text/plain": [
       "      0  1  2  3\n",
       "0  row1  a  b  c\n",
       "1  row2  d  e  f"
      ]
     },
     "execution_count": 17,
     "metadata": {},
     "output_type": "execute_result"
    }
   ],
   "source": [
    "df = pd.read_csv(\"data/weired_format_no_header.csv\", \n",
    "                 sep=\"|\", header= None, nrows=2)\n",
    "df"
   ]
  },
  {
   "cell_type": "code",
   "execution_count": 23,
   "id": "3d6eda51",
   "metadata": {
    "slideshow": {
     "slide_type": "slide"
    }
   },
   "outputs": [
    {
     "data": {
      "text/html": [
       "<div>\n",
       "<style scoped>\n",
       "    .dataframe tbody tr th:only-of-type {\n",
       "        vertical-align: middle;\n",
       "    }\n",
       "\n",
       "    .dataframe tbody tr th {\n",
       "        vertical-align: top;\n",
       "    }\n",
       "\n",
       "    .dataframe thead th {\n",
       "        text-align: right;\n",
       "    }\n",
       "</style>\n",
       "<table border=\"1\" class=\"dataframe\">\n",
       "  <thead>\n",
       "    <tr style=\"text-align: right;\">\n",
       "      <th></th>\n",
       "      <th>row1</th>\n",
       "      <th>a</th>\n",
       "      <th>b</th>\n",
       "      <th>c</th>\n",
       "    </tr>\n",
       "  </thead>\n",
       "  <tbody>\n",
       "    <tr>\n",
       "      <th>0</th>\n",
       "      <td>row2</td>\n",
       "      <td>d</td>\n",
       "      <td>e</td>\n",
       "      <td>f</td>\n",
       "    </tr>\n",
       "    <tr>\n",
       "      <th>1</th>\n",
       "      <td>row3</td>\n",
       "      <td>g</td>\n",
       "      <td>h</td>\n",
       "      <td>i</td>\n",
       "    </tr>\n",
       "    <tr>\n",
       "      <th>2</th>\n",
       "      <td>row4</td>\n",
       "      <td>j</td>\n",
       "      <td>k</td>\n",
       "      <td>l</td>\n",
       "    </tr>\n",
       "    <tr>\n",
       "      <th>3</th>\n",
       "      <td>row5</td>\n",
       "      <td>m</td>\n",
       "      <td>n</td>\n",
       "      <td>o</td>\n",
       "    </tr>\n",
       "  </tbody>\n",
       "</table>\n",
       "</div>"
      ],
      "text/plain": [
       "   row1  a  b  c\n",
       "0  row2  d  e  f\n",
       "1  row3  g  h  i\n",
       "2  row4  j  k  l\n",
       "3  row5  m  n  o"
      ]
     },
     "execution_count": 23,
     "metadata": {},
     "output_type": "execute_result"
    }
   ],
   "source": [
    "\n",
    "# row1,a,b,c\n",
    "# row2,d,e,f\n",
    "# row3,g,h,i\n",
    "\n",
    "\n",
    "\n",
    "df = pd.read_csv(\"data/weired_format_no_header.csv\", \n",
    "                 sep=\"|\")\n",
    "df"
   ]
  },
  {
   "cell_type": "code",
   "execution_count": 24,
   "id": "8c7b42fe",
   "metadata": {
    "slideshow": {
     "slide_type": "slide"
    }
   },
   "outputs": [
    {
     "data": {
      "text/html": [
       "<div>\n",
       "<style scoped>\n",
       "    .dataframe tbody tr th:only-of-type {\n",
       "        vertical-align: middle;\n",
       "    }\n",
       "\n",
       "    .dataframe tbody tr th {\n",
       "        vertical-align: top;\n",
       "    }\n",
       "\n",
       "    .dataframe thead th {\n",
       "        text-align: right;\n",
       "    }\n",
       "</style>\n",
       "<table border=\"1\" class=\"dataframe\">\n",
       "  <thead>\n",
       "    <tr style=\"text-align: right;\">\n",
       "      <th></th>\n",
       "      <th>0</th>\n",
       "      <th>1</th>\n",
       "      <th>2</th>\n",
       "      <th>3</th>\n",
       "    </tr>\n",
       "  </thead>\n",
       "  <tbody>\n",
       "    <tr>\n",
       "      <th>0</th>\n",
       "      <td>row1</td>\n",
       "      <td>a</td>\n",
       "      <td>b</td>\n",
       "      <td>c</td>\n",
       "    </tr>\n",
       "    <tr>\n",
       "      <th>1</th>\n",
       "      <td>row2</td>\n",
       "      <td>d</td>\n",
       "      <td>e</td>\n",
       "      <td>f</td>\n",
       "    </tr>\n",
       "    <tr>\n",
       "      <th>2</th>\n",
       "      <td>row3</td>\n",
       "      <td>g</td>\n",
       "      <td>h</td>\n",
       "      <td>i</td>\n",
       "    </tr>\n",
       "    <tr>\n",
       "      <th>3</th>\n",
       "      <td>row4</td>\n",
       "      <td>j</td>\n",
       "      <td>k</td>\n",
       "      <td>l</td>\n",
       "    </tr>\n",
       "    <tr>\n",
       "      <th>4</th>\n",
       "      <td>row5</td>\n",
       "      <td>m</td>\n",
       "      <td>n</td>\n",
       "      <td>o</td>\n",
       "    </tr>\n",
       "  </tbody>\n",
       "</table>\n",
       "</div>"
      ],
      "text/plain": [
       "      0  1  2  3\n",
       "0  row1  a  b  c\n",
       "1  row2  d  e  f\n",
       "2  row3  g  h  i\n",
       "3  row4  j  k  l\n",
       "4  row5  m  n  o"
      ]
     },
     "execution_count": 24,
     "metadata": {},
     "output_type": "execute_result"
    }
   ],
   "source": [
    "\n",
    "# row1,a,b,c\n",
    "# row2,d,e,f\n",
    "# row3,g,h,i\n",
    "\n",
    "\n",
    "\n",
    "df = pd.read_csv(\"data/weired_format_no_header.csv\", \n",
    "                 sep=\"|\", header=None)\n",
    "df"
   ]
  },
  {
   "cell_type": "code",
   "execution_count": 27,
   "id": "3e321e15",
   "metadata": {
    "slideshow": {
     "slide_type": "slide"
    }
   },
   "outputs": [
    {
     "data": {
      "text/html": [
       "<div>\n",
       "<style scoped>\n",
       "    .dataframe tbody tr th:only-of-type {\n",
       "        vertical-align: middle;\n",
       "    }\n",
       "\n",
       "    .dataframe tbody tr th {\n",
       "        vertical-align: top;\n",
       "    }\n",
       "\n",
       "    .dataframe thead th {\n",
       "        text-align: right;\n",
       "    }\n",
       "</style>\n",
       "<table border=\"1\" class=\"dataframe\">\n",
       "  <thead>\n",
       "    <tr style=\"text-align: right;\">\n",
       "      <th></th>\n",
       "      <th>COL_ONE</th>\n",
       "      <th>COL_TWO</th>\n",
       "      <th>COL_THREE</th>\n",
       "    </tr>\n",
       "  </thead>\n",
       "  <tbody>\n",
       "    <tr>\n",
       "      <th>row1</th>\n",
       "      <td>a</td>\n",
       "      <td>b</td>\n",
       "      <td>c</td>\n",
       "    </tr>\n",
       "    <tr>\n",
       "      <th>row2</th>\n",
       "      <td>d</td>\n",
       "      <td>e</td>\n",
       "      <td>f</td>\n",
       "    </tr>\n",
       "    <tr>\n",
       "      <th>row3</th>\n",
       "      <td>g</td>\n",
       "      <td>h</td>\n",
       "      <td>i</td>\n",
       "    </tr>\n",
       "    <tr>\n",
       "      <th>row4</th>\n",
       "      <td>j</td>\n",
       "      <td>k</td>\n",
       "      <td>l</td>\n",
       "    </tr>\n",
       "    <tr>\n",
       "      <th>row5</th>\n",
       "      <td>m</td>\n",
       "      <td>n</td>\n",
       "      <td>o</td>\n",
       "    </tr>\n",
       "  </tbody>\n",
       "</table>\n",
       "</div>"
      ],
      "text/plain": [
       "     COL_ONE COL_TWO COL_THREE\n",
       "row1       a       b         c\n",
       "row2       d       e         f\n",
       "row3       g       h         i\n",
       "row4       j       k         l\n",
       "row5       m       n         o"
      ]
     },
     "execution_count": 27,
     "metadata": {},
     "output_type": "execute_result"
    }
   ],
   "source": [
    "\n",
    "# row1,a,b,c\n",
    "# row2,d,e,f\n",
    "# row3,g,h,i\n",
    "\n",
    "\n",
    "\n",
    "df = pd.read_csv(\"data/weired_format_no_header.csv\", \n",
    "                 sep=\"|\",  \n",
    "                 names=[\"COL_ONE\", \"COL_TWO\", \"COL_THREE\"])\n",
    "df"
   ]
  },
  {
   "cell_type": "code",
   "execution_count": 28,
   "id": "41d14f0c",
   "metadata": {
    "slideshow": {
     "slide_type": "slide"
    }
   },
   "outputs": [
    {
     "data": {
      "text/html": [
       "<div>\n",
       "<style scoped>\n",
       "    .dataframe tbody tr th:only-of-type {\n",
       "        vertical-align: middle;\n",
       "    }\n",
       "\n",
       "    .dataframe tbody tr th {\n",
       "        vertical-align: top;\n",
       "    }\n",
       "\n",
       "    .dataframe thead th {\n",
       "        text-align: right;\n",
       "    }\n",
       "</style>\n",
       "<table border=\"1\" class=\"dataframe\">\n",
       "  <thead>\n",
       "    <tr style=\"text-align: right;\">\n",
       "      <th></th>\n",
       "      <th>COL_ONE</th>\n",
       "      <th>COL_TWO</th>\n",
       "      <th>COL_THREE</th>\n",
       "    </tr>\n",
       "  </thead>\n",
       "  <tbody>\n",
       "    <tr>\n",
       "      <th>row1</th>\n",
       "      <td>a</td>\n",
       "      <td>b</td>\n",
       "      <td>c</td>\n",
       "    </tr>\n",
       "    <tr>\n",
       "      <th>row2</th>\n",
       "      <td>d</td>\n",
       "      <td>e</td>\n",
       "      <td>f</td>\n",
       "    </tr>\n",
       "    <tr>\n",
       "      <th>row3</th>\n",
       "      <td>g</td>\n",
       "      <td>h</td>\n",
       "      <td>i</td>\n",
       "    </tr>\n",
       "    <tr>\n",
       "      <th>row4</th>\n",
       "      <td>j</td>\n",
       "      <td>k</td>\n",
       "      <td>l</td>\n",
       "    </tr>\n",
       "    <tr>\n",
       "      <th>row5</th>\n",
       "      <td>m</td>\n",
       "      <td>n</td>\n",
       "      <td>o</td>\n",
       "    </tr>\n",
       "  </tbody>\n",
       "</table>\n",
       "</div>"
      ],
      "text/plain": [
       "     COL_ONE COL_TWO COL_THREE\n",
       "row1       a       b         c\n",
       "row2       d       e         f\n",
       "row3       g       h         i\n",
       "row4       j       k         l\n",
       "row5       m       n         o"
      ]
     },
     "execution_count": 28,
     "metadata": {},
     "output_type": "execute_result"
    }
   ],
   "source": [
    "# row1,a,b,c\n",
    "# row2,d,e,f\n",
    "# row3,g,h,i\n",
    "\n",
    "df = pd.read_csv(\"data/weired_format_no_header.csv\", \n",
    "                 sep=\"|\",  \n",
    "                 names=[\"COL_ONE\", \"COL_TWO\", \"COL_THREE\"], \n",
    "                 index_col=0)\n",
    "df"
   ]
  },
  {
   "cell_type": "markdown",
   "id": "d5a148a0",
   "metadata": {
    "slideshow": {
     "slide_type": "slide"
    }
   },
   "source": [
    "### Missing Values\n",
    "\n",
    "* There are often missing values in a real-world datasets.\n",
    "  * E.g. `NA`, `N.A.`, `9999`, `missing`,  `''`, etc. \n",
    "* Some functions depend on properly identifying missing values. \n",
    "  * What is the averge of [1, 2 , 3, 'UNKNOWN']?\n",
    "* Pandas identifies missing NaN (Not a Number)\n",
    "  * Provides ways to handle missing values in computation values.\n",
    "* `read_csv` can take as a parameter the value used to represent missing values. For example, \n",
    "\n",
    "```python\n",
    "df = pd.read_csv(\"data/null_values_example.csv\", na_values='Null')\n",
    "df\n",
    "```\n",
    "\n"
   ]
  },
  {
   "cell_type": "markdown",
   "id": "144e0b47",
   "metadata": {
    "slideshow": {
     "slide_type": "slide"
    }
   },
   "source": [
    "### Without `na_values='Null'`\n",
    "    \n",
    "![](https://change-hi.github.io/morea/data-wrangling/fig/E3_5_null_values.png)\n"
   ]
  },
  {
   "cell_type": "markdown",
   "id": "9a32ff41-f028-41a1-b736-f300b385b775",
   "metadata": {
    "slideshow": {
     "slide_type": "slide"
    }
   },
   "source": [
    "### With `na_values='Null'`:\n",
    "    \n",
    "![](https://change-hi.github.io/morea/data-wrangling/fig/E3_6_nan_values.png)    \n",
    "    "
   ]
  },
  {
   "cell_type": "markdown",
   "id": "ea8e8c47",
   "metadata": {
    "slideshow": {
     "slide_type": "slide"
    }
   },
   "source": [
    "###  Writing Data in Text Format\n",
    "\n",
    "Pandas DataFrames have a collection of `to_<filetype>` methods used to write data to disk\n",
    "\n",
    " * Example, `to_csv()` takes the parameter path and and will either create a new file or overwrite the existing file with the same name.\n",
    "```python\n",
    "df.to_csv('data/new_file.csv')\n",
    "```\n",
    "\n",
    "* Has a  number of optional parameters to change the delimiter, write the numerical automatically generated index, omit certain columns, etc.\n",
    "\n"
   ]
  },
  {
   "cell_type": "markdown",
   "id": "319b6a8f",
   "metadata": {
    "slideshow": {
     "slide_type": "slide"
    }
   },
   "source": [
    "## Key Points\n",
    "\n",
    "* Pandas contains numerous methods to help load/write data to/from files of different types.\n",
    "* `read_csv` is highly customizable and can allow you to handle many issues when loading the data."
   ]
  },
  {
   "cell_type": "markdown",
   "id": "c6295c24",
   "metadata": {
    "slideshow": {
     "slide_type": "slide"
    }
   },
   "source": [
    "## 1 - Exercise: Read an Excel File\n",
    "\n",
    "Try it yourself! Fill in the blanks to load the first 10 lines of the excel file `'20_sales_records.xlsx'` into a variable called `df` and then display the `DataFrame`.\n",
    "*  Instructions\n",
    "  * The file is located in the `data` folder.\n",
    "  * Use the `read_excel` command along with the argument you learned to parse a specified number of rows.\n",
    "  * This file has `NaN` values that are not automatically detected. They are labeled as `'none'`. Have Pandas interpret these as `NaN` values upon loading of the dataset.\n",
    "  * Display the results."
   ]
  }
 ],
 "metadata": {
  "celltoolbar": "Slideshow",
  "kernelspec": {
   "display_name": "Python 3 (ipykernel)",
   "language": "python",
   "name": "python3"
  },
  "language_info": {
   "codemirror_mode": {
    "name": "ipython",
    "version": 3
   },
   "file_extension": ".py",
   "mimetype": "text/x-python",
   "name": "python",
   "nbconvert_exporter": "python",
   "pygments_lexer": "ipython3",
   "version": "3.9.13"
  }
 },
 "nbformat": 4,
 "nbformat_minor": 5
}
