{
 "cells": [
  {
   "cell_type": "markdown",
   "id": "boring-fight",
   "metadata": {},
   "source": [
    "## 5. DataFrame Analysis"
   ]
  },
  {
   "cell_type": "markdown",
   "id": "structural-henry",
   "metadata": {},
   "source": [
    "---"
   ]
  },
  {
   "cell_type": "markdown",
   "id": "smaller-radar",
   "metadata": {},
   "source": [
    "### Questions\n",
    "\n",
    "* \"What are some common attributes for Pandas `DataFrame`s?\"\n",
    "* \"What are some common methods for Pandas `DataFrame`s?\"\n",
    "* \"How can you do arithmetic between two Pandas columns?\"\n",
    "\n",
    "### Objectives\n",
    "* \"Learn how to access `DataFrame` attributes\"\n",
    "* \"Learn how to get statistics on a loaded `DataFrame`\"\n",
    "* \"Learn how to sum two Pandas `DataFrame` columns together\""
   ]
  },
  {
   "cell_type": "markdown",
   "id": "94c8e405-52ed-45db-a4a9-b6763c5bbf17",
   "metadata": {},
   "source": [
    "# DataFrame Attributes & Arithmetic\n",
    "\n",
    "Once you have loaded in one or more `DataFrames` you may want to investigate various aspects of the data. This could be by looking at the shape of the `DataFrame` or the mean of a single column. This could also be through arithmetic between different `DataFrame` columns (i.e. `Series`). The following lesson will focus on these two concepts and will help you better understand how you can analyze the data you have loaded into Pandas."
   ]
  },
  {
   "cell_type": "markdown",
   "id": "ca0b2c68-88af-45bb-a86f-25fbc84a077e",
   "metadata": {},
   "source": [
    "## DataFrame Attributes\n",
    "\n",
    "It is often useful to quickly explore some of the descriptive attributes and statistics of the dataset that you are working with. For instance, the shape and datatypes of the DataFrame, and the range, mean, standard deviation, etc. of the rows or columns. You may find interesting patterns or possibly catch errors in your dataset this way. As we will see, accessing these attributes and computing the descriptive statistics is easy with pandas.\n",
    "\n",
    "DataFrames have a number of attributes associated with them. With respect to exploring your dataset, perhaps the 4 most useful attributes are summarized in the table below:"
   ]
  },
  {
   "cell_type": "markdown",
   "id": "698f624f-a453-4e4a-bcbf-48024abe6cb0",
   "metadata": {},
   "source": [
    "| Attribute | Description|\n",
    "|:----------|-----------|\n",
    "| `shape`| Returns a tuple representing the dimensionality of the `DataFrame`. |\n",
    "| `size` | Returns an int representing the number of elements in this object.  |\n",
    "| `dtypes` | Returns the data types in the `DataFrame`. |\n",
    "| `columns` | Returns a `Series` of the header names from the `DataFrame`|"
   ]
  },
  {
   "cell_type": "markdown",
   "id": "e5984b6a-105f-4c54-8ab3-2bad87973afc",
   "metadata": {},
   "source": [
    "A list of all the DataFrame attributes can be found on the pandas website ([Link to `DataFrame` Docs](https://pandas.pydata.org/pandas-docs/stable/reference/api/pandas.DataFrame.html))."
   ]
  },
  {
   "cell_type": "markdown",
   "id": "bibliographic-failing",
   "metadata": {},
   "source": [
    "### Inspecting Data Types\n",
    "\n",
    "DataFrame types are important since they will determine what methods can be used. For example you can't compute the mean of a Object column that contains strings (i.e. words).\n",
    "\n",
    "One attribute that we have already used previously was the columns attribute that returns the name of each column header"
   ]
  },
  {
   "cell_type": "markdown",
   "id": "lovely-resistance",
   "metadata": {},
   "source": [
    "Load in a dataframe and check the various columns data types"
   ]
  },
  {
   "cell_type": "code",
   "execution_count": 4,
   "id": "bacterial-example",
   "metadata": {},
   "outputs": [],
   "source": [
    "import pandas as pd"
   ]
  },
  {
   "cell_type": "code",
   "execution_count": 8,
   "id": "committed-economy",
   "metadata": {},
   "outputs": [
    {
     "data": {
      "text/html": [
       "<div>\n",
       "<style scoped>\n",
       "    .dataframe tbody tr th:only-of-type {\n",
       "        vertical-align: middle;\n",
       "    }\n",
       "\n",
       "    .dataframe tbody tr th {\n",
       "        vertical-align: top;\n",
       "    }\n",
       "\n",
       "    .dataframe thead th {\n",
       "        text-align: right;\n",
       "    }\n",
       "</style>\n",
       "<table border=\"1\" class=\"dataframe\">\n",
       "  <thead>\n",
       "    <tr style=\"text-align: right;\">\n",
       "      <th></th>\n",
       "      <th>Sample ID</th>\n",
       "      <th>date mmddyy</th>\n",
       "      <th>press dbar</th>\n",
       "      <th>temp ITS-90</th>\n",
       "      <th>csal PSS-78</th>\n",
       "      <th>coxy umol/kg</th>\n",
       "      <th>ph</th>\n",
       "    </tr>\n",
       "  </thead>\n",
       "  <tbody>\n",
       "    <tr>\n",
       "      <th>0</th>\n",
       "      <td>Sample-1</td>\n",
       "      <td>40610</td>\n",
       "      <td>239.8</td>\n",
       "      <td>18.9625</td>\n",
       "      <td>35.0636</td>\n",
       "      <td>NaN</td>\n",
       "      <td>7.951</td>\n",
       "    </tr>\n",
       "    <tr>\n",
       "      <th>1</th>\n",
       "      <td>Sample-2</td>\n",
       "      <td>40610</td>\n",
       "      <td>280.7</td>\n",
       "      <td>16.1095</td>\n",
       "      <td>34.6103</td>\n",
       "      <td>192.3</td>\n",
       "      <td>NaN</td>\n",
       "    </tr>\n",
       "    <tr>\n",
       "      <th>2</th>\n",
       "      <td>Sample-3</td>\n",
       "      <td>40610</td>\n",
       "      <td>320.1</td>\n",
       "      <td>12.9729</td>\n",
       "      <td>34.2475</td>\n",
       "      <td>190.8</td>\n",
       "      <td>NaN</td>\n",
       "    </tr>\n",
       "    <tr>\n",
       "      <th>3</th>\n",
       "      <td>Sample-4</td>\n",
       "      <td>40610</td>\n",
       "      <td>341.3</td>\n",
       "      <td>11.9665</td>\n",
       "      <td>34.1884</td>\n",
       "      <td>191.3</td>\n",
       "      <td>7.780</td>\n",
       "    </tr>\n",
       "    <tr>\n",
       "      <th>4</th>\n",
       "      <td>Sample-5</td>\n",
       "      <td>40610</td>\n",
       "      <td>360.1</td>\n",
       "      <td>11.3636</td>\n",
       "      <td>34.1709</td>\n",
       "      <td>203.5</td>\n",
       "      <td>NaN</td>\n",
       "    </tr>\n",
       "    <tr>\n",
       "      <th>5</th>\n",
       "      <td>Sample-6</td>\n",
       "      <td>40610</td>\n",
       "      <td>385.0</td>\n",
       "      <td>10.4636</td>\n",
       "      <td>34.1083</td>\n",
       "      <td>193.7</td>\n",
       "      <td>NaN</td>\n",
       "    </tr>\n",
       "    <tr>\n",
       "      <th>6</th>\n",
       "      <td>Sample-7</td>\n",
       "      <td>40610</td>\n",
       "      <td>443.7</td>\n",
       "      <td>8.5897</td>\n",
       "      <td>34.0567</td>\n",
       "      <td>156.5</td>\n",
       "      <td>NaN</td>\n",
       "    </tr>\n",
       "    <tr>\n",
       "      <th>7</th>\n",
       "      <td>Sample-8</td>\n",
       "      <td>40610</td>\n",
       "      <td>497.8</td>\n",
       "      <td>7.1464</td>\n",
       "      <td>34.0424</td>\n",
       "      <td>110.7</td>\n",
       "      <td>7.496</td>\n",
       "    </tr>\n",
       "  </tbody>\n",
       "</table>\n",
       "</div>"
      ],
      "text/plain": [
       "  Sample ID  date mmddyy  press dbar  temp ITS-90  csal PSS-78  coxy umol/kg  \\\n",
       "0  Sample-1        40610       239.8      18.9625      35.0636           NaN   \n",
       "1  Sample-2        40610       280.7      16.1095      34.6103         192.3   \n",
       "2  Sample-3        40610       320.1      12.9729      34.2475         190.8   \n",
       "3  Sample-4        40610       341.3      11.9665      34.1884         191.3   \n",
       "4  Sample-5        40610       360.1      11.3636      34.1709         203.5   \n",
       "5  Sample-6        40610       385.0      10.4636      34.1083         193.7   \n",
       "6  Sample-7        40610       443.7       8.5897      34.0567         156.5   \n",
       "7  Sample-8        40610       497.8       7.1464      34.0424         110.7   \n",
       "\n",
       "      ph  \n",
       "0  7.951  \n",
       "1    NaN  \n",
       "2    NaN  \n",
       "3  7.780  \n",
       "4    NaN  \n",
       "5    NaN  \n",
       "6    NaN  \n",
       "7  7.496  "
      ]
     },
     "execution_count": 8,
     "metadata": {},
     "output_type": "execute_result"
    }
   ],
   "source": [
    "df = pd.read_csv(\"data/types_dataframe.csv\")\n",
    "df"
   ]
  },
  {
   "cell_type": "code",
   "execution_count": 6,
   "id": "fifth-forest",
   "metadata": {},
   "outputs": [
    {
     "data": {
      "text/plain": [
       "Index(['Sample ID', 'date mmddyy', 'press dbar', 'temp ITS-90', 'csal PSS-78',\n",
       "       'coxy umol/kg', 'ph'],\n",
       "      dtype='object')"
      ]
     },
     "execution_count": 6,
     "metadata": {},
     "output_type": "execute_result"
    }
   ],
   "source": [
    "df.columns"
   ]
  },
  {
   "cell_type": "markdown",
   "id": "7e2a6f88-3532-41d7-9f34-291a082cd062",
   "metadata": {},
   "source": [
    "However, what if we wanted to see the data type associated with each column header? Luckily, there is a quick and easy way to do this by accessing the `dtypes` attribute. `dtypes` is a series maintained by each `DataFrame` that contains the data type for each column inside a `DataFrame`. As an example if we want to access the `dtypes` attribute the `DataFrame` called `df` (seen below) we can access the `dtypes` of the `DataFrame`.\n",
    "\n",
    "![image.png](https://change-hi.github.io/morea/data-wrangling/fig/E5_1_types_dataframe.png)"
   ]
  },
  {
   "cell_type": "code",
   "execution_count": 7,
   "id": "interesting-yukon",
   "metadata": {},
   "outputs": [
    {
     "data": {
      "text/plain": [
       "Sample ID        object\n",
       "date mmddyy       int64\n",
       "press dbar      float64\n",
       "temp ITS-90     float64\n",
       "csal PSS-78     float64\n",
       "coxy umol/kg    float64\n",
       "ph              float64\n",
       "dtype: object"
      ]
     },
     "execution_count": 7,
     "metadata": {},
     "output_type": "execute_result"
    }
   ],
   "source": [
    "df.dtypes"
   ]
  },
  {
   "cell_type": "markdown",
   "id": "354552b9-ee40-4b4f-881d-871e0ad33a85",
   "metadata": {},
   "source": [
    "## Data Types\n",
    "\n",
    "Pandas has a number of different data types:\n",
    "\n",
    "| Python Type       | Equivalent Pandas Type | Description                                                                                                       |\n",
    "| :---------------- | :--------------------- | :---------------------------------------------------------------------------------------------------------------- |\n",
    "| `string or mixed` | `object`               | Columns contain partially or completely made up from strings                                                      |\n",
    "| `int`             | `int64`                | Columns with numeric (integer) values. The 64 here refers <br/>to size of the memory space allocated to this type |\n",
    "| `float`           | `float64`              | Columns with floating points numbers (numbers with decimal points)                                                |\n",
    "| `bool`            | `bool`                 | True/False values                                                                                                 |\n",
    "| `datetime`        | `datetime`             | Date and/or time values "
   ]
  },
  {
   "cell_type": "markdown",
   "id": "e9736dd3-9826-4bfd-9571-9e176558b6e8",
   "metadata": {},
   "source": [
    "While Pandas is usually pretty good at getting the type of a column right sometimes you might need help it by providing the type when the data is loaded in or by converting it to a more suitable format.\n",
    "\n",
    "As an example we are going to use the column 'date mmddyy' to create a new column just called 'date' that has the type `datetime`.\n",
    "\n",
    "To start we can convert the information stored in 'date mmddyy' into a new `Series` with the `datetime` type. To do this we call the `to_datetime` method and provide the `Series` we want it to convert from as a parameter. Additionally we also need to specify the format that our date format is in. In our case we have month day and then year with each denoted by two numbers and no separators. To tell `to_datetime` that our data is formatted in this way we pass '%m%d%y' to the `format` parameter. This format parameter Python is based on native python string conversion to `datetime` format more information can be found on on the python docs ([Link to string to `datetime` conversion docs](https://docs.python.org/3/library/datetime.html#strftime-and-strptime-behavior))"
   ]
  },
  {
   "cell_type": "markdown",
   "id": "998360ff-8564-46c3-aa0f-5c2b67dacac0",
   "metadata": {},
   "source": [
    "### For more information\n",
    "\n",
    "More information on the to_datetime method can be found on the Pandas website ([Link to `to_datetime` method docs](https://pandas.pydata.org/docs/reference/api/pandas.to_datetime.html))."
   ]
  },
  {
   "cell_type": "code",
   "execution_count": 8,
   "id": "catholic-brook",
   "metadata": {},
   "outputs": [
    {
     "data": {
      "text/plain": [
       "0   2010-04-06\n",
       "1   2010-04-06\n",
       "2   2010-04-06\n",
       "3   2010-04-06\n",
       "4   2010-04-06\n",
       "5   2010-04-06\n",
       "6   2010-04-06\n",
       "7   2010-04-06\n",
       "Name: date mmddyy, dtype: datetime64[ns]"
      ]
     },
     "execution_count": 8,
     "metadata": {},
     "output_type": "execute_result"
    }
   ],
   "source": [
    "pd.to_datetime(df['date mmddyy'], format='%m%d%y')"
   ]
  },
  {
   "cell_type": "markdown",
   "id": "f58ea72f-46c1-42e9-8202-4148c7665d75",
   "metadata": {},
   "source": [
    "Now that we have the correct output format we can create a new column to hold the converted data in by creating a new named column. We will also drop the previously used 'date mmddyy' column to prevent confusion. Lastly, we will display the types for each of the columns to check that everything went the way we wanted it to."
   ]
  },
  {
   "cell_type": "code",
   "execution_count": 9,
   "id": "deadly-spanish",
   "metadata": {},
   "outputs": [
    {
     "data": {
      "text/plain": [
       "Sample ID               object\n",
       "press dbar             float64\n",
       "temp ITS-90            float64\n",
       "csal PSS-78            float64\n",
       "coxy umol/kg           float64\n",
       "ph                     float64\n",
       "date            datetime64[ns]\n",
       "dtype: object"
      ]
     },
     "execution_count": 9,
     "metadata": {},
     "output_type": "execute_result"
    }
   ],
   "source": [
    "df[\"date\"] = pd.to_datetime(df['date mmddyy'], format='%m%d%y')\n",
    "df = df.drop(columns=[\"date mmddyy\"])\n",
    "df.dtypes"
   ]
  },
  {
   "cell_type": "markdown",
   "id": "0a97e60b-f1a7-4f48-a161-93a60f045255",
   "metadata": {},
   "source": [
    "For reference this is what the final `DataFrame` looks like. **Note that the date column is at the right side of the `DataFrame` since it was added last.**"
   ]
  },
  {
   "cell_type": "code",
   "execution_count": 10,
   "id": "alert-residence",
   "metadata": {},
   "outputs": [
    {
     "data": {
      "text/html": [
       "<div>\n",
       "<style scoped>\n",
       "    .dataframe tbody tr th:only-of-type {\n",
       "        vertical-align: middle;\n",
       "    }\n",
       "\n",
       "    .dataframe tbody tr th {\n",
       "        vertical-align: top;\n",
       "    }\n",
       "\n",
       "    .dataframe thead th {\n",
       "        text-align: right;\n",
       "    }\n",
       "</style>\n",
       "<table border=\"1\" class=\"dataframe\">\n",
       "  <thead>\n",
       "    <tr style=\"text-align: right;\">\n",
       "      <th></th>\n",
       "      <th>Sample ID</th>\n",
       "      <th>press dbar</th>\n",
       "      <th>temp ITS-90</th>\n",
       "      <th>csal PSS-78</th>\n",
       "      <th>coxy umol/kg</th>\n",
       "      <th>ph</th>\n",
       "      <th>date</th>\n",
       "    </tr>\n",
       "  </thead>\n",
       "  <tbody>\n",
       "    <tr>\n",
       "      <th>0</th>\n",
       "      <td>Sample-1</td>\n",
       "      <td>239.8</td>\n",
       "      <td>18.9625</td>\n",
       "      <td>35.0636</td>\n",
       "      <td>NaN</td>\n",
       "      <td>7.951</td>\n",
       "      <td>2010-04-06</td>\n",
       "    </tr>\n",
       "    <tr>\n",
       "      <th>1</th>\n",
       "      <td>Sample-2</td>\n",
       "      <td>280.7</td>\n",
       "      <td>16.1095</td>\n",
       "      <td>34.6103</td>\n",
       "      <td>192.3</td>\n",
       "      <td>NaN</td>\n",
       "      <td>2010-04-06</td>\n",
       "    </tr>\n",
       "    <tr>\n",
       "      <th>2</th>\n",
       "      <td>Sample-3</td>\n",
       "      <td>320.1</td>\n",
       "      <td>12.9729</td>\n",
       "      <td>34.2475</td>\n",
       "      <td>190.8</td>\n",
       "      <td>NaN</td>\n",
       "      <td>2010-04-06</td>\n",
       "    </tr>\n",
       "    <tr>\n",
       "      <th>3</th>\n",
       "      <td>Sample-4</td>\n",
       "      <td>341.3</td>\n",
       "      <td>11.9665</td>\n",
       "      <td>34.1884</td>\n",
       "      <td>191.3</td>\n",
       "      <td>7.780</td>\n",
       "      <td>2010-04-06</td>\n",
       "    </tr>\n",
       "    <tr>\n",
       "      <th>4</th>\n",
       "      <td>Sample-5</td>\n",
       "      <td>360.1</td>\n",
       "      <td>11.3636</td>\n",
       "      <td>34.1709</td>\n",
       "      <td>203.5</td>\n",
       "      <td>NaN</td>\n",
       "      <td>2010-04-06</td>\n",
       "    </tr>\n",
       "    <tr>\n",
       "      <th>5</th>\n",
       "      <td>Sample-6</td>\n",
       "      <td>385.0</td>\n",
       "      <td>10.4636</td>\n",
       "      <td>34.1083</td>\n",
       "      <td>193.7</td>\n",
       "      <td>NaN</td>\n",
       "      <td>2010-04-06</td>\n",
       "    </tr>\n",
       "    <tr>\n",
       "      <th>6</th>\n",
       "      <td>Sample-7</td>\n",
       "      <td>443.7</td>\n",
       "      <td>8.5897</td>\n",
       "      <td>34.0567</td>\n",
       "      <td>156.5</td>\n",
       "      <td>NaN</td>\n",
       "      <td>2010-04-06</td>\n",
       "    </tr>\n",
       "    <tr>\n",
       "      <th>7</th>\n",
       "      <td>Sample-8</td>\n",
       "      <td>497.8</td>\n",
       "      <td>7.1464</td>\n",
       "      <td>34.0424</td>\n",
       "      <td>110.7</td>\n",
       "      <td>7.496</td>\n",
       "      <td>2010-04-06</td>\n",
       "    </tr>\n",
       "  </tbody>\n",
       "</table>\n",
       "</div>"
      ],
      "text/plain": [
       "  Sample ID  press dbar  temp ITS-90  csal PSS-78  coxy umol/kg     ph  \\\n",
       "0  Sample-1       239.8      18.9625      35.0636           NaN  7.951   \n",
       "1  Sample-2       280.7      16.1095      34.6103         192.3    NaN   \n",
       "2  Sample-3       320.1      12.9729      34.2475         190.8    NaN   \n",
       "3  Sample-4       341.3      11.9665      34.1884         191.3  7.780   \n",
       "4  Sample-5       360.1      11.3636      34.1709         203.5    NaN   \n",
       "5  Sample-6       385.0      10.4636      34.1083         193.7    NaN   \n",
       "6  Sample-7       443.7       8.5897      34.0567         156.5    NaN   \n",
       "7  Sample-8       497.8       7.1464      34.0424         110.7  7.496   \n",
       "\n",
       "        date  \n",
       "0 2010-04-06  \n",
       "1 2010-04-06  \n",
       "2 2010-04-06  \n",
       "3 2010-04-06  \n",
       "4 2010-04-06  \n",
       "5 2010-04-06  \n",
       "6 2010-04-06  \n",
       "7 2010-04-06  "
      ]
     },
     "execution_count": 10,
     "metadata": {},
     "output_type": "execute_result"
    }
   ],
   "source": [
    "df"
   ]
  },
  {
   "cell_type": "markdown",
   "id": "strong-bowling",
   "metadata": {},
   "source": [
    "---"
   ]
  },
  {
   "cell_type": "markdown",
   "id": "monthly-cocktail",
   "metadata": {},
   "source": [
    "### `DataFrame` Methods\n",
    "\n",
    "There are a variety of built-in methods to work with `DataFrame`. These are accessible using e.g. `df.method_name()` where `df` is a `DataFrame` variable and `method_name`is some method.  A list of some useful methods is provided below:\n",
    "\n",
    "| Method|Description|\n",
    "|:----------|-----------|\n",
    "| `head()`| Return the first `n=5` rows by default. The value of `n` can be changed. |\n",
    "| `tail()` | Return the last `n=5` rows by default. The value of `n` can be changed. |\n",
    "| `min()`, `max()` | Computes the numeric (for numeric value) or alphanumeric (for object values) row-wise min, max in a Series or DataFrame.|\n",
    "| `sum()`, `mean()`, `std()`, `var()`   | Computes the sum, mean, standard deviation and variance in a `Series` or DataFrame.|\n",
    "|`nlargest()`| Return the first n rows of the `Series` or `DataFrame`, ordered by the specified columns in descending order. |\n",
    "| `count()` |  Returns the number of non-NaN values in the in a `Series` or `DataFrame`. |\n",
    "| `value_counts()` |  Returns the frequency for each value in the `Series`. |\n",
    "| `describe()` | Computes row-wise statistics. |"
   ]
  },
  {
   "cell_type": "markdown",
   "id": "23dde885-43b8-413c-800e-5cbf6a6d2ab7",
   "metadata": {},
   "source": [
    "### For more information\n",
    "\n",
    "A full list of methods for `DataFrames` can be found in the Pandas docs ([Link to `DataFrame` Docs](https://pandas.pydata.org/pandas-docs/stable/reference/api/pandas.DataFrame.html))."
   ]
  },
  {
   "cell_type": "markdown",
   "id": "4e416356-dc72-45e8-87d1-69c06b1f371b",
   "metadata": {},
   "source": [
    "#### `mean()` Method\n",
    "\n",
    "The `mean()` method calculates the mean for an axis (rows = 0, columns = 1). As an example let's return to our previous `DataFrame` `df`.\n",
    "\n",
    "If we want to find the mean of all of our numeric columns we would give the following command"
   ]
  },
  {
   "cell_type": "code",
   "execution_count": 11,
   "id": "familiar-aaron",
   "metadata": {},
   "outputs": [
    {
     "data": {
      "text/plain": [
       "press dbar      358.562500\n",
       "temp ITS-90      12.196838\n",
       "csal PSS-78      34.311013\n",
       "coxy umol/kg    176.971429\n",
       "ph                7.742333\n",
       "dtype: float64"
      ]
     },
     "execution_count": 11,
     "metadata": {},
     "output_type": "execute_result"
    }
   ],
   "source": [
    "df.mean(numeric_only=True)"
   ]
  },
  {
   "cell_type": "markdown",
   "id": "05640458-4ee8-46fa-b1a8-b3a33cdcccdb",
   "metadata": {},
   "source": [
    "**Note: only the columns with numeric data types had their means calculated.**"
   ]
  },
  {
   "cell_type": "markdown",
   "id": "1db00be8-07e6-4e00-9d1a-d08d7ce0c4cc",
   "metadata": {},
   "source": [
    "## Single Column (`Series`) Methods\n",
    "\n",
    "If we only want the mean of a single column we would instead give the `mean()` method a single column (i.e. a `Series`). This could be done for the latitude column in the example above via the code bit `df['Latitude'].mean()` which would return a single value 31.09682 which is the mean of that column (as seen above).\n",
    "\n",
    "\n",
    "Other methods like `max()`, `var()`, and `count()` function in much the same way."
   ]
  },
  {
   "cell_type": "markdown",
   "id": "hired-furniture",
   "metadata": {},
   "source": [
    "#### `describe()` Method\n",
    "\n",
    "A method that is a bit more tricky to understand is the `describe()` method. This method provides a range of statistics about the `DataFrame` depending on the contents. For example if we were to run `describe()` on the previously mentioned `DataFrame` called `df` using the code bit below. "
   ]
  },
  {
   "cell_type": "markdown",
   "id": "b6eadb61-d1a0-422e-a92a-3401ea8ef29c",
   "metadata": {},
   "source": [
    "### Single Column (`Series`) Methods\n",
    "\n",
    "By default the `describe()` method will only use numeric columns. To tell it to use all columns regardless of whether they are numeric or not we have to set `include='all'`-"
   ]
  },
  {
   "cell_type": "code",
   "execution_count": 12,
   "id": "empty-burden",
   "metadata": {},
   "outputs": [
    {
     "data": {
      "text/html": [
       "<div>\n",
       "<style scoped>\n",
       "    .dataframe tbody tr th:only-of-type {\n",
       "        vertical-align: middle;\n",
       "    }\n",
       "\n",
       "    .dataframe tbody tr th {\n",
       "        vertical-align: top;\n",
       "    }\n",
       "\n",
       "    .dataframe thead th {\n",
       "        text-align: right;\n",
       "    }\n",
       "</style>\n",
       "<table border=\"1\" class=\"dataframe\">\n",
       "  <thead>\n",
       "    <tr style=\"text-align: right;\">\n",
       "      <th></th>\n",
       "      <th>Sample ID</th>\n",
       "      <th>press dbar</th>\n",
       "      <th>temp ITS-90</th>\n",
       "      <th>csal PSS-78</th>\n",
       "      <th>coxy umol/kg</th>\n",
       "      <th>ph</th>\n",
       "      <th>date</th>\n",
       "    </tr>\n",
       "  </thead>\n",
       "  <tbody>\n",
       "    <tr>\n",
       "      <th>count</th>\n",
       "      <td>8</td>\n",
       "      <td>8.000000</td>\n",
       "      <td>8.000000</td>\n",
       "      <td>8.000000</td>\n",
       "      <td>7.000000</td>\n",
       "      <td>3.000000</td>\n",
       "      <td>8</td>\n",
       "    </tr>\n",
       "    <tr>\n",
       "      <th>unique</th>\n",
       "      <td>8</td>\n",
       "      <td>NaN</td>\n",
       "      <td>NaN</td>\n",
       "      <td>NaN</td>\n",
       "      <td>NaN</td>\n",
       "      <td>NaN</td>\n",
       "      <td>NaN</td>\n",
       "    </tr>\n",
       "    <tr>\n",
       "      <th>top</th>\n",
       "      <td>Sample-1</td>\n",
       "      <td>NaN</td>\n",
       "      <td>NaN</td>\n",
       "      <td>NaN</td>\n",
       "      <td>NaN</td>\n",
       "      <td>NaN</td>\n",
       "      <td>NaN</td>\n",
       "    </tr>\n",
       "    <tr>\n",
       "      <th>freq</th>\n",
       "      <td>1</td>\n",
       "      <td>NaN</td>\n",
       "      <td>NaN</td>\n",
       "      <td>NaN</td>\n",
       "      <td>NaN</td>\n",
       "      <td>NaN</td>\n",
       "      <td>NaN</td>\n",
       "    </tr>\n",
       "    <tr>\n",
       "      <th>mean</th>\n",
       "      <td>NaN</td>\n",
       "      <td>358.562500</td>\n",
       "      <td>12.196838</td>\n",
       "      <td>34.311013</td>\n",
       "      <td>176.971429</td>\n",
       "      <td>7.742333</td>\n",
       "      <td>2010-04-06 00:00:00</td>\n",
       "    </tr>\n",
       "    <tr>\n",
       "      <th>min</th>\n",
       "      <td>NaN</td>\n",
       "      <td>239.800000</td>\n",
       "      <td>7.146400</td>\n",
       "      <td>34.042400</td>\n",
       "      <td>110.700000</td>\n",
       "      <td>7.496000</td>\n",
       "      <td>2010-04-06 00:00:00</td>\n",
       "    </tr>\n",
       "    <tr>\n",
       "      <th>25%</th>\n",
       "      <td>NaN</td>\n",
       "      <td>310.250000</td>\n",
       "      <td>9.995125</td>\n",
       "      <td>34.095400</td>\n",
       "      <td>173.650000</td>\n",
       "      <td>7.638000</td>\n",
       "      <td>2010-04-06 00:00:00</td>\n",
       "    </tr>\n",
       "    <tr>\n",
       "      <th>50%</th>\n",
       "      <td>NaN</td>\n",
       "      <td>350.700000</td>\n",
       "      <td>11.665050</td>\n",
       "      <td>34.179650</td>\n",
       "      <td>191.300000</td>\n",
       "      <td>7.780000</td>\n",
       "      <td>2010-04-06 00:00:00</td>\n",
       "    </tr>\n",
       "    <tr>\n",
       "      <th>75%</th>\n",
       "      <td>NaN</td>\n",
       "      <td>399.675000</td>\n",
       "      <td>13.757050</td>\n",
       "      <td>34.338200</td>\n",
       "      <td>193.000000</td>\n",
       "      <td>7.865500</td>\n",
       "      <td>2010-04-06 00:00:00</td>\n",
       "    </tr>\n",
       "    <tr>\n",
       "      <th>max</th>\n",
       "      <td>NaN</td>\n",
       "      <td>497.800000</td>\n",
       "      <td>18.962500</td>\n",
       "      <td>35.063600</td>\n",
       "      <td>203.500000</td>\n",
       "      <td>7.951000</td>\n",
       "      <td>2010-04-06 00:00:00</td>\n",
       "    </tr>\n",
       "    <tr>\n",
       "      <th>std</th>\n",
       "      <td>NaN</td>\n",
       "      <td>83.905762</td>\n",
       "      <td>3.853666</td>\n",
       "      <td>0.353064</td>\n",
       "      <td>32.726376</td>\n",
       "      <td>0.229827</td>\n",
       "      <td>NaN</td>\n",
       "    </tr>\n",
       "  </tbody>\n",
       "</table>\n",
       "</div>"
      ],
      "text/plain": [
       "       Sample ID  press dbar  temp ITS-90  csal PSS-78  coxy umol/kg  \\\n",
       "count          8    8.000000     8.000000     8.000000      7.000000   \n",
       "unique         8         NaN          NaN          NaN           NaN   \n",
       "top     Sample-1         NaN          NaN          NaN           NaN   \n",
       "freq           1         NaN          NaN          NaN           NaN   \n",
       "mean         NaN  358.562500    12.196838    34.311013    176.971429   \n",
       "min          NaN  239.800000     7.146400    34.042400    110.700000   \n",
       "25%          NaN  310.250000     9.995125    34.095400    173.650000   \n",
       "50%          NaN  350.700000    11.665050    34.179650    191.300000   \n",
       "75%          NaN  399.675000    13.757050    34.338200    193.000000   \n",
       "max          NaN  497.800000    18.962500    35.063600    203.500000   \n",
       "std          NaN   83.905762     3.853666     0.353064     32.726376   \n",
       "\n",
       "              ph                 date  \n",
       "count   3.000000                    8  \n",
       "unique       NaN                  NaN  \n",
       "top          NaN                  NaN  \n",
       "freq         NaN                  NaN  \n",
       "mean    7.742333  2010-04-06 00:00:00  \n",
       "min     7.496000  2010-04-06 00:00:00  \n",
       "25%     7.638000  2010-04-06 00:00:00  \n",
       "50%     7.780000  2010-04-06 00:00:00  \n",
       "75%     7.865500  2010-04-06 00:00:00  \n",
       "max     7.951000  2010-04-06 00:00:00  \n",
       "std     0.229827                  NaN  "
      ]
     },
     "execution_count": 12,
     "metadata": {},
     "output_type": "execute_result"
    }
   ],
   "source": [
    "df.describe(include='all', datetime_is_numeric=True)"
   ]
  },
  {
   "cell_type": "markdown",
   "id": "b09d5fcb-fea0-49fc-b392-7cf5c87f66bd",
   "metadata": {},
   "source": [
    "Here we get statistics regarding e.g. the mean of each column, how many non-NaN values are found in the columns, the standard deviation of the column, etc. The percent values correspond to the different percentiles of each column e.g. the 25% percentile. The NaN values are since we can't get e.g. the `mean()` of an `object` type column. "
   ]
  },
  {
   "cell_type": "markdown",
   "id": "f4001bc6-8443-4689-8a0b-ffdfa20b2adc",
   "metadata": {},
   "source": [
    "### For more information\n",
    "\n",
    "More information about the `describe()` method can be found on the Pandas website ([Link to `describe()` method docs](https://pandas.pydata.org/pandas-docs/stable/reference/api/pandas.DataFrame.describe.html))."
   ]
  },
  {
   "cell_type": "code",
   "execution_count": 6,
   "id": "65469f1a",
   "metadata": {},
   "outputs": [
    {
     "data": {
      "text/html": [
       "<div>\n",
       "<style scoped>\n",
       "    .dataframe tbody tr th:only-of-type {\n",
       "        vertical-align: middle;\n",
       "    }\n",
       "\n",
       "    .dataframe tbody tr th {\n",
       "        vertical-align: top;\n",
       "    }\n",
       "\n",
       "    .dataframe thead th {\n",
       "        text-align: right;\n",
       "    }\n",
       "</style>\n",
       "<table border=\"1\" class=\"dataframe\">\n",
       "  <thead>\n",
       "    <tr style=\"text-align: right;\">\n",
       "      <th></th>\n",
       "      <th>A</th>\n",
       "      <th>B</th>\n",
       "    </tr>\n",
       "  </thead>\n",
       "  <tbody>\n",
       "    <tr>\n",
       "      <th>0</th>\n",
       "      <td>1</td>\n",
       "      <td>5</td>\n",
       "    </tr>\n",
       "    <tr>\n",
       "      <th>1</th>\n",
       "      <td>2</td>\n",
       "      <td>6</td>\n",
       "    </tr>\n",
       "    <tr>\n",
       "      <th>2</th>\n",
       "      <td>3</td>\n",
       "      <td>7</td>\n",
       "    </tr>\n",
       "  </tbody>\n",
       "</table>\n",
       "</div>"
      ],
      "text/plain": [
       "   A  B\n",
       "0  1  5\n",
       "1  2  6\n",
       "2  3  7"
      ]
     },
     "execution_count": 6,
     "metadata": {},
     "output_type": "execute_result"
    }
   ],
   "source": [
    "temp_df = pd.DataFrame({\"A\": [1,2,3], \"B\": [5,6,7]})\n",
    "temp_df"
   ]
  },
  {
   "cell_type": "markdown",
   "id": "8f751949-a4aa-4a37-8ffc-230147dac6a0",
   "metadata": {},
   "source": [
    "### Key points\n",
    "* Use `.dtypes` to get the types of each column in a `DataFrame`.\n",
    "* To get general statistics on the DataFrame you can use the `describe` method.\n",
    "* You can add a constant to a numeric column by using the `column + constant`."
   ]
  },
  {
   "cell_type": "markdown",
   "id": "f17e482e",
   "metadata": {},
   "source": [
    "### Exercise 1\n",
    "\n",
    "Find the mean temperatre (`\"temp ITS-90\"`) of the `nlargest` observation where `n = 5`. To achieve this, you can use the method `nlargest`, which takes two parameters, `n` the number of values to show and `columns` is the list of columns on which we would like to sort the data.\n"
   ]
  },
  {
   "cell_type": "code",
   "execution_count": null,
   "id": "f542d2ea-3f06-4f41-af9d-dcd81caa1a77",
   "metadata": {},
   "outputs": [],
   "source": []
  },
  {
   "cell_type": "code",
   "execution_count": null,
   "id": "a17d9faa-1ff9-4c66-b1d2-b1cd79d62458",
   "metadata": {},
   "outputs": [],
   "source": []
  },
  {
   "cell_type": "code",
   "execution_count": null,
   "id": "0dfa5efe-8d23-401b-8af4-8172c289ac21",
   "metadata": {},
   "outputs": [],
   "source": []
  },
  {
   "cell_type": "code",
   "execution_count": null,
   "id": "82f18f97-1f40-4db9-9392-2370803f7125",
   "metadata": {},
   "outputs": [],
   "source": []
  },
  {
   "cell_type": "code",
   "execution_count": null,
   "id": "344fd00a-ccdb-4cb4-88fa-1d2507b52e78",
   "metadata": {},
   "outputs": [],
   "source": []
  },
  {
   "cell_type": "code",
   "execution_count": null,
   "id": "6639ddc8-f345-4652-9a11-d956173b0b7b",
   "metadata": {},
   "outputs": [],
   "source": []
  },
  {
   "cell_type": "code",
   "execution_count": null,
   "id": "f33bb252-c8dd-45b9-bd40-da34e56a4880",
   "metadata": {},
   "outputs": [],
   "source": []
  },
  {
   "cell_type": "code",
   "execution_count": null,
   "id": "929155f9-f065-4b1e-b006-c39e803435ef",
   "metadata": {},
   "outputs": [],
   "source": []
  },
  {
   "cell_type": "code",
   "execution_count": null,
   "id": "5e4ad1e6-2008-4406-bca7-f7efae8cefaa",
   "metadata": {},
   "outputs": [],
   "source": []
  },
  {
   "cell_type": "code",
   "execution_count": null,
   "id": "f20b95c5-1d0e-49b5-8e27-727ff8db7aab",
   "metadata": {},
   "outputs": [],
   "source": []
  },
  {
   "cell_type": "markdown",
   "id": "7abc047f",
   "metadata": {},
   "source": [
    "### Solutions\n"
   ]
  },
  {
   "cell_type": "code",
   "execution_count": null,
   "id": "a61ad8d0",
   "metadata": {},
   "outputs": [],
   "source": [
    "### Exercise 1\n",
    "# df.nlargest(n=5, columns=[\"temp ITS-90\"])[\"temp ITS-90\"].mean()"
   ]
  }
 ],
 "metadata": {
  "kernelspec": {
   "display_name": "Python 3 (ipykernel)",
   "language": "python",
   "name": "python3"
  },
  "language_info": {
   "codemirror_mode": {
    "name": "ipython",
    "version": 3
   },
   "file_extension": ".py",
   "mimetype": "text/x-python",
   "name": "python",
   "nbconvert_exporter": "python",
   "pygments_lexer": "ipython3",
   "version": "3.9.13"
  }
 },
 "nbformat": 4,
 "nbformat_minor": 5
}
