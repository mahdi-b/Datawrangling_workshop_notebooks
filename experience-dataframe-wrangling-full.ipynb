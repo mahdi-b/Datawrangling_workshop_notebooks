{
 "cells": [
  {
   "cell_type": "markdown",
   "id": "dab711d2",
   "metadata": {},
   "source": [
    "## 4. Wrangling DataFrames\n",
    "\n",
    "### Questions\n",
    "* How can you select individual columns or rows from a DataFrame?\n",
    "* How can you subset a DataFrame?\n",
    "* How can you sort a DataFrame?\n",
    "\n",
    "### Objectives\n",
    "\n",
    "* Learn how to select specific columns or rows from a DataFrame\n",
    "* Learn how to select rows based on conditions.\n",
    "* Learn how to sort a DataFrame’s rows or columns.\n"
   ]
  },
  {
   "cell_type": "markdown",
   "id": "a511d3b1",
   "metadata": {},
   "source": [
    "## What is Data Wrangling?\n",
    "\n",
    "Data wrangling is the process of cleaning, transforming, and mapping data from various sources into a format that can be used for analysis or modeling. It involves various tasks such as handling missing or duplicate data, handling outliers, and combining data from different sources."
   ]
  },
  {
   "cell_type": "markdown",
   "id": "56bc00e0",
   "metadata": {},
   "source": [
    "### Selection, Subsetting and Sorting a DataFrame\n",
    "\n",
    "When exploring our data we will often want to focus our attention to specific rows, columns, and entries that satisfy certain conditions. We may want to either look at a single column of the data or work with a subset of the original data. \n",
    "\n",
    "Furthermore, it is often helpful to sort our data set using a particular relation to identify patterns and to understand the data’s structure. For example, suppose the original data set we acquire and want to analyze describes a sport team’s performance for each game during a season and it is original ordered in chronological order. It may be interesting to sort the game play statistics using a different relation such as number of points scored to easily identify high and low scoring games.\n",
    "\n",
    "\n"
   ]
  },
  {
   "cell_type": "markdown",
   "id": "d15fb129",
   "metadata": {},
   "source": [
    "## Selection\n",
    "\n",
    "Selecting data from a DataFrame is very easy and builds on concepts we discussed in the previous lesson. As mentioned previously, in a DataFrame we have column names called headers and row names called indexes. Depending on how we loaded the data these might be integers or some other ID.\n",
    "\n",
    "If we have the example DataFrame seen in the image below we can select and/or subset various combinations of rows and columns by using Pandas.\n",
    "\n",
    "![](https://change-hi.github.io/morea/data-wrangling/fig/E4_1_selection_dataframe.png)"
   ]
  },
  {
   "cell_type": "markdown",
   "id": "dd88fa7d",
   "metadata": {},
   "source": [
    "## Selecting Columns\n",
    "\n",
    "To start off lets focus on subsetting columns. If we have a DataFrame called df and a column called ‘ph’ we can subset the DataFrame using df['ph'].\n",
    "\n",
    "###### INPUT\n",
    "```python\n",
    "df['ph']\n",
    "```\n",
    "\n",
    "###### Output\n",
    "```bash\n",
    "Sample ID\n",
    "Sample-1    7.951\n",
    "Sample-2      NaN\n",
    "Sample-3      NaN\n",
    "Sample-4    7.780\n",
    "Sample-5      NaN\n",
    "Sample-6      NaN\n",
    "Sample-7      NaN\n",
    "Sample-8    7.496\n",
    "Name: ph, dtype: float64\n",
    "```\n"
   ]
  },
  {
   "cell_type": "markdown",
   "id": "25b829c8",
   "metadata": {},
   "source": [
    "### Selecting Rows\n",
    "\n",
    "If on the other hand we want to access a subset rows we have to use a slightly different approach. While previously we could just pass the name of the column inside brackets if we want to access one or more rows we need to use the `.loc` or `.iloc` methods.\n",
    "\n",
    "So if we again have a DataFrame called `df` and a row called `‘Sample-1’` we can access it using `df.loc['Sample-1', df.columns]`.\n",
    "\n",
    "\n",
    "###### INPUT\n",
    "```python\n",
    "df.loc['Sample-1', df.columns]\n",
    "```\n",
    "\n",
    "###### Output\n",
    "```\n",
    "date mmddyy     40610.0000\n",
    "press dbar        239.8000\n",
    "temp ITS-90        18.9625\n",
    "csal PSS-78        35.0636\n",
    "coxy umol/kg           NaN\n",
    "ph                  7.9510\n",
    "Name: Sample-1, dtype: float64\n",
    "```\n",
    "\n",
    "Above return the all the column values for the row with the index 'Sample-1'.\n"
   ]
  },
  {
   "cell_type": "markdown",
   "id": "9b2729ae",
   "metadata": {},
   "source": [
    "### The `:` operator In Python\n",
    "\n",
    "In python the `:` operator is using for slicing ordered collection (e.g. lists). When used inside a bracket the : operator will return the range between the two values it is given. For example if we had a Python list x with the following values [‘a’, ‘b’, ‘c’, ‘d’, ‘e’] and wanted to select ‘b’, ‘c’, and ‘d’ we can do this very concisely using the : operator.\n",
    "\n",
    "###### INPUT\n",
    "```python\n",
    "x = ['a', 'b', 'c', 'd', 'e']\n",
    "x[2:5]\n",
    "```\n",
    "###### OUTPUT\n",
    "```\n",
    "['b', 'c', 'd']\n",
    "```\n",
    "\n",
    "The \":\" without any let of right values, returns all the elements of the array \n",
    "\n",
    "###### INPUT\n",
    "```python\n",
    "x = ['a', 'b', 'c', 'd', 'e']\n",
    "x[:]\n",
    "```\n",
    "###### OUTPUT\n",
    "```\n",
    "['a', 'b', 'c', 'd', 'e']\n",
    "```"
   ]
  },
  {
   "cell_type": "markdown",
   "id": "84a658bb",
   "metadata": {},
   "source": [
    "Note that in the previous indexing operation `df.columns` simply returned all the columns of the dataframe `df`. The \"`:`\" character is also often used a shortcut to mean the same thing. As such the two two following constructs:\n",
    "\n",
    "###### INPUT\n",
    "```python\n",
    "df.columns\n",
    "```\n",
    "\n",
    "###### Output\n",
    "```\n",
    "[\"date mmddyy\", \"press dbar\", \"temp ITS-90\", \"csal PSS-78\", \"coxy umol/kg\", \"ph\"]\n",
    "```\n",
    "\n",
    "As such, the indexing operation can also writting to use the slicing operator \":\"\n",
    "\n",
    "###### INPUT\n",
    "```python\n",
    "df.loc['Sample-1', :]\n",
    "```\n",
    "\n",
    "###### Output\n",
    "```\n",
    "date mmddyy     40610.0000\n",
    "press dbar        239.8000\n",
    "temp ITS-90        18.9625\n",
    "csal PSS-78        35.0636\n",
    "coxy umol/kg           NaN\n",
    "ph                  7.9510\n",
    "Name: Sample-1, dtype: float64\n",
    "```\n",
    "\n",
    "\n"
   ]
  },
  {
   "cell_type": "markdown",
   "id": "d19b31c0",
   "metadata": {},
   "source": [
    "As mentioned earlier, both `loc` and `iloc` can be used to select subset of a DataFrame. The key difference between `.loc` and `.iloc` is that `.loc` relies on the names of the indexes and headers while `.iloc` relies instead on the index and header number. \n",
    "\n",
    "If we were to use .iloc instead of .loc for the previous example and we know that ‘Sample-1’ is at index position 0 we would use df.iloc[0, :] and get the same result. You might notice that we also had to change df.columns to `:` when we used `.iloc` this is because `df.columns` provides the names of all the headers which is fine to do with `.loc` but not `.iloc`.\n",
    "\n",
    "###### INPUT\n",
    "\n",
    "```python\n",
    "df.iloc[0, :]\n",
    "```\n",
    "\n",
    "###### OUTPUT\n",
    "```bash\n",
    "date mmddyy     40610.0000\n",
    "press dbar        239.8000\n",
    "temp ITS-90        18.9625\n",
    "csal PSS-78        35.0636\n",
    "coxy umol/kg           NaN\n",
    "ph                  7.9510\n",
    "Name: Sample-1, dtype: float6"
   ]
  },
  {
   "cell_type": "markdown",
   "id": "69cb6a2d",
   "metadata": {},
   "source": [
    "### Selecting Columns and Rows Simultaneously\n",
    "\n",
    "As we saw previously, we can select one or more rows and/or columns to view. For example if we wanted to view the ‘ph’ entry of ‘Sample-1’ from the previous example we could use .loc in the following manner.\n",
    "\n",
    "\n",
    "###### INPUT\n",
    "\n",
    "```python\n",
    "df.loc['Sample-1', 'ph']\n",
    "```\n",
    "###### OUTPUT\n",
    "```bash\n",
    "7.951\n",
    "```\n",
    "\n",
    "If we wanted to select multiple columns e.g. both the ‘ph’ and ‘Longitude’ columns we can change the code bit to fit our needs.\n",
    "\n",
    "\n",
    "###### INPUT\n",
    "```python\n",
    "df.loc['Sample-1', ['ph', 'Longitude']]\n",
    "```\n",
    "###### OUTPUT\n",
    "```bash\n",
    "temp ITS-90    18.9625\n",
    "ph              7.9510\n",
    "Name: Sample-1, dtype: float64\n",
    "```"
   ]
  },
  {
   "cell_type": "markdown",
   "id": "164619d8",
   "metadata": {},
   "source": [
    "### Using .iloc\n",
    "\n",
    "* You can just as well use .iloc for the two examples above, but you will need to change the index and headers to their respective integer values i.e. the row number(s) and the header number(s).\n",
    "\n",
    "\n"
   ]
  },
  {
   "cell_type": "markdown",
   "id": "2875223e",
   "metadata": {},
   "source": [
    "### Subsetting\n",
    "\n",
    "Comparison operations (“<” , “>” , “==” , “>=” , “<=” , “!=”) can be applied to pandas Series and DataFrames in the same vectorized fashion as arithmetic operations except the returned object is a Series or DataFrame of booleans (either True or False).\n",
    "To start, let's focus on a single `DataFrame` to better understand how comparison operations work in Pandas. As an example lets say that we have a DataFrame like the one below stored in `df`.\n",
    "\n",
    "![image.png](https://change-hi.github.io/morea/data-wrangling/fig/E4_1_selection_dataframe.png)\n",
    "\n",
    "If we wanted to identify which of the above samples come from a depth above 380 we start by finding column ‘press dbar’ using a less than condition of 380.\n",
    "\n"
   ]
  },
  {
   "cell_type": "markdown",
   "id": "f1608190",
   "metadata": {},
   "source": [
    "###### INPUT\n",
    "```python\n",
    "df['press dbar'] < 380\n",
    "```\n",
    "###### OUTPUT\n",
    "```bash\n",
    "Sample ID\n",
    "Sample-1     True\n",
    "Sample-2     True\n",
    "Sample-3     True\n",
    "Sample-4     True\n",
    "Sample-5     True\n",
    "Sample-6    False\n",
    "Sample-7    False\n",
    "Sample-8    False\n",
    "Name: press dbar, dtype: bool\n",
    "```\n",
    "\n",
    "We can see that the first row and the last row are both True while the remaining rows are False and a quick look at the original data confirms that this is correct based on our condition. However, looking back at the original DataFrame is very tedious. If we instead want to view/save the rows that were found to have a depth < 380 we can either save the output Series to a variable and use that or directly place the previously used code within a bracket. Both methods are equivalent and shown below.\n",
    "\n",
    "\n",
    "\n",
    "###### INPUT\n",
    "```python\n",
    "good_rows = df['press dbar'] < 380\n",
    "df[good_rows]\n",
    "```\n",
    "Is equivalent to writing the following\n",
    "\n",
    "```python\n",
    "df[df['press dbar'] < 380]\n",
    "```\n",
    "\n",
    "###### OUTPUT\n",
    "```bash\n",
    "           date mmddyy  press dbar  temp ITS-90  csal PSS-78  coxy umol/kg     ph\n",
    "Sample ID                                                                        \n",
    "Sample-1         40610       239.8      18.9625      35.0636           NaN  7.951\n",
    "Sample-2         40610       280.7      16.1095      34.6103         192.3    NaN\n",
    "Sample-3         40610       320.1      12.9729      34.2475         190.8    NaN\n",
    "Sample-4         40610       341.3      11.9665      34.1884         191.3  7.780\n",
    "Sample-5         40610       360.1      11.3636      34.1709         203.5    NaN\n",
    "```\n",
    "\n",
    "It might seem strange that we don’t need to use .loc or .iloc despite the fact that we are selecting rows. This is due to the fact that the output of df['press dbar'] < 380 is a Pandas Series that contains information on the row and Pandas inherently assumes that when it is passed a boolean list like this that we want to select those rows that are True. A graphic example of this is shown below.\n",
    "\n",
    "![](https://change-hi.github.io/morea/data-wrangling/fig/E4_2_filter_dataframe.png)\n",
    "\n"
   ]
  },
  {
   "cell_type": "markdown",
   "id": "25450914",
   "metadata": {},
   "source": [
    "## Sorting\n",
    "\n",
    "There may also come a time when we want to see the data sorted by some criterion in order to explore potential patterns and order statistics of the entries based on a relation. For example, we might want to order a DataFrame by the depth that a sample was recovered from. Note: we can also sort the order of the columns based on their names\n",
    "\n",
    "There are two primary methods to sort a DataFrame either by the index or by a value. The index is rather straight forward, you use the method `sort_index()` to sort the DataFrame and provide an axis (0=row, 1=columns). We can reuse df and since the index is already sorted we can sort the order of the columns instead.\n",
    "\n",
    "###### INPUT\n",
    "```\n",
    "pythondf.sort_index(axis=1)\n",
    "```\n",
    "###### OUTPUT\n",
    "```\n",
    "           coxy umol/kg  csal PSS-78  date mmddyy     ph  press dbar  temp ITS-90\n",
    "Sample ID                                                                        \n",
    "Sample-1            NaN      35.0636        40610  7.951       239.8      18.9625\n",
    "Sample-2          192.3      34.6103        40610    NaN       280.7      16.1095\n",
    "Sample-3          190.8      34.2475        40610    NaN       320.1      12.9729\n",
    "Sample-4          191.3      34.1884        40610  7.780       341.3      11.9665\n",
    "Sample-5          203.5      34.1709        40610    NaN       360.1      11.3636\n",
    "Sample-6          193.7      34.1083        40610    NaN       385.0      10.4636\n",
    "Sample-7          156.5      34.0567        40610    NaN       443.7       8.5897\n",
    "Sample-8          110.7      34.0424        40610  7.496       497.8       7.1464\n",
    "```\n",
    "\n",
    "Here we can see that we’ve ordered the columns alphabetically.\n",
    "\n",
    "If we want to instead order the DataFrame based on the value in a particular column or row we instead use `sort_values()`. We can again use the pressure i.e. ‘press dbar’ column as an example and sort the rows by greatest to smallest pressure value.\n",
    "\n",
    "###### INPUT\n",
    "```\n",
    "df.sort_values(by='press dbar', axis=0, ascending=False)\n",
    "```\n",
    "###### OUTPUT\n",
    "```\n",
    "           date mmddyy  press dbar  temp ITS-90  csal PSS-78  coxy umol/kg     ph\n",
    "Sample ID                                                                        \n",
    "Sample-8         40610       497.8       7.1464      34.0424         110.7  7.496\n",
    "Sample-7         40610       443.7       8.5897      34.0567         156.5    NaN\n",
    "Sample-6         40610       385.0      10.4636      34.1083         193.7    NaN\n",
    "Sample-5         40610       360.1      11.3636      34.1709         203.5    NaN\n",
    "Sample-4         40610       341.3      11.9665      34.1884         191.3  7.780\n",
    "Sample-3         40610       320.1      12.9729      34.2475         190.8    NaN\n",
    "Sample-2         40610       280.7      16.1095      34.6103         192.3    NaN\n",
    "Sample-1         40610       239.8      18.9625      35.0636           NaN  7.951\n",
    "```"
   ]
  },
  {
   "cell_type": "markdown",
   "id": "45d0ddbb-81f6-49f4-b39d-63ed9f79489b",
   "metadata": {},
   "source": [
    "## Key Points\n",
    "\n",
    "* Select columns by using `[\"column name\"]` or rows by using the `loc` attribute.\n",
    "* Sort based on values in a column by using the `sort_values` method."
   ]
  },
  {
   "cell_type": "markdown",
   "id": "bff7ba47-f3bd-483a-833e-7b9cb4c912db",
   "metadata": {},
   "source": [
    "## 1 - Exercise: Conditional Subsetting and Sorting\n",
    "\n",
    "\n",
    "Try it yourself! Going back to our `20_sales_records.xlsx` file, idenitfy which orders are `Online` and `High Priority`\n",
    "\n",
    "* The `Sales Channel` column holds values for `Online` or `Offline` Status.\n",
    "* A `High Priority` order is denoted by `H` in the `Order Priority` column.\n",
    "* Sort these rows by `Units Sold` in `ascending` order"
   ]
  },
  {
   "cell_type": "code",
   "execution_count": null,
   "id": "0e53c14c-192e-48d6-962d-a2ba4f269019",
   "metadata": {},
   "outputs": [],
   "source": [
    "df = pd.read_excel('data/20_sales_records.xlsx')"
   ]
  },
  {
   "cell_type": "code",
   "execution_count": null,
   "id": "9495ac69-8a5a-4cdf-8e1d-725f0ce980dd",
   "metadata": {},
   "outputs": [],
   "source": [
    "df.<SUBSETTING METHOD HERE>[(<CONDITION 1 HERE>) & (<CONDITION 2 HERE>)].<SORT METHOD HERE>"
   ]
  },
  {
   "cell_type": "code",
   "execution_count": null,
   "id": "89ae38c9-e124-4cff-ab07-64cc8c4bfe84",
   "metadata": {},
   "outputs": [],
   "source": []
  },
  {
   "cell_type": "code",
   "execution_count": null,
   "id": "413c7ba2-8d30-49ef-a081-59455cc5b1f2",
   "metadata": {},
   "outputs": [],
   "source": []
  },
  {
   "cell_type": "code",
   "execution_count": null,
   "id": "efb8397f-aba7-463a-8221-c272f4625aa2",
   "metadata": {},
   "outputs": [],
   "source": []
  },
  {
   "cell_type": "code",
   "execution_count": null,
   "id": "3724fade-2048-4c7b-a172-42de09b2a783",
   "metadata": {},
   "outputs": [],
   "source": []
  },
  {
   "cell_type": "code",
   "execution_count": null,
   "id": "5916c84d-f2f9-4e2d-9707-6a9b95298394",
   "metadata": {},
   "outputs": [],
   "source": []
  },
  {
   "cell_type": "code",
   "execution_count": null,
   "id": "0da01825-7177-45c4-88d9-d2a2b0ac9d9b",
   "metadata": {},
   "outputs": [],
   "source": []
  },
  {
   "cell_type": "code",
   "execution_count": null,
   "id": "a4f68936-fb77-462a-a986-81b3376c9fd2",
   "metadata": {},
   "outputs": [],
   "source": []
  },
  {
   "cell_type": "code",
   "execution_count": null,
   "id": "5734b52c-c40f-4717-8ee9-add52bf478e6",
   "metadata": {},
   "outputs": [],
   "source": []
  },
  {
   "cell_type": "code",
   "execution_count": null,
   "id": "c0afafd0-3758-49cb-8d57-fe986c61cbe4",
   "metadata": {},
   "outputs": [],
   "source": []
  },
  {
   "cell_type": "code",
   "execution_count": null,
   "id": "1c6f2e43-4535-41fc-ad33-cc3e5fb153ab",
   "metadata": {},
   "outputs": [],
   "source": []
  },
  {
   "cell_type": "code",
   "execution_count": null,
   "id": "5f7a2cdc-fe01-44fe-a4a7-a317324248ff",
   "metadata": {},
   "outputs": [],
   "source": []
  },
  {
   "cell_type": "markdown",
   "id": "4399ae4c-40e9-4134-9761-3037663d9b6e",
   "metadata": {},
   "source": [
    "## Bio Break\n",
    "\n",
    "Let’s take a brief break before moving on to the final two lessons."
   ]
  },
  {
   "cell_type": "markdown",
   "id": "ea0727d0-6da1-4156-9543-f1f9a3e137f5",
   "metadata": {},
   "source": [
    "### Solutions"
   ]
  },
  {
   "cell_type": "code",
   "execution_count": 1,
   "id": "4f2c2c67-3958-47c1-9c70-defba80611a6",
   "metadata": {},
   "outputs": [],
   "source": [
    "### 1 - Exercise: Conditional Subsetting\n",
    "\n",
    "# df.loc[(df['Sales Channel'] == 'Online') & (df['Order Priority'] =='H')].sort_values(by='Units Sold')\n",
    "# Rows[10, 9, 7]"
   ]
  }
 ],
 "metadata": {
  "kernelspec": {
   "display_name": "Python 3 (ipykernel)",
   "language": "python",
   "name": "python3"
  },
  "language_info": {
   "codemirror_mode": {
    "name": "ipython",
    "version": 3
   },
   "file_extension": ".py",
   "mimetype": "text/x-python",
   "name": "python",
   "nbconvert_exporter": "python",
   "pygments_lexer": "ipython3",
   "version": "3.9.13"
  }
 },
 "nbformat": 4,
 "nbformat_minor": 5
}
